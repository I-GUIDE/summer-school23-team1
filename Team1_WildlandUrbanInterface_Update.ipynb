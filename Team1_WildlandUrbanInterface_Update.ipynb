{
  "cells": [
    {
      "cell_type": "markdown",
      "metadata": {
        "id": "1fe0d7e3-c1e7-48d2-b3de-f26102ee81a0"
      },
      "source": [
        "# Team 1: Characterizing the spatiotemporal changes of wildland-urban interface in the United States"
      ],
      "id": "1fe0d7e3-c1e7-48d2-b3de-f26102ee81a0"
    },
    {
      "cell_type": "markdown",
      "metadata": {
        "id": "f10e769a-1f4d-4d11-9a3d-a52be293b4fa"
      },
      "source": [
        "## Background"
      ],
      "id": "f10e769a-1f4d-4d11-9a3d-a52be293b4fa"
    },
    {
      "cell_type": "markdown",
      "metadata": {
        "id": "0b0f4968-fc23-4b97-a204-ccb7928418c1"
      },
      "source": [
        "The wildland-urban interface (WUI) indicates the interface areas between the urban environment and wilderness. WUI areas come with a large risk of wildfire, and with the increased migration and associated development, these WUI areas gain more fuel for wildfires to burn more intensely. The purpose of the project is to map WUI areas in the United States using current definitions and to apply the mapped WUI areas to characterize spatiotemporal changes by taking advantage of the advances in HPC, cyberGIS, machine learning, and/or big data. Examples of such changes could include the geographic extent of WUI areas, spatiotemporal trends of demographic factors, changes in wildfire activities over recent decades, and/or changes to vegetation and climate drivers of wildfire in WUI areas."
      ],
      "id": "0b0f4968-fc23-4b97-a204-ccb7928418c1"
    },
    {
      "cell_type": "markdown",
      "metadata": {
        "id": "c31f0ef3-53de-4f9c-8ad1-12073c329d59"
      },
      "source": [
        "## Motivation"
      ],
      "id": "c31f0ef3-53de-4f9c-8ad1-12073c329d59"
    },
    {
      "cell_type": "markdown",
      "metadata": {
        "id": "a25f3c38-0564-4016-8807-d4907501a9ab"
      },
      "source": [
        "Interactions between humans and nature has resulted in ongoing conflicts and considerations for the proper management of socio-ecological systems. On such conflict is the continual urbanization of land within the United States has led to increasing human encroachment into natural wildlands. The presence of WUIs has important implications for wildfire management, as these areas are at high risk of wildfires due to the large extent of flammable material and human activity (Li et al., 2022). Most wildfire disasters occur at the WUI"
      ],
      "id": "a25f3c38-0564-4016-8807-d4907501a9ab"
    },
    {
      "cell_type": "markdown",
      "metadata": {
        "id": "ea8a9f56-5d03-44af-b8f5-c63aab3f27d5"
      },
      "source": [
        "## Mapping and analyzing the Wildland Urban Interface through time"
      ],
      "id": "ea8a9f56-5d03-44af-b8f5-c63aab3f27d5"
    },
    {
      "cell_type": "markdown",
      "metadata": {
        "id": "5e281a72-5004-41e0-bcd3-98d63d6a8826"
      },
      "source": [
        "While the National Land Cover Database is available at 2-3 year intervals since 2000, the Microsoft Building Footprints are produced for a single point in time using modern imagery. To assess change in the Wildland Urban Interface as a timeseries, the team applied a novel approach to create a pseudo timeseries of building footprints.\n",
        "\n",
        "For each NLCD timestep, the Microsoft Buildings were masked if they were not included in NLCD developed classes. In general, there is strong correspondence between NLCD developed classes and building footprints in the contemporary datasets, lending confidence to using this methodology to produce the pseudo-timeseries. Future validation will be completed to further assess the appropriateness of this approach."
      ],
      "id": "5e281a72-5004-41e0-bcd3-98d63d6a8826"
    },
    {
      "cell_type": "markdown",
      "metadata": {
        "id": "52b1bb05-0cc5-4310-829b-19cbfcc1cec0"
      },
      "source": [
        "## Methodology Overview"
      ],
      "id": "52b1bb05-0cc5-4310-829b-19cbfcc1cec0"
    },
    {
      "cell_type": "markdown",
      "metadata": {
        "id": "d13d1849-88e3-4415-8f64-7b2a033ae343"
      },
      "source": [
        "**WUI Definitions:**\n",
        "Wildland Urban-Interface (WUI) Community exists where structures directly abut wildland fuels and the Intermix Community exists where structures are scattered throughout a wildland area.\n",
        "\n",
        "**WUI Criteria:**\n",
        "WUI area should meet requirements of a) intermix: high-density houses surrounded by high-density wildland vegetation (50% of vegetation area) or b) interface: high-density houses adjacent to, that is within 1.5 miles (2.4 km) of a large tract of contiguous wildland vegetation (75% of vegetation area).\n",
        "High-density housing is ≥ 1 house/40 acres (6.17 houses/km2 or 1 house/400m resolution grid cell)."
      ],
      "id": "d13d1849-88e3-4415-8f64-7b2a033ae343"
    },
    {
      "cell_type": "markdown",
      "metadata": {
        "id": "171d2996-7b1f-4338-80e8-8cd26dc15090"
      },
      "source": [
        "![Image Description](https://drive.google.com/uc?export=view&id=1t29wj0amfm_z_uFEeuiIxamHSzzY8gw8)"
      ],
      "id": "171d2996-7b1f-4338-80e8-8cd26dc15090"
    },
    {
      "cell_type": "markdown",
      "metadata": {
        "id": "7be6b0ed-443e-430e-85dc-79d9d351ba0e"
      },
      "source": [
        "For the purposes of our week-long project, we were only able to map the WUI intermix. Mapping the WUI on Google Earth Engine is very computationally intensive, particularly because vegetation is being mapped at a 30m by 30m resolution. Mapping the WUI interface will be postponed for further research."
      ],
      "id": "7be6b0ed-443e-430e-85dc-79d9d351ba0e"
    },
    {
      "cell_type": "markdown",
      "metadata": {
        "id": "af003f82-5e2f-480d-b750-b937ee2adc9a"
      },
      "source": [
        "## Import libraries and authenticate to Earth Engine"
      ],
      "id": "af003f82-5e2f-480d-b750-b937ee2adc9a"
    },
    {
      "cell_type": "code",
      "execution_count": null,
      "metadata": {
        "id": "a954a94b-3b60-488d-bea9-fb8d3e729aff"
      },
      "outputs": [],
      "source": [
        "# Must have Earth Engine account to authenticate\n",
        "import ee"
      ],
      "id": "a954a94b-3b60-488d-bea9-fb8d3e729aff"
    },
    {
      "cell_type": "code",
      "source": [
        "ee.Authenticate()\n",
        "ee.Initialize(project='rohan-wui-iguide')#Change project name as required"
      ],
      "metadata": {
        "id": "LWEtRq_s7Tqp"
      },
      "id": "LWEtRq_s7Tqp",
      "execution_count": null,
      "outputs": []
    },
    {
      "cell_type": "code",
      "source": [
        "!pip install -q geoplot\n",
        "!pip install -q pysal"
      ],
      "metadata": {
        "colab": {
          "base_uri": "https://localhost:8080/"
        },
        "id": "8sKafs2nACW1",
        "outputId": "211b8a5d-0976-471a-efd7-ebfa861cf207"
      },
      "id": "8sKafs2nACW1",
      "execution_count": null,
      "outputs": [
        {
          "output_type": "stream",
          "name": "stdout",
          "text": [
            "\u001b[2K     \u001b[90m━━━━━━━━━━━━━━━━━━━━━━━━━━━━━━━━━━━━━━━━\u001b[0m \u001b[32m11.8/11.8 MB\u001b[0m \u001b[31m81.9 MB/s\u001b[0m eta \u001b[36m0:00:00\u001b[0m\n",
            "\u001b[2K     \u001b[90m━━━━━━━━━━━━━━━━━━━━━━━━━━━━━━━━━━━━━━━━\u001b[0m \u001b[32m20.6/20.6 MB\u001b[0m \u001b[31m56.8 MB/s\u001b[0m eta \u001b[36m0:00:00\u001b[0m\n",
            "\u001b[2K     \u001b[90m━━━━━━━━━━━━━━━━━━━━━━━━━━━━━━━━━━━━━━━━\u001b[0m \u001b[32m2.8/2.8 MB\u001b[0m \u001b[31m6.2 MB/s\u001b[0m eta \u001b[36m0:00:00\u001b[0m\n",
            "\u001b[2K     \u001b[90m━━━━━━━━━━━━━━━━━━━━━━━━━━━━━━━━━━━━━━━━\u001b[0m \u001b[32m132.4/132.4 kB\u001b[0m \u001b[31m5.2 MB/s\u001b[0m eta \u001b[36m0:00:00\u001b[0m\n",
            "\u001b[2K     \u001b[90m━━━━━━━━━━━━━━━━━━━━━━━━━━━━━━━━━━━━━━━━\u001b[0m \u001b[32m61.1/61.1 kB\u001b[0m \u001b[31m7.1 MB/s\u001b[0m eta \u001b[36m0:00:00\u001b[0m\n",
            "\u001b[2K     \u001b[90m━━━━━━━━━━━━━━━━━━━━━━━━━━━━━━━━━━━━━━━━\u001b[0m \u001b[32m58.4/58.4 kB\u001b[0m \u001b[31m7.4 MB/s\u001b[0m eta \u001b[36m0:00:00\u001b[0m\n",
            "\u001b[2K     \u001b[90m━━━━━━━━━━━━━━━━━━━━━━━━━━━━━━━━━━━━━━━━\u001b[0m \u001b[32m141.3/141.3 kB\u001b[0m \u001b[31m5.9 MB/s\u001b[0m eta \u001b[36m0:00:00\u001b[0m\n",
            "\u001b[2K     \u001b[90m━━━━━━━━━━━━━━━━━━━━━━━━━━━━━━━━━━━━━━━━\u001b[0m \u001b[32m50.1/50.1 kB\u001b[0m \u001b[31m6.8 MB/s\u001b[0m eta \u001b[36m0:00:00\u001b[0m\n",
            "\u001b[2K     \u001b[90m━━━━━━━━━━━━━━━━━━━━━━━━━━━━━━━━━━━━━━━━\u001b[0m \u001b[32m47.9/47.9 kB\u001b[0m \u001b[31m6.0 MB/s\u001b[0m eta \u001b[36m0:00:00\u001b[0m\n",
            "\u001b[2K     \u001b[90m━━━━━━━━━━━━━━━━━━━━━━━━━━━━━━━━━━━━━━━━\u001b[0m \u001b[32m277.8/277.8 kB\u001b[0m \u001b[31m6.3 MB/s\u001b[0m eta \u001b[36m0:00:00\u001b[0m\n",
            "\u001b[2K     \u001b[90m━━━━━━━━━━━━━━━━━━━━━━━━━━━━━━━━━━━━━━━━\u001b[0m \u001b[32m41.4/41.4 kB\u001b[0m \u001b[31m5.1 MB/s\u001b[0m eta \u001b[36m0:00:00\u001b[0m\n",
            "\u001b[?25h  Preparing metadata (setup.py) ... \u001b[?25l\u001b[?25hdone\n",
            "\u001b[2K     \u001b[90m━━━━━━━━━━━━━━━━━━━━━━━━━━━━━━━━━━━━━━━━\u001b[0m \u001b[32m331.8/331.8 kB\u001b[0m \u001b[31m7.0 MB/s\u001b[0m eta \u001b[36m0:00:00\u001b[0m\n",
            "\u001b[2K     \u001b[90m━━━━━━━━━━━━━━━━━━━━━━━━━━━━━━━━━━━━━━━━\u001b[0m \u001b[32m5.7/5.7 MB\u001b[0m \u001b[31m8.5 MB/s\u001b[0m eta \u001b[36m0:00:00\u001b[0m\n",
            "\u001b[?25h  Preparing metadata (setup.py) ... \u001b[?25l\u001b[?25hdone\n",
            "\u001b[2K     \u001b[90m━━━━━━━━━━━━━━━━━━━━━━━━━━━━━━━━━━━━━━━━\u001b[0m \u001b[32m244.5/244.5 kB\u001b[0m \u001b[31m9.4 MB/s\u001b[0m eta \u001b[36m0:00:00\u001b[0m\n",
            "\u001b[2K     \u001b[90m━━━━━━━━━━━━━━━━━━━━━━━━━━━━━━━━━━━━━━━━\u001b[0m \u001b[32m214.8/214.8 kB\u001b[0m \u001b[31m9.5 MB/s\u001b[0m eta \u001b[36m0:00:00\u001b[0m\n",
            "\u001b[2K     \u001b[90m━━━━━━━━━━━━━━━━━━━━━━━━━━━━━━━━━━━━━━━━\u001b[0m \u001b[32m535.2/535.2 kB\u001b[0m \u001b[31m9.8 MB/s\u001b[0m eta \u001b[36m0:00:00\u001b[0m\n",
            "\u001b[2K     \u001b[90m━━━━━━━━━━━━━━━━━━━━━━━━━━━━━━━━━━━━━━━━\u001b[0m \u001b[32m17.7/17.7 MB\u001b[0m \u001b[31m12.4 MB/s\u001b[0m eta \u001b[36m0:00:00\u001b[0m\n",
            "\u001b[2K     \u001b[90m━━━━━━━━━━━━━━━━━━━━━━━━━━━━━━━━━━━━━━━━\u001b[0m \u001b[32m137.9/137.9 kB\u001b[0m \u001b[31m794.3 kB/s\u001b[0m eta \u001b[36m0:00:00\u001b[0m\n",
            "\u001b[?25h  Building wheel for spint (setup.py) ... \u001b[?25l\u001b[?25hdone\n",
            "  Building wheel for spvcm (setup.py) ... \u001b[?25l\u001b[?25hdone\n"
          ]
        }
      ]
    },
    {
      "cell_type": "code",
      "execution_count": null,
      "metadata": {
        "id": "gvVnh8urSQx8"
      },
      "outputs": [],
      "source": [
        "from ipywidgets import widgets\n",
        "from IPython.display import display\n",
        "from ipywidgets import Layout\n",
        "from ipywidgets import interact\n",
        "import geemap\n",
        "import pandas as pd\n",
        "import geopandas as gpd\n",
        "import matplotlib.pyplot as plt\n",
        "from shapely.geometry import shape\n",
        "import mapclassify as mc\n",
        "import geoplot as gplt\n",
        "import geoplot.crs as gcrs\n",
        "import matplotlib.pyplot as plt\n",
        "import pysal as ps\n",
        "import libpysal\n",
        "from splot.esda import plot_moran_bv\n",
        "from shapely.geometry import MultiPolygon\n",
        "import json"
      ],
      "id": "gvVnh8urSQx8"
    },
    {
      "cell_type": "markdown",
      "metadata": {
        "id": "0a50f756-624f-436b-90f5-f8845abf1e9e"
      },
      "source": [
        "## Mapping the Wildland Urban Interface"
      ],
      "id": "0a50f756-624f-436b-90f5-f8845abf1e9e"
    },
    {
      "cell_type": "markdown",
      "metadata": {
        "id": "s6hhZ-arLFSX"
      },
      "source": [
        "### Study Area"
      ],
      "id": "s6hhZ-arLFSX"
    },
    {
      "cell_type": "markdown",
      "metadata": {
        "id": "IOALw3xNJMqS"
      },
      "source": [
        "This code snippet defines the study area for WUI mapping."
      ],
      "id": "IOALw3xNJMqS"
    },
    {
      "cell_type": "code",
      "execution_count": null,
      "metadata": {
        "colab": {
          "base_uri": "https://localhost:8080/",
          "height": 17
        },
        "id": "xt-E3Gr8I6_3",
        "outputId": "1ff1a4b3-b60b-4e71-db83-ac4119b342bf"
      },
      "outputs": [
        {
          "output_type": "display_data",
          "data": {
            "text/plain": [
              "<IPython.core.display.HTML object>"
            ],
            "text/html": [
              "\n",
              "            <style>\n",
              "                .geemap-dark {\n",
              "                    --jp-widgets-color: white;\n",
              "                    --jp-widgets-label-color: white;\n",
              "                    --jp-ui-font-color1: white;\n",
              "                    --jp-layout-color2: #454545;\n",
              "                    background-color: #383838;\n",
              "                }\n",
              "                    \n",
              "                .geemap-dark .jupyter-button {\n",
              "                    --jp-layout-color3: #383838;\n",
              "                }\n",
              "                \n",
              "                .geemap-colab {\n",
              "                    background-color: var(--colab-primary-surface-color, white);\n",
              "                }\n",
              "                    \n",
              "                .geemap-colab .jupyter-button {\n",
              "                    --jp-layout-color3: var(--colab-primary-surface-color, white);\n",
              "                }\n",
              "            </style>\n",
              "            "
            ]
          },
          "metadata": {}
        }
      ],
      "source": [
        "states_fc = ee.FeatureCollection(\"TIGER/2018/States\")\n",
        "usa_feature_collection = ee.FeatureCollection(\"USDOS/LSIB_SIMPLE/2017\")\n",
        "usa = usa_feature_collection.filter(ee.Filter.eq('country_na', 'United States'))\n",
        "conusStates = states_fc.filter(ee.Filter.inList('STUSPS', ['AK', 'HI']).Not())\n",
        "conusGeometry = conusStates.geometry()\n",
        "\n",
        "#USER INPUT NEEDED\n",
        "Geometry = usa.geometry()"
      ],
      "id": "xt-E3Gr8I6_3"
    },
    {
      "cell_type": "markdown",
      "metadata": {
        "id": "a73f2e7d-c588-48db-8a78-b2c099917f8a"
      },
      "source": [
        "### Wildland Urban Intermix"
      ],
      "id": "a73f2e7d-c588-48db-8a78-b2c099917f8a"
    },
    {
      "cell_type": "markdown",
      "metadata": {
        "id": "396d3c4a-a795-499c-8384-deec0c43cc42"
      },
      "source": [
        "The **Intermix WUI** are areas with more than 6.17 buildings per km2 (or **one building per 40 acres**) and **a wildland vegetation area share of greater than or equal to 50%.**"
      ],
      "id": "396d3c4a-a795-499c-8384-deec0c43cc42"
    },
    {
      "cell_type": "markdown",
      "metadata": {
        "id": "6def9683-585d-44f1-aa7c-d63fd0317cde"
      },
      "source": [
        "#### Vegetation Layer"
      ],
      "id": "6def9683-585d-44f1-aa7c-d63fd0317cde"
    },
    {
      "cell_type": "markdown",
      "metadata": {
        "id": "itiojzpeESyQ"
      },
      "source": [
        "The code performs geospatial analysis on land cover data from the National Land Cover Database (NLCD) for the years. The available years are **2011, 2013, 2016, 2019**. This section takes the user input for the interested year."
      ],
      "id": "itiojzpeESyQ"
    },
    {
      "cell_type": "code",
      "execution_count": null,
      "metadata": {
        "colab": {
          "base_uri": "https://localhost:8080/",
          "height": 66,
          "referenced_widgets": [
            "e2c370c644554484b7d37f91475e4838",
            "75d8366ba7e448c88fe0bd51dfbe3360",
            "8303ffdcf7d04db2a32cab5abc8a878d"
          ]
        },
        "id": "6edGGpGz4UtP",
        "outputId": "146e544a-21be-4b32-85cf-44fa172755dc"
      },
      "outputs": [
        {
          "output_type": "display_data",
          "data": {
            "text/plain": [
              "<IPython.core.display.HTML object>"
            ],
            "text/html": [
              "\n",
              "            <style>\n",
              "                .geemap-dark {\n",
              "                    --jp-widgets-color: white;\n",
              "                    --jp-widgets-label-color: white;\n",
              "                    --jp-ui-font-color1: white;\n",
              "                    --jp-layout-color2: #454545;\n",
              "                    background-color: #383838;\n",
              "                }\n",
              "                    \n",
              "                .geemap-dark .jupyter-button {\n",
              "                    --jp-layout-color3: #383838;\n",
              "                }\n",
              "                \n",
              "                .geemap-colab {\n",
              "                    background-color: var(--colab-primary-surface-color, white);\n",
              "                }\n",
              "                    \n",
              "                .geemap-colab .jupyter-button {\n",
              "                    --jp-layout-color3: var(--colab-primary-surface-color, white);\n",
              "                }\n",
              "            </style>\n",
              "            "
            ]
          },
          "metadata": {}
        },
        {
          "output_type": "display_data",
          "data": {
            "text/plain": [
              "Text(value='', description='Year:', placeholder='Type the year here')"
            ],
            "application/vnd.jupyter.widget-view+json": {
              "version_major": 2,
              "version_minor": 0,
              "model_id": "e2c370c644554484b7d37f91475e4838"
            }
          },
          "metadata": {
            "application/vnd.jupyter.widget-view+json": {
              "colab": {
                "custom_widget_manager": {
                  "url": "https://ssl.gstatic.com/colaboratory-static/widgets/colab-cdn-widget-manager/2b70e893a8ba7c0f/manager.min.js"
                }
              }
            }
          }
        },
        {
          "output_type": "stream",
          "name": "stdout",
          "text": [
            "Using NLCD data for the year 2019.\n"
          ]
        }
      ],
      "source": [
        "text = widgets.Text(\n",
        "    value='',\n",
        "    placeholder='Type the year here',\n",
        "    description='Year:',\n",
        "    disabled=False\n",
        ")\n",
        "\n",
        "global user_year\n",
        "user_year = None\n",
        "\n",
        "display(text)\n",
        "\n",
        "def handle_text(sender):\n",
        "    global user_year\n",
        "    user_year = text.value\n",
        "    print(f'Using NLCD data for the year {user_year}.')\n",
        "\n",
        "text.on_submit(handle_text)"
      ],
      "id": "6edGGpGz4UtP"
    },
    {
      "cell_type": "markdown",
      "metadata": {
        "id": "1vCPdPkUFIAM"
      },
      "source": [
        "So, it imports the NLCD image and extracts its projection for future re-projection tasks. The `landcover` band from this NLCD image is then remapped to create a binary image (`veg_i`) representing \"natural\" vegetation. Specifically, it sets land use codes—**41 (Deciduous Forest), 42 (Evergreen Forest), 43 (Mixed Forest), 52 (Shrubland), and 71 (Grassland)—to 1**, while all other land cover types are set to 0."
      ],
      "id": "1vCPdPkUFIAM"
    },
    {
      "cell_type": "code",
      "execution_count": null,
      "metadata": {
        "colab": {
          "base_uri": "https://localhost:8080/",
          "height": 17
        },
        "id": "UdL0wFssFKPo",
        "outputId": "7c6fb0bc-5dbf-41fb-f340-99f5467f0140"
      },
      "outputs": [
        {
          "output_type": "display_data",
          "data": {
            "text/plain": [
              "<IPython.core.display.HTML object>"
            ],
            "text/html": [
              "\n",
              "            <style>\n",
              "                .geemap-dark {\n",
              "                    --jp-widgets-color: white;\n",
              "                    --jp-widgets-label-color: white;\n",
              "                    --jp-ui-font-color1: white;\n",
              "                    --jp-layout-color2: #454545;\n",
              "                    background-color: #383838;\n",
              "                }\n",
              "                    \n",
              "                .geemap-dark .jupyter-button {\n",
              "                    --jp-layout-color3: #383838;\n",
              "                }\n",
              "                \n",
              "                .geemap-colab {\n",
              "                    background-color: var(--colab-primary-surface-color, white);\n",
              "                }\n",
              "                    \n",
              "                .geemap-colab .jupyter-button {\n",
              "                    --jp-layout-color3: var(--colab-primary-surface-color, white);\n",
              "                }\n",
              "            </style>\n",
              "            "
            ]
          },
          "metadata": {}
        }
      ],
      "source": [
        "nlcd_i = ee.Image(f'USGS/NLCD_RELEASES/2019_REL/NLCD/{user_year}')\n",
        "projection = nlcd_i.projection()\n",
        "scale = projection.nominalScale()\n",
        "veg_i = nlcd_i.select('landcover').remap([41,42,43,52,71],[1, 1, 1, 1, 1],0)"
      ],
      "id": "UdL0wFssFKPo"
    },
    {
      "cell_type": "markdown",
      "metadata": {
        "id": "G_3LzL9SytXg"
      },
      "source": [
        "#### Moving Area Kernel"
      ],
      "id": "G_3LzL9SytXg"
    },
    {
      "cell_type": "markdown",
      "metadata": {
        "id": "d0Ru_-mWGG98"
      },
      "source": [
        "Subsequently, a circular kernel with a **radius of 226.195 meters** is defined for a **moving window analysis (same area as the square with side of 400.92 meters)**. The mean value of each neighborhood, defined by this kernel, is computed on the binary vegetation image. This newly generated image (`countCir`) is then reprojected to match the original NLCD image's projection. Finally, a threshold is applied to `countCir` to produce a binary image (`threshold50abv`) where **areas with at least 50% \"natural\" vegetation within the specified kernel are highlighted**."
      ],
      "id": "d0Ru_-mWGG98"
    },
    {
      "cell_type": "code",
      "execution_count": null,
      "metadata": {
        "id": "31e430ae-4052-4642-9331-a8faa6dcba37",
        "colab": {
          "base_uri": "https://localhost:8080/",
          "height": 17
        },
        "outputId": "e2cbb76a-ed7f-4e05-ef61-cad68ed40837"
      },
      "outputs": [
        {
          "output_type": "display_data",
          "data": {
            "text/plain": [
              "<IPython.core.display.HTML object>"
            ],
            "text/html": [
              "\n",
              "            <style>\n",
              "                .geemap-dark {\n",
              "                    --jp-widgets-color: white;\n",
              "                    --jp-widgets-label-color: white;\n",
              "                    --jp-ui-font-color1: white;\n",
              "                    --jp-layout-color2: #454545;\n",
              "                    background-color: #383838;\n",
              "                }\n",
              "                    \n",
              "                .geemap-dark .jupyter-button {\n",
              "                    --jp-layout-color3: #383838;\n",
              "                }\n",
              "                \n",
              "                .geemap-colab {\n",
              "                    background-color: var(--colab-primary-surface-color, white);\n",
              "                }\n",
              "                    \n",
              "                .geemap-colab .jupyter-button {\n",
              "                    --jp-layout-color3: var(--colab-primary-surface-color, white);\n",
              "                }\n",
              "            </style>\n",
              "            "
            ]
          },
          "metadata": {}
        }
      ],
      "source": [
        "# Defined kernel based on WUI definition and perform moving window (reduceNeighborhood)\n",
        "kernel = ee.Kernel.circle(226.195, 'meters')\n",
        "countCir = veg_i.reduceNeighborhood(reducer=ee.Reducer.mean(), kernel=kernel).reproject(crs=projection)\n",
        "threshold50abv = countCir.gte(0.5)"
      ],
      "id": "31e430ae-4052-4642-9331-a8faa6dcba37"
    },
    {
      "cell_type": "markdown",
      "metadata": {
        "id": "cc96b61a-9660-4a26-8925-082d1ac3ab34"
      },
      "source": [
        "#### Building Layer"
      ],
      "id": "cc96b61a-9660-4a26-8925-082d1ac3ab34"
    },
    {
      "cell_type": "markdown",
      "metadata": {
        "id": "jBiymeQ7owai"
      },
      "source": [
        "The National Land Cover Database (NLCD) image is remapped to create a binary image (`dev_i`) representing developed areas, the same way as we did the vegetation. The land use codes **21 (Developed, Open Space), 22 (Developed, Low Intensity), 23 (Developed, Medium Intensity), and 24 (Developed, High Intensity)** are remapped to the value of 1. All other land cover types that are not in the list are set to 0."
      ],
      "id": "jBiymeQ7owai"
    },
    {
      "cell_type": "code",
      "execution_count": null,
      "metadata": {
        "id": "e2QcWkarN0Jm",
        "colab": {
          "base_uri": "https://localhost:8080/",
          "height": 17
        },
        "outputId": "99ede7fa-9e17-4cb1-f9c5-258a8abb4192"
      },
      "outputs": [
        {
          "output_type": "display_data",
          "data": {
            "text/plain": [
              "<IPython.core.display.HTML object>"
            ],
            "text/html": [
              "\n",
              "            <style>\n",
              "                .geemap-dark {\n",
              "                    --jp-widgets-color: white;\n",
              "                    --jp-widgets-label-color: white;\n",
              "                    --jp-ui-font-color1: white;\n",
              "                    --jp-layout-color2: #454545;\n",
              "                    background-color: #383838;\n",
              "                }\n",
              "                    \n",
              "                .geemap-dark .jupyter-button {\n",
              "                    --jp-layout-color3: #383838;\n",
              "                }\n",
              "                \n",
              "                .geemap-colab {\n",
              "                    background-color: var(--colab-primary-surface-color, white);\n",
              "                }\n",
              "                    \n",
              "                .geemap-colab .jupyter-button {\n",
              "                    --jp-layout-color3: var(--colab-primary-surface-color, white);\n",
              "                }\n",
              "            </style>\n",
              "            "
            ]
          },
          "metadata": {}
        }
      ],
      "source": [
        "dev_i = nlcd_i.select('landcover').remap([21,22,23,24],[1, 1, 1, 1],0)"
      ],
      "id": "e2QcWkarN0Jm"
    },
    {
      "cell_type": "markdown",
      "metadata": {
        "id": "amKL4j9HPNi8"
      },
      "source": [
        "A function `get_state_image()` is defined to **convert Microsoft Buildings State Feature Collections to raster images**, reprojecting them to match the NLCD's resolution. The function **sets a property \"build\" with a value of 1** for each feature in the collection, and then reduces these features to an image using the **sum reducer**."
      ],
      "id": "amKL4j9HPNi8"
    },
    {
      "cell_type": "code",
      "execution_count": null,
      "metadata": {
        "id": "84q8x5HtPly6",
        "colab": {
          "base_uri": "https://localhost:8080/",
          "height": 17
        },
        "outputId": "90c54c3d-f96e-4f56-bb18-8d256b983de5"
      },
      "outputs": [
        {
          "output_type": "display_data",
          "data": {
            "text/plain": [
              "<IPython.core.display.HTML object>"
            ],
            "text/html": [
              "\n",
              "            <style>\n",
              "                .geemap-dark {\n",
              "                    --jp-widgets-color: white;\n",
              "                    --jp-widgets-label-color: white;\n",
              "                    --jp-ui-font-color1: white;\n",
              "                    --jp-layout-color2: #454545;\n",
              "                    background-color: #383838;\n",
              "                }\n",
              "                    \n",
              "                .geemap-dark .jupyter-button {\n",
              "                    --jp-layout-color3: #383838;\n",
              "                }\n",
              "                \n",
              "                .geemap-colab {\n",
              "                    background-color: var(--colab-primary-surface-color, white);\n",
              "                }\n",
              "                    \n",
              "                .geemap-colab .jupyter-button {\n",
              "                    --jp-layout-color3: var(--colab-primary-surface-color, white);\n",
              "                }\n",
              "            </style>\n",
              "            "
            ]
          },
          "metadata": {}
        }
      ],
      "source": [
        "def get_state_image(path):\n",
        "    fc = ee.FeatureCollection(path)\n",
        "    new_fc = fc.map(lambda feature: feature.set(\"build\", 1))\n",
        "    image_fc = new_fc.reduceToImage(\n",
        "        properties=['build'],\n",
        "        reducer=ee.Reducer.sum()\n",
        "    ).reproject(\n",
        "        crs=projection,\n",
        "        scale=scale\n",
        "    ).gt(0)\n",
        "    return image_fc"
      ],
      "id": "84q8x5HtPly6"
    },
    {
      "cell_type": "markdown",
      "metadata": {
        "id": "zjye86LvP_2O"
      },
      "source": [
        "The `run_state()` function performs a **moving window analysis using a circular kernel with a radius of 226.195 meters** on each state. It multiplies the developed areas (`dev_i`) with the state-specific building image (`st_image_fc`) to generate a new image (`year_building`). The function then **calculates the mean building density in each neighborhood** and produces a binary image (`dense_houses`)."
      ],
      "id": "zjye86LvP_2O"
    },
    {
      "cell_type": "code",
      "execution_count": null,
      "metadata": {
        "id": "w2K08aYuQjA9",
        "colab": {
          "base_uri": "https://localhost:8080/",
          "height": 17
        },
        "outputId": "e942ce97-622f-495d-f1b0-84fe6abb6708"
      },
      "outputs": [
        {
          "output_type": "display_data",
          "data": {
            "text/plain": [
              "<IPython.core.display.HTML object>"
            ],
            "text/html": [
              "\n",
              "            <style>\n",
              "                .geemap-dark {\n",
              "                    --jp-widgets-color: white;\n",
              "                    --jp-widgets-label-color: white;\n",
              "                    --jp-ui-font-color1: white;\n",
              "                    --jp-layout-color2: #454545;\n",
              "                    background-color: #383838;\n",
              "                }\n",
              "                    \n",
              "                .geemap-dark .jupyter-button {\n",
              "                    --jp-layout-color3: #383838;\n",
              "                }\n",
              "                \n",
              "                .geemap-colab {\n",
              "                    background-color: var(--colab-primary-surface-color, white);\n",
              "                }\n",
              "                    \n",
              "                .geemap-colab .jupyter-button {\n",
              "                    --jp-layout-color3: var(--colab-primary-surface-color, white);\n",
              "                }\n",
              "            </style>\n",
              "            "
            ]
          },
          "metadata": {}
        }
      ],
      "source": [
        "def run_state(folder):\n",
        "    path = folder[\"id\"]\n",
        "    st_name = path[45:]\n",
        "    state_f = ee.Feature(states_fc.filter(ee.Filter.eq('NAME', st_name)).first())\n",
        "    st_image_fc = get_state_image(path)\n",
        "    year_building = dev_i.multiply(st_image_fc)\n",
        "    kernel = ee.Kernel.circle(226.195, 'meters')\n",
        "    house_den = year_building.reduceNeighborhood(\n",
        "        reducer=ee.Reducer.mean(),\n",
        "        kernel=kernel,\n",
        "    ).reproject(\n",
        "        crs=projection,\n",
        "    )\n",
        "    dense_houses = house_den.gt(0)\n",
        "    return dense_houses"
      ],
      "id": "w2K08aYuQjA9"
    },
    {
      "cell_type": "markdown",
      "metadata": {
        "id": "tZbBEd4dQ8Xb"
      },
      "source": [
        "Finally, the code lists all assets in a specified open dataset containing **Microsoft Buildings data**, iterates over each state, and runs the `run_state()` function. The resulting images are then collected into an Image Collection and **reduced using the max reducer** to produce a **final 30-meter resolution binary image** (`buildings`) that **satisfies the Wildland-Urban Interface (WUI) building density definition** for each CONUS state."
      ],
      "id": "tZbBEd4dQ8Xb"
    },
    {
      "cell_type": "markdown",
      "metadata": {
        "id": "7TdXN1AvRmCQ"
      },
      "source": [
        ">  **High-density housing = 1 house per 160000 sq.mtrs**\n",
        "\n"
      ],
      "id": "7TdXN1AvRmCQ"
    },
    {
      "cell_type": "code",
      "execution_count": null,
      "metadata": {
        "id": "25489d2f-c4f2-44cf-a2db-9a279a646efa"
      },
      "outputs": [],
      "source": [
        "# Run functions above to generate Image Collection of 30m binary image of pixels that satisfy WUI building density definition for each state\n",
        "def list_ee_assets(folder):\n",
        "    return [asset['id'] for asset in ee.data.listAssets({'parent': folder})['assets']]\n",
        "\n",
        "buildings_dir = list_ee_assets('projects/sat-io/open-datasets/MSBuildings/US')\n",
        "buildings = []\n",
        "\n",
        "for i in buildings_dir:\n",
        "    new_layer = run_state({'id': i})\n",
        "    buildings.append(new_layer)\n",
        "\n",
        "buildings = ee.ImageCollection(buildings).reduce(ee.Reducer.max())"
      ],
      "id": "25489d2f-c4f2-44cf-a2db-9a279a646efa"
    },
    {
      "cell_type": "markdown",
      "metadata": {
        "id": "3c8c0919-e77a-44ad-b27b-7a65ea176e8e"
      },
      "source": [
        "#### Generating WUI Intermix"
      ],
      "id": "3c8c0919-e77a-44ad-b27b-7a65ea176e8e"
    },
    {
      "cell_type": "markdown",
      "metadata": {
        "id": "1b16abab-5455-46fe-bbd4-9872bc450e9f"
      },
      "source": [
        "This part transforms and filters the **wuimix** image to represent regions that meet both the **vegetation and building criteria** based on the **threshold50abv and buildings** images."
      ],
      "id": "1b16abab-5455-46fe-bbd4-9872bc450e9f"
    },
    {
      "cell_type": "code",
      "execution_count": null,
      "metadata": {
        "colab": {
          "base_uri": "https://localhost:8080/",
          "height": 17
        },
        "id": "ffe5eda4-2419-4fe1-a80e-2b3fb8719e6a",
        "outputId": "b5ee3f09-3a43-43be-f4c2-92fd585c3179"
      },
      "outputs": [
        {
          "data": {
            "text/html": [
              "\n",
              "            <style>\n",
              "                .geemap-dark {\n",
              "                    --jp-widgets-color: white;\n",
              "                    --jp-widgets-label-color: white;\n",
              "                    --jp-ui-font-color1: white;\n",
              "                    --jp-layout-color2: #454545;\n",
              "                    background-color: #383838;\n",
              "                }\n",
              "                    \n",
              "                .geemap-dark .jupyter-button {\n",
              "                    --jp-layout-color3: #383838;\n",
              "                }\n",
              "                \n",
              "                .geemap-colab {\n",
              "                    background-color: var(--colab-primary-surface-color, white);\n",
              "                }\n",
              "                    \n",
              "                .geemap-colab .jupyter-button {\n",
              "                    --jp-layout-color3: var(--colab-primary-surface-color, white);\n",
              "                }\n",
              "            </style>\n",
              "            "
            ],
            "text/plain": [
              "<IPython.core.display.HTML object>"
            ]
          },
          "metadata": {},
          "output_type": "display_data"
        }
      ],
      "source": [
        "# Generate output that satisfies both vegetation and building requirements of WUI definition\n",
        "wuimix = threshold50abv.multiply(buildings)\n",
        "mask = wuimix.eq(1)\n",
        "wuimix = wuimix.updateMask(mask)"
      ],
      "id": "ffe5eda4-2419-4fe1-a80e-2b3fb8719e6a"
    },
    {
      "cell_type": "markdown",
      "metadata": {
        "id": "_TV9VQluqtxZ"
      },
      "source": [
        "#### Export Result to Drive"
      ],
      "id": "_TV9VQluqtxZ"
    },
    {
      "cell_type": "markdown",
      "metadata": {
        "id": "RRvh_30txxr5"
      },
      "source": [
        "This part takes in the filename for the map to be saved in the user's Google Drive."
      ],
      "id": "RRvh_30txxr5"
    },
    {
      "cell_type": "code",
      "execution_count": null,
      "metadata": {
        "id": "a4ehlkKXrSay"
      },
      "outputs": [],
      "source": [
        "text = widgets.Text(\n",
        "    value='',\n",
        "    placeholder='Type the filename here (Eg: Example: - WUI_Intermix_2019)',\n",
        "    description='File Name:',\n",
        "    disabled=False\n",
        ")\n",
        "\n",
        "global fileName\n",
        "fileName = None\n",
        "\n",
        "display(text)\n",
        "\n",
        "def handle_text(sender):\n",
        "    global fileName\n",
        "    fileName = text.value\n",
        "    print(f'Storing as {fileName}.')\n",
        "\n",
        "text.on_submit(handle_text)"
      ],
      "id": "a4ehlkKXrSay"
    },
    {
      "cell_type": "markdown",
      "metadata": {
        "id": "8vaXJQR_wgl_"
      },
      "source": [
        "**Warning: Very Important: Pre-Run Instructions**\n",
        "\n",
        "Please carefully read the following instructions before running the next cell:\n",
        "\n",
        "1.   **Google Drive Folder**: Ensure that you have a folder named GoogleEarthEngine in your connected Google Drive.\n",
        "2.   **Changing the Folder**: If you wish to use a different folder, you can change the folder parameter in the code.\n",
        "3.   **Processing Time**: The time it takes to process the data may vary significantly depending on your chosen Study Area.\n",
        "\n",
        "\n",
        "        Example: Processing WUI Intermix data for the year 2019 for the CONUS (Contiguous United States) took approximately 8 hours."
      ],
      "id": "8vaXJQR_wgl_"
    },
    {
      "cell_type": "code",
      "execution_count": null,
      "metadata": {
        "id": "GfDWnl8nqnJk"
      },
      "outputs": [],
      "source": [
        "task = ee.batch.Export.image.toDrive(\n",
        "    image=interface_wui,\n",
        "    description=fileName,# Example: - WUI_Intermix_2019\n",
        "    folder='GoogleEarthEngine',\n",
        "    fileNamePrefix=fileName,\n",
        "    region=Geometry.getInfo()['coordinates'],\n",
        "    scale=int(scale.getInfo()),\n",
        "    maxPixels=1e13,\n",
        "    fileFormat='GeoTIFF'\n",
        ")\n",
        "\n",
        "task.start()"
      ],
      "id": "GfDWnl8nqnJk"
    },
    {
      "cell_type": "markdown",
      "source": [
        "Example: **WUI Intermix 2019**\n",
        "\n",
        "![WUIIntermix2019](https://drive.google.com/uc?export=view&id=1zU_3Ms01FrGoR35Ta0xJLLzQ0Jnwcdjo)"
      ],
      "metadata": {
        "id": "ujiWGZCSB2Ms"
      },
      "id": "ujiWGZCSB2Ms"
    },
    {
      "cell_type": "markdown",
      "metadata": {
        "id": "-cKVC6Liy87e"
      },
      "source": [
        "\n",
        "\n",
        "---\n",
        "\n"
      ],
      "id": "-cKVC6Liy87e"
    },
    {
      "cell_type": "markdown",
      "source": [],
      "metadata": {
        "id": "Cz6YSb3tJN12"
      },
      "id": "Cz6YSb3tJN12"
    },
    {
      "cell_type": "markdown",
      "metadata": {
        "id": "p5tFOrxv1AVD"
      },
      "source": [
        "### Wildland Urban Interface"
      ],
      "id": "p5tFOrxv1AVD"
    },
    {
      "cell_type": "markdown",
      "metadata": {
        "id": "Xm60fjI_CpEG"
      },
      "source": [
        "Interface WUI represents **settled areas that have less than 50% vegetation**, but **lie within 1.5 miles (2.4 km)** of a **densely vegetated area (at least 75% wildland vegetation)** that is at least **5 km2** in size."
      ],
      "id": "Xm60fjI_CpEG"
    },
    {
      "cell_type": "markdown",
      "metadata": {
        "id": "gygKDoR6EUfW"
      },
      "source": [
        "#### Lower Vegetation Surroundings"
      ],
      "id": "gygKDoR6EUfW"
    },
    {
      "cell_type": "markdown",
      "metadata": {
        "id": "TReKKtokyMTC"
      },
      "source": [
        "This section is designed to **identify areas with less than 50% vegetation** within a specific neighborhood around each pixel. It operates on an Earth Engine image (veg_i) that likely represents vegetation levels. The reduceNeighborhood() method calculates the mean vegetation level **within a circular neighborhood of radius 226.195 meters** around each pixel. The `.lt(0.5)` method creates a binary image, setting pixels to 1 where the mean vegetation level in the neighborhood is less than 50% (0.5) and 0 otherwise. The resulting image, `threshold50bel`, serves as a mask that highlights areas with less than 50% vegetation within the defined neighborhood."
      ],
      "id": "TReKKtokyMTC"
    },
    {
      "cell_type": "code",
      "execution_count": null,
      "metadata": {
        "id": "sz43S8kszIik"
      },
      "outputs": [],
      "source": [
        "# Identify areas with less than 50% vegetation\n",
        "threshold50bel = veg_i.reduceNeighborhood(\n",
        "    reducer=ee.Reducer.mean(),\n",
        "    kernel=ee.Kernel.circle(226.195, 'meters')\n",
        ").reproject(projection).lt(0.5)"
      ],
      "id": "sz43S8kszIik"
    },
    {
      "cell_type": "markdown",
      "metadata": {
        "id": "3rq8q9lBzVgS"
      },
      "source": [
        "This section performs multiplication to **identify building areas that are surrounded by less than 50% vegetation.** It multiplies two Earth Engine images: `threshold50bel` and `buildings`. The `threshold50bel` image is a binary mask that indicates areas with less than 50% vegetation. The `buildings` image represents the presence of densely distributed buildings."
      ],
      "id": "3rq8q9lBzVgS"
    },
    {
      "cell_type": "code",
      "execution_count": null,
      "metadata": {
        "id": "OaXklpAczKqv"
      },
      "outputs": [],
      "source": [
        "# Multiply with the buildings layer to isolate building areas with less than 50% vegetation\n",
        "less_veg_near_buildings = threshold50bel.multiply(buildings)"
      ],
      "id": "OaXklpAczKqv"
    },
    {
      "cell_type": "markdown",
      "metadata": {
        "id": "x6IlEjbtEbR2"
      },
      "source": [
        "#### Dense Vegetation Surroundings"
      ],
      "id": "x6IlEjbtEbR2"
    },
    {
      "cell_type": "markdown",
      "metadata": {
        "id": "iWKzRoHH1mXE"
      },
      "source": [
        "Here it identifies **areas with at least 75% vegetation within a 226.195-meter radius around each pixel**. It uses `reduceNeighborhood()` method on the `veg_i` image to calculate the mean vegetation level in each neighborhood and reprojects the image to a specific projection. The resulting image, `dense_vegetation`, is then thresholded and self-masked to isolate areas where the **mean vegetation level is greater than or equal to 75%**."
      ],
      "id": "iWKzRoHH1mXE"
    },
    {
      "cell_type": "code",
      "execution_count": null,
      "metadata": {
        "id": "Rn36KKUzzPQY"
      },
      "outputs": [],
      "source": [
        "# Identify Densely Vegetated Areas (at least 75% vegetation)\n",
        "dense_vegetation = veg_i.reduceNeighborhood(\n",
        "    reducer=ee.Reducer.mean(),\n",
        "    kernel=ee.Kernel.circle(226.195, 'meters')\n",
        ").reproject(projection).gte(0.75).selfMask()"
      ],
      "id": "Rn36KKUzzPQY"
    },
    {
      "cell_type": "markdown",
      "metadata": {
        "id": "6kw1-Stg2Ru5"
      },
      "source": [
        "It converts the **dense_vegetation image into a vector** format using Earth Engine's `reduceToVectors()` method. It opts for a **four-connected pixel neighborhood**."
      ],
      "id": "6kw1-Stg2Ru5"
    },
    {
      "cell_type": "markdown",
      "source": [
        "\n",
        "\n",
        "\n",
        "> **Please change the statecode based on which state you would like to map. Otherwise it will only work for Rhode Island**\n",
        "\n"
      ],
      "metadata": {
        "id": "W2rFSo31IioP"
      },
      "id": "W2rFSo31IioP"
    },
    {
      "cell_type": "code",
      "execution_count": null,
      "metadata": {
        "id": "CJ9sU7EAzQBU"
      },
      "outputs": [],
      "source": [
        "#Change the statecode based on which state you would like to map\n",
        "state = states_fc.filter(ee.Filter.eq('STUSPS', 'RI'));\n",
        "Geometry = state.geometry();\n",
        "# Convert to vector\n",
        "vectors = dense_vegetation.reduceToVectors(\n",
        "    geometry=Geometry,\n",
        "    geometryType='polygon',\n",
        "    eightConnected=False,\n",
        "    maxPixels=1e13\n",
        ")"
      ],
      "id": "CJ9sU7EAzQBU"
    },
    {
      "cell_type": "markdown",
      "metadata": {
        "id": "DcdRXHlvEtUg"
      },
      "source": [
        "#### Large Tracts"
      ],
      "id": "DcdRXHlvEtUg"
    },
    {
      "cell_type": "markdown",
      "metadata": {
        "id": "MzOAM7HW97Wr"
      },
      "source": [
        "The code filters the `vectors` object to **retain polygons with property greater than 5 km<sup>2**, creating `large_tracts`. It then converts these filtered polygons back into an image format using `reduceToImage()`, with the 'label' property determining pixel values. The resulting image is stored in `large_tracts_image`."
      ],
      "id": "MzOAM7HW97Wr"
    },
    {
      "cell_type": "code",
      "execution_count": null,
      "metadata": {
        "id": "Z1OYOoYozVQx"
      },
      "outputs": [],
      "source": [
        "# Filter large tracts\n",
        "large_tracts = vectors.filter(ee.Filter.gt('count', 5556))\n",
        "# Convert to image\n",
        "large_tracts_image = large_tracts.reduceToImage(\n",
        "    properties=['label'],\n",
        "    reducer=ee.Reducer.first()\n",
        ")"
      ],
      "id": "Z1OYOoYozVQx"
    },
    {
      "cell_type": "markdown",
      "metadata": {
        "id": "RKlPkq55Ez7P"
      },
      "source": [
        "#### Buffered Distance"
      ],
      "id": "RKlPkq55Ez7P"
    },
    {
      "cell_type": "markdown",
      "metadata": {
        "id": "9NsIycRTApGi"
      },
      "source": [
        "The code multiplies the `dense_vegetation` image with the `large_tracts_image`, generating `finalDenseVegetation` that combines both criteria. Then, **it creates a 2.4 km buffer around these areas** using `focal_max()` with an 80-pixel radius, resulting in `buffered_large_tracts`."
      ],
      "id": "9NsIycRTApGi"
    },
    {
      "cell_type": "code",
      "execution_count": null,
      "metadata": {
        "id": "D_0wmvr8zWF4"
      },
      "outputs": [],
      "source": [
        "# Multiply with original dense vegetation image\n",
        "finalDenseVegetation = dense_vegetation.multiply(large_tracts_image)\n",
        "# Create a 2.4 km buffer around the finalDenseVegetation areas\n",
        "buffered_large_tracts = finalDenseVegetation.focal_max(80, 'circle', 'pixels')"
      ],
      "id": "D_0wmvr8zWF4"
    },
    {
      "cell_type": "markdown",
      "metadata": {
        "id": "5RerW-pJE69H"
      },
      "source": [
        "#### Generating WUI Interface"
      ],
      "id": "5RerW-pJE69H"
    },
    {
      "cell_type": "markdown",
      "metadata": {
        "id": "9XuxQKvUBX1a"
      },
      "source": [
        "The code multiplies `less_veg_near_buildings` with `buffered_large_tracts`, isolating **dense building with less vegetation areas near the buffered high-vegetation tracts**. The result - `interface_wui`, is then self-masked to highlight these regions."
      ],
      "id": "9XuxQKvUBX1a"
    },
    {
      "cell_type": "code",
      "execution_count": null,
      "metadata": {
        "id": "z1EzQmVIzfLn"
      },
      "outputs": [],
      "source": [
        "# Combine these buffered areas with building areas having less than 50% vegetation\n",
        "interface_wui = less_veg_near_buildings.multiply(buffered_large_tracts).selfMask()"
      ],
      "id": "z1EzQmVIzfLn"
    },
    {
      "cell_type": "markdown",
      "metadata": {
        "id": "anwCk_xMCA_B"
      },
      "source": [
        "#### Export Result to Drive"
      ],
      "id": "anwCk_xMCA_B"
    },
    {
      "cell_type": "markdown",
      "metadata": {
        "id": "-Ibd5C9XCE0g"
      },
      "source": [
        "This part takes in the filename for the map to be saved in the user's Google Drive."
      ],
      "id": "-Ibd5C9XCE0g"
    },
    {
      "cell_type": "code",
      "execution_count": null,
      "metadata": {
        "id": "CXyPKm82B6hH"
      },
      "outputs": [],
      "source": [
        "text = widgets.Text(\n",
        "    value='',\n",
        "    placeholder='Type the filename here (Eg: Example: - WUI_Interface_2019)',\n",
        "    description='File Name:',\n",
        "    disabled=False\n",
        ")\n",
        "\n",
        "global fileName\n",
        "fileName = None\n",
        "\n",
        "display(text)\n",
        "\n",
        "def handle_text(sender):\n",
        "    global fileName\n",
        "    fileName = text.value\n",
        "    print(f'Storing as {fileName}.')\n",
        "\n",
        "text.on_submit(handle_text)"
      ],
      "id": "CXyPKm82B6hH"
    },
    {
      "cell_type": "markdown",
      "metadata": {
        "id": "YkKTQtYICMkO"
      },
      "source": [
        "**Warning: Very Important: Pre-Run Instructions**\n",
        "\n",
        "Please carefully read the following instructions before running the next cell:\n",
        "\n",
        "1.   **Google Drive Folder**: Ensure that you have a folder named GoogleEarthEngine in your connected Google Drive.\n",
        "2.   **Changing the Folder**: If you wish to use a different folder, you can change the folder parameter in the code.\n",
        "3.   **Processing Time**: The time it takes to process the data may vary significantly depending on your chosen Study Area.\n",
        "\n",
        "\n",
        "        Example: Processing WUI Interface data for the year 2019 for the CONUS (Contiguous United States) took approximately 15 days for all the states together."
      ],
      "id": "YkKTQtYICMkO"
    },
    {
      "cell_type": "code",
      "execution_count": null,
      "metadata": {
        "id": "GGV9ZMSnzkQ5"
      },
      "outputs": [],
      "source": [
        "task = ee.batch.Export.image.toDrive(\n",
        "    image=interface_wui,\n",
        "    description=fileName,# Example: - WUI_Interface_2019\n",
        "    folder='GoogleEarthEngine',\n",
        "    fileNamePrefix=fileName,\n",
        "    region=Geometry.getInfo()['coordinates'],\n",
        "    scale=int(scale.getInfo()),\n",
        "    maxPixels=1e13,\n",
        "    fileFormat='GeoTIFF'\n",
        ")\n",
        "\n",
        "task.start()"
      ],
      "id": "GGV9ZMSnzkQ5"
    },
    {
      "cell_type": "markdown",
      "source": [
        "Example: **WUI Interface 2019**\n",
        "\n",
        "![WUIInterface2019](https://drive.google.com/uc?export=view&id=1zP36w48kaoBiUD8ay8RLm6PB1QbQR1a4)\n",
        "\n"
      ],
      "metadata": {
        "id": "_NQSFsnvDkA1"
      },
      "id": "_NQSFsnvDkA1"
    },
    {
      "cell_type": "markdown",
      "source": [
        "## Validation"
      ],
      "metadata": {
        "id": "4DVSXbtaMN_y"
      },
      "id": "4DVSXbtaMN_y"
    },
    {
      "cell_type": "markdown",
      "source": [
        "Example: **WUI 2019**\n",
        "\n",
        "![WUI2019](https://drive.google.com/uc?export=view&id=1r1ZH0SFRhxI6hvLcFT2p5n-w0h3Syx2W)"
      ],
      "metadata": {
        "id": "w3UZUGJ0Josm"
      },
      "id": "w3UZUGJ0Josm"
    },
    {
      "cell_type": "markdown",
      "source": [
        "For validation purposes, we **overlayed the Rhode Island** result with prevalent sources. The map on the **left** hand side is **from SILVIS lab**. We used this to appraise our results. ***The SILVIS map is based on Block group geometry***. When overlayed, it shows us that our results have **identified WUI areas correctly** in the given polygons **at a much finer scale.**\n",
        "\n",
        "\n",
        "\n",
        "> **Note**: The polygons on the right side has gotten removed while clipping the datasets to improve computation time through batch processing of the states. Please refer to the right side of the state only.\n",
        "\n"
      ],
      "metadata": {
        "id": "7wp0xAPmTqtU"
      },
      "id": "7wp0xAPmTqtU"
    },
    {
      "cell_type": "markdown",
      "source": [
        "![RI](https://drive.google.com/uc?export=view&id=1hfIu0cn6q6iPzl-gLan8oKXNWfqr3f5Y)\n"
      ],
      "metadata": {
        "id": "nEnLe8ObTfEl"
      },
      "id": "nEnLe8ObTfEl"
    },
    {
      "cell_type": "markdown",
      "metadata": {
        "id": "3dfa954b-a66e-44f7-b514-4604befc4ab1"
      },
      "source": [
        "## Exploratory Data Analysis"
      ],
      "id": "3dfa954b-a66e-44f7-b514-4604befc4ab1"
    },
    {
      "cell_type": "markdown",
      "metadata": {
        "id": "u2ttWRcjbMH3"
      },
      "source": [
        "In this section, we'll dive into exploratory data analysis. To proceed, please ** upload the WUI** (Wildland-Urban Interface) maps you've generated from the previous code blocks into your **Earth Engine Assets**. Once uploaded, enter the corresponding asset paths in the designated area of the code.\n",
        "\n",
        "**Note**: If you haven't generated your own WUI maps or prefer to use pre-existing resources, the default paths are set to point to **WUI maps created by the IGUIDE team**."
      ],
      "id": "u2ttWRcjbMH3"
    },
    {
      "cell_type": "markdown",
      "metadata": {
        "id": "Qa5exJrrTBoL"
      },
      "source": [
        "### Load Generated Maps"
      ],
      "id": "Qa5exJrrTBoL"
    },
    {
      "cell_type": "code",
      "execution_count": null,
      "metadata": {
        "colab": {
          "base_uri": "https://localhost:8080/",
          "height": 495,
          "referenced_widgets": [
            "c865bb71dde94008824e5d01d4c4458b",
            "3bd554ccd26d4c4abfa2f1930e797175",
            "69cfe452c352418286d65a02ba0cb4e1",
            "2fcf590ee74c49feaf038048c004138d",
            "1871ec8f3d444d47a0388062601652cd",
            "91528071fa1c420f84c0b1705f4f1fe3",
            "bc0e05b085544b579625a87ba359d07e",
            "1046d47e532c43618d18bae8823f4d36",
            "fa923c4031e44e5c84476ca0c5c2adc5",
            "7e618f984bbe4fadac1d681e694fedab",
            "ff40cca6011d44ac89787f8021a4762a",
            "8b604aa67d8946eab7c7042d7dc4365a",
            "65e88dcff877402886b8ef739f8008dd",
            "dd0453046f9444cca6b1a0e8646a91b9",
            "3864e35a704e445d90f5a8398720391e",
            "16c2da597c0f4b958c91aae712a5c2e4",
            "147f61329e89442dbc5107dfbf508b43"
          ]
        },
        "id": "T4konKqKOMee",
        "outputId": "7348751d-bccf-4dea-b1d8-3ee519e91149"
      },
      "outputs": [
        {
          "output_type": "display_data",
          "data": {
            "text/plain": [
              "<IPython.core.display.HTML object>"
            ],
            "text/html": [
              "\n",
              "            <style>\n",
              "                .geemap-dark {\n",
              "                    --jp-widgets-color: white;\n",
              "                    --jp-widgets-label-color: white;\n",
              "                    --jp-ui-font-color1: white;\n",
              "                    --jp-layout-color2: #454545;\n",
              "                    background-color: #383838;\n",
              "                }\n",
              "                    \n",
              "                .geemap-dark .jupyter-button {\n",
              "                    --jp-layout-color3: #383838;\n",
              "                }\n",
              "                \n",
              "                .geemap-colab {\n",
              "                    background-color: var(--colab-primary-surface-color, white);\n",
              "                }\n",
              "                    \n",
              "                .geemap-colab .jupyter-button {\n",
              "                    --jp-layout-color3: var(--colab-primary-surface-color, white);\n",
              "                }\n",
              "            </style>\n",
              "            "
            ]
          },
          "metadata": {}
        },
        {
          "output_type": "stream",
          "name": "stdout",
          "text": [
            "Enter the EE Assets Path for respective maps:\n",
            "\n"
          ]
        },
        {
          "output_type": "display_data",
          "data": {
            "text/plain": [
              "Text(value='', description='WUI_Intermix2019:', layout=Layout(width='450px'), placeholder='projects/dri-apps/a…"
            ],
            "application/vnd.jupyter.widget-view+json": {
              "version_major": 2,
              "version_minor": 0,
              "model_id": "c865bb71dde94008824e5d01d4c4458b"
            }
          },
          "metadata": {
            "application/vnd.jupyter.widget-view+json": {
              "colab": {
                "custom_widget_manager": {
                  "url": "https://ssl.gstatic.com/colaboratory-static/widgets/colab-cdn-widget-manager/2b70e893a8ba7c0f/manager.min.js"
                }
              }
            }
          }
        },
        {
          "output_type": "display_data",
          "data": {
            "text/plain": [
              "Text(value='', description='WUI_Intermix2016:', layout=Layout(width='450px'), placeholder='projects/dri-apps/a…"
            ],
            "application/vnd.jupyter.widget-view+json": {
              "version_major": 2,
              "version_minor": 0,
              "model_id": "2fcf590ee74c49feaf038048c004138d"
            }
          },
          "metadata": {
            "application/vnd.jupyter.widget-view+json": {
              "colab": {
                "custom_widget_manager": {
                  "url": "https://ssl.gstatic.com/colaboratory-static/widgets/colab-cdn-widget-manager/2b70e893a8ba7c0f/manager.min.js"
                }
              }
            }
          }
        },
        {
          "output_type": "display_data",
          "data": {
            "text/plain": [
              "Text(value='', description='WUI_Intermix2013:', layout=Layout(width='450px'), placeholder='projects/dri-apps/a…"
            ],
            "application/vnd.jupyter.widget-view+json": {
              "version_major": 2,
              "version_minor": 0,
              "model_id": "8b604aa67d8946eab7c7042d7dc4365a"
            }
          },
          "metadata": {
            "application/vnd.jupyter.widget-view+json": {
              "colab": {
                "custom_widget_manager": {
                  "url": "https://ssl.gstatic.com/colaboratory-static/widgets/colab-cdn-widget-manager/2b70e893a8ba7c0f/manager.min.js"
                }
              }
            }
          }
        },
        {
          "output_type": "display_data",
          "data": {
            "text/plain": [
              "Text(value='', description='WUI_Intermix2011:', layout=Layout(width='450px'), placeholder='projects/dri-apps/a…"
            ],
            "application/vnd.jupyter.widget-view+json": {
              "version_major": 2,
              "version_minor": 0,
              "model_id": "65e88dcff877402886b8ef739f8008dd"
            }
          },
          "metadata": {
            "application/vnd.jupyter.widget-view+json": {
              "colab": {
                "custom_widget_manager": {
                  "url": "https://ssl.gstatic.com/colaboratory-static/widgets/colab-cdn-widget-manager/2b70e893a8ba7c0f/manager.min.js"
                }
              }
            }
          }
        },
        {
          "output_type": "display_data",
          "data": {
            "text/plain": [
              "Text(value='', description='WUI_Interface2019:', layout=Layout(width='450px'), placeholder='projects/rohan-wui…"
            ],
            "application/vnd.jupyter.widget-view+json": {
              "version_major": 2,
              "version_minor": 0,
              "model_id": "dd0453046f9444cca6b1a0e8646a91b9"
            }
          },
          "metadata": {
            "application/vnd.jupyter.widget-view+json": {
              "colab": {
                "custom_widget_manager": {
                  "url": "https://ssl.gstatic.com/colaboratory-static/widgets/colab-cdn-widget-manager/2b70e893a8ba7c0f/manager.min.js"
                }
              }
            }
          }
        },
        {
          "output_type": "display_data",
          "data": {
            "text/plain": [
              "Text(value='', description='WUI_Interface2016:', layout=Layout(width='450px'), placeholder='projects/rohan-wui…"
            ],
            "application/vnd.jupyter.widget-view+json": {
              "version_major": 2,
              "version_minor": 0,
              "model_id": "3864e35a704e445d90f5a8398720391e"
            }
          },
          "metadata": {
            "application/vnd.jupyter.widget-view+json": {
              "colab": {
                "custom_widget_manager": {
                  "url": "https://ssl.gstatic.com/colaboratory-static/widgets/colab-cdn-widget-manager/2b70e893a8ba7c0f/manager.min.js"
                }
              }
            }
          }
        },
        {
          "output_type": "display_data",
          "data": {
            "text/plain": [
              "Text(value='', description='WUI_Interface2013:', layout=Layout(width='450px'), placeholder='projects/rohan-wui…"
            ],
            "application/vnd.jupyter.widget-view+json": {
              "version_major": 2,
              "version_minor": 0,
              "model_id": "16c2da597c0f4b958c91aae712a5c2e4"
            }
          },
          "metadata": {
            "application/vnd.jupyter.widget-view+json": {
              "colab": {
                "custom_widget_manager": {
                  "url": "https://ssl.gstatic.com/colaboratory-static/widgets/colab-cdn-widget-manager/2b70e893a8ba7c0f/manager.min.js"
                }
              }
            }
          }
        },
        {
          "output_type": "display_data",
          "data": {
            "text/plain": [
              "Text(value='', description='WUI_Interface2011:', layout=Layout(width='450px'), placeholder='projects/rohan-wui…"
            ],
            "application/vnd.jupyter.widget-view+json": {
              "version_major": 2,
              "version_minor": 0,
              "model_id": "147f61329e89442dbc5107dfbf508b43"
            }
          },
          "metadata": {
            "application/vnd.jupyter.widget-view+json": {
              "colab": {
                "custom_widget_manager": {
                  "url": "https://ssl.gstatic.com/colaboratory-static/widgets/colab-cdn-widget-manager/2b70e893a8ba7c0f/manager.min.js"
                }
              }
            }
          }
        },
        {
          "output_type": "stream",
          "name": "stdout",
          "text": [
            "\n",
            "Captured values:\n",
            "\n",
            "WUI_Intermix2019: projects/dri-apps/assets/iguide-team1/intermix2019\n",
            "WUI_Intermix2016: projects/dri-apps/assets/iguide-team1/intermix2016\n",
            "WUI_Intermix2013: projects/dri-apps/assets/iguide-team1/intermix\n",
            "WUI_Intermix2011: projects/dri-apps/assets/iguide-team1/intermix2011\n",
            "WUI_Interface2019: projects/rohan-wui-iguide/assets/WUI_interface_2019\n",
            "WUI_Interface2016: projects/rohan-wui-iguide/assets/WUI_2016_interface_final\n",
            "WUI_Interface2013: projects/rohan-wui-iguide/assets/WUI_interface_2013\n",
            "WUI_Interface2011: projects/rohan-wui-iguide/assets/WUI_interface_2011\n"
          ]
        }
      ],
      "source": [
        "# Default paths\n",
        "default_values = {\n",
        "    'WUI_Intermix2019': 'projects/dri-apps/assets/iguide-team1/intermix2019',\n",
        "    'WUI_Intermix2016': 'projects/dri-apps/assets/iguide-team1/intermix2016',\n",
        "    'WUI_Intermix2013': 'projects/dri-apps/assets/iguide-team1/intermix',\n",
        "    'WUI_Intermix2011': 'projects/rohan-wui-iguide/assets/WUI_intermix_2011',#projects/dri-apps/assets/iguide-team1/intermix2011\n",
        "    'WUI_Interface2019': 'projects/rohan-wui-iguide/assets/WUI_interface_2019',\n",
        "    'WUI_Interface2016': 'projects/rohan-wui-iguide/assets/WUI_2016_interface_final',\n",
        "    'WUI_Interface2013': 'projects/rohan-wui-iguide/assets/WUI_interface_2013',\n",
        "    'WUI_Interface2011': 'projects/rohan-wui-iguide/assets/WUI_interface_2011',\n",
        "}\n",
        "print(\"Enter the EE Assets Path for respective maps:\\n\")\n",
        "text_layout = Layout(width= \"450px\")\n",
        "description_layout = Layout(width= \"300px\")\n",
        "text_widgets = {key: widgets.Text(\n",
        "                    placeholder=value,\n",
        "                    description=f'{key}:',\n",
        "                    disabled=False,\n",
        "                    layout=text_layout,\n",
        "                    style={'description_width': 'initial'}\n",
        "                )\n",
        "                for key, value in default_values.items()}\n",
        "global user_values\n",
        "user_values = {}\n",
        "def on_submit(sender):\n",
        "\n",
        "    for key, widget in text_widgets.items():\n",
        "        user_value = widget.value if widget.value else default_values[key]  # Use default if empty\n",
        "        user_values[key] = user_value\n",
        "    print(\"\\nCaptured values:\\n\")\n",
        "    for key, value in user_values.items():\n",
        "        print(f\"{key}: {value}\")\n",
        "\n",
        "for widget in text_widgets.values():\n",
        "    widget.on_submit(on_submit)\n",
        "\n",
        "for widget in text_widgets.values():\n",
        "    display(widget)"
      ],
      "id": "T4konKqKOMee"
    },
    {
      "cell_type": "markdown",
      "metadata": {
        "id": "7t1iVTcECJBL"
      },
      "source": [
        "This code obtains the combined binary layer for each year for **areas having WUI intermix or WUI Interface areas.**"
      ],
      "id": "7t1iVTcECJBL"
    },
    {
      "cell_type": "code",
      "execution_count": null,
      "metadata": {
        "colab": {
          "base_uri": "https://localhost:8080/",
          "height": 17
        },
        "id": "HZcazxWBCGYV",
        "outputId": "67aefc7d-37d4-4ea7-9ef1-cad115c9622f"
      },
      "outputs": [
        {
          "output_type": "display_data",
          "data": {
            "text/plain": [
              "<IPython.core.display.HTML object>"
            ],
            "text/html": [
              "\n",
              "            <style>\n",
              "                .geemap-dark {\n",
              "                    --jp-widgets-color: white;\n",
              "                    --jp-widgets-label-color: white;\n",
              "                    --jp-ui-font-color1: white;\n",
              "                    --jp-layout-color2: #454545;\n",
              "                    background-color: #383838;\n",
              "                }\n",
              "                    \n",
              "                .geemap-dark .jupyter-button {\n",
              "                    --jp-layout-color3: #383838;\n",
              "                }\n",
              "                \n",
              "                .geemap-colab {\n",
              "                    background-color: var(--colab-primary-surface-color, white);\n",
              "                }\n",
              "                    \n",
              "                .geemap-colab .jupyter-button {\n",
              "                    --jp-layout-color3: var(--colab-primary-surface-color, white);\n",
              "                }\n",
              "            </style>\n",
              "            "
            ]
          },
          "metadata": {}
        }
      ],
      "source": [
        "TotalWUI2011 = ee.ImageCollection(user_values[\"WUI_Intermix2011\"]).mosaic().add(ee.Image(user_values[\"WUI_Interface2011\"])).selfMask()\n",
        "TotalWUI2013 = ee.ImageCollection(user_values[\"WUI_Intermix2013\"]).mosaic().add(ee.Image(user_values[\"WUI_Interface2013\"])).selfMask()\n",
        "TotalWUI2016 = ee.ImageCollection(user_values[\"WUI_Intermix2016\"]).mosaic().add(ee.Image(user_values[\"WUI_Interface2016\"])).selfMask()\n",
        "TotalWUI2019 = ee.ImageCollection(user_values[\"WUI_Intermix2019\"]).mosaic().add(ee.Image(user_values[\"WUI_Interface2019\"])).selfMask()"
      ],
      "id": "HZcazxWBCGYV"
    },
    {
      "cell_type": "markdown",
      "metadata": {
        "id": "nIQZHJFCw16k"
      },
      "source": [
        "### Temporal Pattern Year Slider"
      ],
      "id": "nIQZHJFCw16k"
    },
    {
      "cell_type": "markdown",
      "source": [
        "**Year Slider Example Use**\n",
        "![picture](https://drive.google.com/uc?export=view&id=1IEGkSaAemGT4SMKvpv7tOh75Q5aP8EHH)"
      ],
      "metadata": {
        "id": "fFrrPLEh_nTL"
      },
      "id": "fFrrPLEh_nTL"
    },
    {
      "cell_type": "code",
      "execution_count": null,
      "metadata": {
        "colab": {
          "base_uri": "https://localhost:8080/",
          "height": 649,
          "referenced_widgets": [
            "ab64018317d44c36b80765cfe51793ac",
            "d5e5df450a7d45cda8d1c9e9a4e1597b",
            "18fd70e362634b6c9e0a6c6733018925",
            "7b14278eaf35424ea4438d322269cbd3",
            "f56578fd21094eb8ad38ca9fedc0f464",
            "e8ff96a594534ce1a76482ce06500e4c",
            "33e47c60f606472d879cc58b7ad7012b",
            "7b35979e883245e5bd20e12d7eaf05a0",
            "021fa93a19cd46ca85788f22d257f3c2",
            "b4a77a74cae643c289d7db79e1a05b32",
            "7d441a55ff2744ba93fb080c06acc23b",
            "901e17f54d094dca9dab5ea69645f582",
            "6b68787ced0343f4b2d1720d6874b511",
            "ccbda036c76245a3bf1ec2ab6b22f271",
            "62eace5cfc1f4bd4868c6a679a8bb360",
            "a6c306f387254b82a1509812d88d1306",
            "b32fa1ec0972418397a3629a533ab1e3",
            "74d61d4e962a424cafcb112a1c6d16b8",
            "2419c17b3fcc45aabf6a7de66f440640",
            "5eb4060e5c924a7abea9a758105afd86",
            "825884e05415475ebf4fd5cfc392e56d",
            "7c3357bd37164b84a635b0db83a868a7",
            "4521250d681742278f60eb00a89335be",
            "cdce3dacabc743bca75b9bde570f632b",
            "81a87bc2d3f94496add46aea929cf343",
            "5d027920f28b44869260ce1b777e56c0",
            "d1f5667980cb44f199bad2e38971fd55",
            "5b6a2b4702264ac5b2bd843546718c0e",
            "fa40e8999ee54e1d8e6152882581030f",
            "afb80b59e4f64798836b71d34202ba3c",
            "b1314f6dd11045119192850f85b075af",
            "ffabbf3547d94edc87dcb2141da8593c",
            "183a9b970ee040e5b02b80941b88499d",
            "901023feefc3430ebf936b0991ba3dc7",
            "3ff7e335d40d4ce7a50ea450acd8bbc8",
            "2223d5b340504f868b84b99c2934d4d6",
            "bc5462806ffe468a987d1298fdd78722",
            "0f5c6dea50fc4f19b61f78e25ac118d7",
            "2954a0015e5f424f88d517da621f139c",
            "bfeac746264f4265ac11bc520c3eb823",
            "e07b630c726242179304c2eefdc337e2"
          ]
        },
        "id": "DKYstCZkeNXd",
        "outputId": "7ee8d53c-efe1-45ce-bd8b-9081e2c46fbf"
      },
      "outputs": [
        {
          "output_type": "display_data",
          "data": {
            "text/plain": [
              "<IPython.core.display.HTML object>"
            ],
            "text/html": [
              "\n",
              "            <style>\n",
              "                .geemap-dark {\n",
              "                    --jp-widgets-color: white;\n",
              "                    --jp-widgets-label-color: white;\n",
              "                    --jp-ui-font-color1: white;\n",
              "                    --jp-layout-color2: #454545;\n",
              "                    background-color: #383838;\n",
              "                }\n",
              "                    \n",
              "                .geemap-dark .jupyter-button {\n",
              "                    --jp-layout-color3: #383838;\n",
              "                }\n",
              "                \n",
              "                .geemap-colab {\n",
              "                    background-color: var(--colab-primary-surface-color, white);\n",
              "                }\n",
              "                    \n",
              "                .geemap-colab .jupyter-button {\n",
              "                    --jp-layout-color3: var(--colab-primary-surface-color, white);\n",
              "                }\n",
              "            </style>\n",
              "            "
            ]
          },
          "metadata": {}
        },
        {
          "output_type": "display_data",
          "data": {
            "text/plain": [
              "interactive(children=(SelectionSlider(continuous_update=False, description='Year:', index=3, options=(2011, 20…"
            ],
            "application/vnd.jupyter.widget-view+json": {
              "version_major": 2,
              "version_minor": 0,
              "model_id": "ab64018317d44c36b80765cfe51793ac"
            }
          },
          "metadata": {
            "application/vnd.jupyter.widget-view+json": {
              "colab": {
                "custom_widget_manager": {
                  "url": "https://ssl.gstatic.com/colaboratory-static/widgets/colab-cdn-widget-manager/2b70e893a8ba7c0f/manager.min.js"
                }
              }
            }
          }
        },
        {
          "output_type": "display_data",
          "data": {
            "text/plain": [
              "Map(center=[40, -100], controls=(WidgetControl(options=['position', 'transparent_bg'], widget=SearchDataGUI(ch…"
            ],
            "application/vnd.jupyter.widget-view+json": {
              "version_major": 2,
              "version_minor": 0,
              "model_id": "7b35979e883245e5bd20e12d7eaf05a0"
            }
          },
          "metadata": {
            "application/vnd.jupyter.widget-view+json": {
              "colab": {
                "custom_widget_manager": {
                  "url": "https://ssl.gstatic.com/colaboratory-static/widgets/colab-cdn-widget-manager/2b70e893a8ba7c0f/manager.min.js"
                }
              }
            }
          }
        }
      ],
      "source": [
        "Map = geemap.Map(center=(40, -100), zoom=4)\n",
        "\n",
        "intermix_vis = {'min': 0, 'max': 1, 'palette': ['black', '#b10026']}\n",
        "interface_vis = {'min': 0, 'max': 1, 'palette': ['black', '#fd8d3c'], 'opacity': 0.5}\n",
        "\n",
        "current_layers = []\n",
        "\n",
        "def update_map(year):\n",
        "    global current_layers\n",
        "    for layer in current_layers:\n",
        "        Map.remove_ee_layer(name=layer)\n",
        "    current_layers.clear()\n",
        "    intermix_layer_name = f\"WUI_Intermix{year}\"\n",
        "    interface_layer_name = f\"WUI_Interface{year}\"\n",
        "    intermix_img = ee.ImageCollection(user_values[intermix_layer_name]).mosaic().selfMask()\n",
        "    interface_img = ee.Image(user_values[interface_layer_name]).selfMask()\n",
        "    Map.add_ee_layer(intermix_img, intermix_vis, intermix_layer_name)\n",
        "    Map.add_ee_layer(interface_img, interface_vis, interface_layer_name)\n",
        "    current_layers.append(intermix_layer_name)\n",
        "    current_layers.append(interface_layer_name)\n",
        "\n",
        "year_slider = widgets.SelectionSlider(\n",
        "    options=[2011, 2013, 2016, 2019],\n",
        "    value=2019,\n",
        "    description='Year:',\n",
        "    disabled=False,\n",
        "    continuous_update=False\n",
        ")\n",
        "interact(update_map, year=year_slider)\n",
        "Map"
      ],
      "id": "DKYstCZkeNXd"
    },
    {
      "cell_type": "markdown",
      "source": [
        "**Wildland Urban Interface 2019**\n",
        "![picture](https://drive.google.com/uc?export=view&id=1r1ZH0SFRhxI6hvLcFT2p5n-w0h3Syx2W)\n"
      ],
      "metadata": {
        "id": "vWNh5Me2IgXu"
      },
      "id": "vWNh5Me2IgXu"
    },
    {
      "cell_type": "markdown",
      "metadata": {
        "id": "3NjSMVE4CiCM"
      },
      "source": [
        "### Cartogram WUI Increase/Decrease"
      ],
      "id": "3NjSMVE4CiCM"
    },
    {
      "cell_type": "markdown",
      "source": [
        "This code calculates the difference (increase/decrease) between the total Wildland-Urban Interface (WUI) areas for two years 2019 and 2011, represented by `TotalWUI2019` and `TotalWUI2011`. Subsequently, a feature collection of U.S. states is loaded from the *`TIGER/2018/States`* dataset, and an empty dictionary `state_results` is initialized. Finally, a geodataframe containing state `geometries` and a list `st_codes` containing U.S. state abbreviations is defined."
      ],
      "metadata": {
        "id": "NExGnHHjpGif"
      },
      "id": "NExGnHHjpGif"
    },
    {
      "cell_type": "code",
      "execution_count": null,
      "metadata": {
        "colab": {
          "base_uri": "https://localhost:8080/",
          "height": 17
        },
        "id": "fBPeaXqZI5Is",
        "outputId": "89d78f0d-c5c1-4b43-da9c-815a4f5c4784"
      },
      "outputs": [
        {
          "output_type": "display_data",
          "data": {
            "text/plain": [
              "<IPython.core.display.HTML object>"
            ],
            "text/html": [
              "\n",
              "            <style>\n",
              "                .geemap-dark {\n",
              "                    --jp-widgets-color: white;\n",
              "                    --jp-widgets-label-color: white;\n",
              "                    --jp-ui-font-color1: white;\n",
              "                    --jp-layout-color2: #454545;\n",
              "                    background-color: #383838;\n",
              "                }\n",
              "                    \n",
              "                .geemap-dark .jupyter-button {\n",
              "                    --jp-layout-color3: #383838;\n",
              "                }\n",
              "                \n",
              "                .geemap-colab {\n",
              "                    background-color: var(--colab-primary-surface-color, white);\n",
              "                }\n",
              "                    \n",
              "                .geemap-colab .jupyter-button {\n",
              "                    --jp-layout-color3: var(--colab-primary-surface-color, white);\n",
              "                }\n",
              "            </style>\n",
              "            "
            ]
          },
          "metadata": {}
        }
      ],
      "source": [
        "WUI_difference = TotalWUI2019.subtract(TotalWUI2011)\n",
        "custom_mask = WUI_difference.abs().eq(1)\n",
        "WUI_difference = WUI_difference.updateMask(custom_mask)\n",
        "states_fc = ee.FeatureCollection(\"TIGER/2018/States\")\n",
        "states_features = states_fc.getInfo()['features']\n",
        "geometries = [shape(feat['geometry']) for feat in states_features]\n",
        "state_codes = [feat['properties']['STUSPS'] for feat in states_features]\n",
        "gdf = gpd.GeoDataFrame({'geometry': geometries, 'STUSPS': state_codes})\n",
        "st_codes = [\n",
        "    'AZ', 'AR', 'CA', 'CO', 'CT', 'DE', 'FL', 'GA',\n",
        "    'ID', 'IL', 'IN', 'IA', 'KS', 'KY', 'LA', 'ME', 'MD',\n",
        "    'MA', 'MI', 'MN', 'MS', 'MO', 'MT', 'NE', 'NV', 'NH', 'NJ',\n",
        "    'NM', 'NY', 'NC', 'ND', 'OH', 'OK', 'OR', 'PA', 'RI', 'SC',\n",
        "    'SD', 'TN', 'TX', 'UT', 'VT', 'VA', 'WA', 'WV', 'WI', 'WY'\n",
        "]\n",
        "gdf = gdf[gdf['STUSPS'].isin(st_codes)]"
      ],
      "id": "fBPeaXqZI5Is"
    },
    {
      "cell_type": "markdown",
      "source": [
        "#### Visualizing Pixels of WUI change"
      ],
      "metadata": {
        "id": "x0YmtbahqkYT"
      },
      "id": "x0YmtbahqkYT"
    },
    {
      "cell_type": "markdown",
      "source": [
        "**Example Use:**\n",
        "\n",
        "![Pixel](https://drive.google.com/uc?id=1yuj5gt3SkymgFbdn5IXnriCJ2Av8YVl4)\n",
        "![View Image](https://drive.google.com/uc?id=1z4M2TW9oyCYj3VcOCq06-S_N_rb_2Pmp)"
      ],
      "metadata": {
        "id": "PhhEhdJeFkf5"
      },
      "id": "PhhEhdJeFkf5"
    },
    {
      "cell_type": "code",
      "execution_count": null,
      "metadata": {
        "colab": {
          "base_uri": "https://localhost:8080/",
          "height": 621,
          "referenced_widgets": [
            "0d95ac53742a4461b5f52d17418491a1",
            "76eccc5a46ac42b6bed26a5de2e9d519",
            "bc8cd5a81f80451e8413b14f3ac73d6b",
            "caf23f3dc1bd4c6fbe9c1a261128a266",
            "bb8732e26f4d49a6a105c87aefaf130f",
            "5b90bcd2267e44cca02960c090abbab2",
            "1e9327f5e2164bb2a0f55352ecfde964",
            "db8fcb15d9aa4d328ddf1e3b49323383",
            "cba66f32714848bc9d96ea4ed9dfddee",
            "0e38524e1e774584b422d5b641fd0eee",
            "a15904455a9349bd88b0f38e7cc6af79",
            "282bb7525561463a9288533aa7d4a946",
            "2fcbb4432bab4f33bce504efe7cf42ea",
            "3e84ff92f05a4250a692ccc7c0f2b5db",
            "f8f4d62d7202496694dc16ff827a6413",
            "9d5cd84d008b49c49caf473d516314be",
            "01a2fdbc15054c8f99eb463bd1f71d39",
            "46c218c48314400dbbafac08f38c6dda",
            "19e0118ab2cf402683c06eb7620620ac",
            "af2eba3e8e52497fa99d5d725afb6727",
            "d65450e8f4c240ca94b0eb8863e93790",
            "f71528f6beb145429714ee07e1dab1e7",
            "aa4aa3ebe38c435a96aa74375936999e",
            "f95a5bb3aad0458faa54bce87e916d9a",
            "3a7d9254a83342909e4432ff484be166",
            "b548c41a5ba34be98c8db7f3448344b4",
            "158b364b7eab498380af0864401933d6"
          ]
        },
        "id": "V6jHAbY-QN-S",
        "outputId": "482b7fec-5d6b-4d7a-b12b-02057da4c191"
      },
      "outputs": [
        {
          "output_type": "display_data",
          "data": {
            "text/plain": [
              "<IPython.core.display.HTML object>"
            ],
            "text/html": [
              "\n",
              "            <style>\n",
              "                .geemap-dark {\n",
              "                    --jp-widgets-color: white;\n",
              "                    --jp-widgets-label-color: white;\n",
              "                    --jp-ui-font-color1: white;\n",
              "                    --jp-layout-color2: #454545;\n",
              "                    background-color: #383838;\n",
              "                }\n",
              "                    \n",
              "                .geemap-dark .jupyter-button {\n",
              "                    --jp-layout-color3: #383838;\n",
              "                }\n",
              "                \n",
              "                .geemap-colab {\n",
              "                    background-color: var(--colab-primary-surface-color, white);\n",
              "                }\n",
              "                    \n",
              "                .geemap-colab .jupyter-button {\n",
              "                    --jp-layout-color3: var(--colab-primary-surface-color, white);\n",
              "                }\n",
              "            </style>\n",
              "            "
            ]
          },
          "metadata": {}
        },
        {
          "output_type": "display_data",
          "data": {
            "text/plain": [
              "Map(center=[40, -100], controls=(WidgetControl(options=['position', 'transparent_bg'], widget=SearchDataGUI(ch…"
            ],
            "application/vnd.jupyter.widget-view+json": {
              "version_major": 2,
              "version_minor": 0,
              "model_id": "0d95ac53742a4461b5f52d17418491a1"
            }
          },
          "metadata": {
            "application/vnd.jupyter.widget-view+json": {
              "colab": {
                "custom_widget_manager": {
                  "url": "https://ssl.gstatic.com/colaboratory-static/widgets/colab-cdn-widget-manager/2b70e893a8ba7c0f/manager.min.js"
                }
              }
            }
          }
        }
      ],
      "source": [
        "Map = geemap.Map(center=(40, -100), zoom=4)\n",
        "Map.add_basemap('HYBRID')\n",
        "red_mask = WUI_difference.eq(1)\n",
        "green_mask = WUI_difference.eq(-1)\n",
        "red_image = WUI_difference.updateMask(red_mask)\n",
        "green_image = WUI_difference.updateMask(green_mask)\n",
        "red_palette = [\"#FF0000\"]\n",
        "green_palette = [\"#00FF00\"]\n",
        "Map.addLayer(red_image, {'min': 0, 'max': 1, 'palette': red_palette}, 'Increase (Red)')\n",
        "Map.addLayer(green_image, {'min': 0, 'max': 1, 'palette': green_palette}, 'Decrease (Green)')\n",
        "Map"
      ],
      "id": "V6jHAbY-QN-S"
    },
    {
      "cell_type": "markdown",
      "source": [
        "#### GeoDataFrame for Visualization"
      ],
      "metadata": {
        "id": "5UYC_FuZsYvQ"
      },
      "id": "5UYC_FuZsYvQ"
    },
    {
      "cell_type": "markdown",
      "source": [
        "In this part, we calculate **the total area changes** occuring per state in terms of **WUI increase or decrease** and storing it into `state_results`."
      ],
      "metadata": {
        "id": "hRgSBGjJquiC"
      },
      "id": "hRgSBGjJquiC"
    },
    {
      "cell_type": "code",
      "execution_count": null,
      "metadata": {
        "id": "c7HyNrO4EHol"
      },
      "outputs": [],
      "source": [
        "state_results = {}\n",
        "for state_code in st_codes:\n",
        "    state_geom = states_fc.filter(ee.Filter.eq('STUSPS', state_code)).geometry()\n",
        "    clipped_red = red_image.clip(state_geom)\n",
        "    clipped_green = green_image.clip(state_geom)\n",
        "    increase = clipped_red.reduceRegion(ee.Reducer.count(), geometry=state_geom, scale=30, maxPixels=1e13).getInfo()\n",
        "    decrease = clipped_green.reduceRegion(ee.Reducer.count(), geometry=state_geom, scale=30, maxPixels=1e13).getInfo()\n",
        "    total_WUI_area = TotalWUI2019.clip(state_geom).reduceRegion(ee.Reducer.count(), geometry=state_geom, scale=30, maxPixels=1e13).getInfo()\n",
        "\n",
        "    #print(f\"State: {state_code}\")\n",
        "    #print(\"Increase:\", increase)\n",
        "    #print(\"Decrease:\", decrease)\n",
        "    #print(\"Total WUI Area:\", total_WUI_area)\n",
        "    state_results[state_code] = {\n",
        "        'increase': increase.get('b1', 0) * 900,\n",
        "        'decrease': decrease.get('b1', 0) * 900,\n",
        "        'total_WUI_area': total_WUI_area.get('b1', 0) * 900\n",
        "    }\n",
        "    #print(\"Results:\", state_results[state_code])\n",
        "\n",
        "    #Download this in an excel file if you wish to keep a record. The values will be in the unit of square meters"
      ],
      "id": "c7HyNrO4EHol"
    },
    {
      "cell_type": "markdown",
      "source": [
        "This code snippet populates a `Geodataframe` named **gdf** to store all the details for visualizing. Furthermore, as **Cartograms** cannot work with `GeometryCollection` but only `MultiPolygon` and `Polygon`, so each feature is **iterated to keep only the Polygon features.**"
      ],
      "metadata": {
        "id": "kCa7jKaCrQFz"
      },
      "id": "kCa7jKaCrQFz"
    },
    {
      "cell_type": "code",
      "source": [
        "# Add the WUI area data to the GeoDataFrame\n",
        "gdf['total_WUI_area'] = gdf['STUSPS'].map(lambda x: state_results.get(x, {}).get('total_WUI_area', 0))\n",
        "gdf['increase'] = gdf['STUSPS'].map(lambda x: state_results.get(x, {}).get('increase', 0))\n",
        "gdf['decrease'] = gdf['STUSPS'].map(lambda x: state_results.get(x, {}).get('decrease', 0))"
      ],
      "metadata": {
        "colab": {
          "base_uri": "https://localhost:8080/",
          "height": 17
        },
        "id": "pnYf0qB2v9Hg",
        "outputId": "5d6fbc2d-fc4b-4c43-fc8d-c6f26bed5083"
      },
      "id": "pnYf0qB2v9Hg",
      "execution_count": null,
      "outputs": [
        {
          "output_type": "display_data",
          "data": {
            "text/plain": [
              "<IPython.core.display.HTML object>"
            ],
            "text/html": [
              "\n",
              "            <style>\n",
              "                .geemap-dark {\n",
              "                    --jp-widgets-color: white;\n",
              "                    --jp-widgets-label-color: white;\n",
              "                    --jp-ui-font-color1: white;\n",
              "                    --jp-layout-color2: #454545;\n",
              "                    background-color: #383838;\n",
              "                }\n",
              "                    \n",
              "                .geemap-dark .jupyter-button {\n",
              "                    --jp-layout-color3: #383838;\n",
              "                }\n",
              "                \n",
              "                .geemap-colab {\n",
              "                    background-color: var(--colab-primary-surface-color, white);\n",
              "                }\n",
              "                    \n",
              "                .geemap-colab .jupyter-button {\n",
              "                    --jp-layout-color3: var(--colab-primary-surface-color, white);\n",
              "                }\n",
              "            </style>\n",
              "            "
            ]
          },
          "metadata": {}
        }
      ]
    },
    {
      "cell_type": "code",
      "source": [
        "def convert_geometry(geometry):\n",
        "    if geometry.geom_type == 'GeometryCollection':\n",
        "        polygon_parts = [part for part in geometry.geoms if part.geom_type == 'Polygon']\n",
        "        return MultiPolygon(polygon_parts)\n",
        "    else:\n",
        "        return geometry\n",
        "gdf['geometry'] = gdf['geometry'].apply(convert_geometry)"
      ],
      "metadata": {
        "colab": {
          "base_uri": "https://localhost:8080/",
          "height": 17
        },
        "id": "-rbFhDzXRJDQ",
        "outputId": "31b91275-e8dd-4a7e-bf41-1bdcab699630"
      },
      "id": "-rbFhDzXRJDQ",
      "execution_count": null,
      "outputs": [
        {
          "output_type": "display_data",
          "data": {
            "text/plain": [
              "<IPython.core.display.HTML object>"
            ],
            "text/html": [
              "\n",
              "            <style>\n",
              "                .geemap-dark {\n",
              "                    --jp-widgets-color: white;\n",
              "                    --jp-widgets-label-color: white;\n",
              "                    --jp-ui-font-color1: white;\n",
              "                    --jp-layout-color2: #454545;\n",
              "                    background-color: #383838;\n",
              "                }\n",
              "                    \n",
              "                .geemap-dark .jupyter-button {\n",
              "                    --jp-layout-color3: #383838;\n",
              "                }\n",
              "                \n",
              "                .geemap-colab {\n",
              "                    background-color: var(--colab-primary-surface-color, white);\n",
              "                }\n",
              "                    \n",
              "                .geemap-colab .jupyter-button {\n",
              "                    --jp-layout-color3: var(--colab-primary-surface-color, white);\n",
              "                }\n",
              "            </style>\n",
              "            "
            ]
          },
          "metadata": {}
        }
      ]
    },
    {
      "cell_type": "markdown",
      "source": [
        "#### Cartogram"
      ],
      "metadata": {
        "id": "pMhD4UrGse_c"
      },
      "id": "pMhD4UrGse_c"
    },
    {
      "cell_type": "markdown",
      "source": [
        "##### WUI Increase"
      ],
      "metadata": {
        "id": "28z_YkX2im1q"
      },
      "id": "28z_YkX2im1q"
    },
    {
      "cell_type": "markdown",
      "source": [
        "**Example WUI Cartogram 2011-2019**\n",
        "\n",
        "![CartogramIncrease](https://drive.google.com/uc?id=1ygS1pAP69A2BdUjsdICUFQbdhV5sNWo7)"
      ],
      "metadata": {
        "id": "0P4yxqSMA0aT"
      },
      "id": "0P4yxqSMA0aT"
    },
    {
      "cell_type": "code",
      "source": [
        "scheme = mc.Quantiles(gdf['increase'], k=4)\n",
        "ax1 = gplt.cartogram(\n",
        "    gdf,\n",
        "    scale='total_WUI_area',\n",
        "    hue='increase',\n",
        "    cmap='Reds',\n",
        "    legend=True,\n",
        "    projection=gcrs.AlbersEqualArea(),\n",
        "    figsize=(12, 12),\n",
        "    #limits=(0, 1),\n",
        "    legend_kwargs={'loc': 'lower left'},\n",
        "    legend_var='hue',\n",
        "    legend_labels=[\n",
        "        '<First Quartile', 'First Quartile-Mean', 'Mean-Third Quartile',\n",
        "        '>Third Quartile'\n",
        "    ],\n",
        "    scheme=scheme,\n",
        ")\n",
        "\n",
        "gplt.polyplot(gdf, facecolor='lightgrey', edgecolor='white', ax=ax1)\n",
        "ax1.set_title(\"WUI Increase of USA\", fontdict={\"fontsize\": 15})\n",
        "plt.show()"
      ],
      "metadata": {
        "colab": {
          "base_uri": "https://localhost:8080/",
          "height": 564
        },
        "id": "PbfYh01KijEC",
        "outputId": "bf3f3c2c-8a99-4a3d-b4da-4cc225929cce"
      },
      "id": "PbfYh01KijEC",
      "execution_count": null,
      "outputs": [
        {
          "output_type": "display_data",
          "data": {
            "text/plain": [
              "<IPython.core.display.HTML object>"
            ],
            "text/html": [
              "\n",
              "            <style>\n",
              "                .geemap-dark {\n",
              "                    --jp-widgets-color: white;\n",
              "                    --jp-widgets-label-color: white;\n",
              "                    --jp-ui-font-color1: white;\n",
              "                    --jp-layout-color2: #454545;\n",
              "                    background-color: #383838;\n",
              "                }\n",
              "                    \n",
              "                .geemap-dark .jupyter-button {\n",
              "                    --jp-layout-color3: #383838;\n",
              "                }\n",
              "                \n",
              "                .geemap-colab {\n",
              "                    background-color: var(--colab-primary-surface-color, white);\n",
              "                }\n",
              "                    \n",
              "                .geemap-colab .jupyter-button {\n",
              "                    --jp-layout-color3: var(--colab-primary-surface-color, white);\n",
              "                }\n",
              "            </style>\n",
              "            "
            ]
          },
          "metadata": {}
        },
        {
          "output_type": "display_data",
          "data": {
            "text/plain": [
              "<Figure size 1200x1200 with 1 Axes>"
            ],
            "image/png": "[encoded data removed]"
          },
          "metadata": {}
        }
      ]
    },
    {
      "cell_type": "markdown",
      "source": [
        "##### WUI Decrease"
      ],
      "metadata": {
        "id": "BJ4uvS3AiuQi"
      },
      "id": "BJ4uvS3AiuQi"
    },
    {
      "cell_type": "markdown",
      "source": [
        "**Example WUI Cartogram 2011-2019**\n",
        "\n",
        "![WUI Decrease](https://drive.google.com/uc?id=1yqWzsm_NUb4ugQLmBWf-0fPkUDRYfhfU)"
      ],
      "metadata": {
        "id": "DG8aspqABgL0"
      },
      "id": "DG8aspqABgL0"
    },
    {
      "cell_type": "code",
      "source": [
        "scheme = mc.Quantiles(gdf['decrease'], k=4)\n",
        "ax1 = gplt.cartogram(\n",
        "    gdf,\n",
        "    scale='total_WUI_area',\n",
        "    hue='decrease',\n",
        "    cmap='Greens',\n",
        "    legend=True,\n",
        "    projection=gcrs.AlbersEqualArea(),\n",
        "    figsize=(12, 12),\n",
        "    #limits=(0, 1),\n",
        "    legend_kwargs={'loc': 'lower left'},\n",
        "    legend_var='hue',\n",
        "    legend_labels=[\n",
        "        '<First Quartile', 'First Quartile-Mean', 'Mean-Third Quartile',\n",
        "        '>Third Quartile'\n",
        "    ],\n",
        "    scheme=scheme,\n",
        ")\n",
        "\n",
        "gplt.polyplot(gdf, facecolor='lightgrey', edgecolor='white', ax=ax1)\n",
        "ax1.set_title(\"WUI Decrease of USA\", fontdict={\"fontsize\": 15})\n",
        "plt.show()"
      ],
      "metadata": {
        "colab": {
          "base_uri": "https://localhost:8080/",
          "height": 564
        },
        "id": "x8KhSFw1iq5i",
        "outputId": "82d110b3-776b-4ad3-827d-b64882f12969"
      },
      "id": "x8KhSFw1iq5i",
      "execution_count": null,
      "outputs": [
        {
          "output_type": "display_data",
          "data": {
            "text/plain": [
              "<IPython.core.display.HTML object>"
            ],
            "text/html": [
              "\n",
              "            <style>\n",
              "                .geemap-dark {\n",
              "                    --jp-widgets-color: white;\n",
              "                    --jp-widgets-label-color: white;\n",
              "                    --jp-ui-font-color1: white;\n",
              "                    --jp-layout-color2: #454545;\n",
              "                    background-color: #383838;\n",
              "                }\n",
              "                    \n",
              "                .geemap-dark .jupyter-button {\n",
              "                    --jp-layout-color3: #383838;\n",
              "                }\n",
              "                \n",
              "                .geemap-colab {\n",
              "                    background-color: var(--colab-primary-surface-color, white);\n",
              "                }\n",
              "                    \n",
              "                .geemap-colab .jupyter-button {\n",
              "                    --jp-layout-color3: var(--colab-primary-surface-color, white);\n",
              "                }\n",
              "            </style>\n",
              "            "
            ]
          },
          "metadata": {}
        },
        {
          "output_type": "display_data",
          "data": {
            "text/plain": [
              "<Figure size 1200x1200 with 1 Axes>"
            ],
            "image/png": "[encoded data removed]"
          },
          "metadata": {}
        }
      ]
    },
    {
      "cell_type": "markdown",
      "metadata": {
        "id": "38cfce25-390e-4095-ac42-39b3404e02a9"
      },
      "source": [
        "## Analysing Social and Structural Vulnerability"
      ],
      "id": "38cfce25-390e-4095-ac42-39b3404e02a9"
    },
    {
      "cell_type": "markdown",
      "metadata": {
        "id": "JFqrPjxSdmBJ"
      },
      "source": [
        "Analysis of the **Social Vulnerability Index (NASA SEDAC) and Wildfire Risk** to Communities **Risk to Potential Structures (US Forest Service, LANDFIRE)** for the **Wildland Urban Interface**. The `Social Vulnerability Index` was downloaded from https://sedac.ciesin.columbia.edu/data/set/usgrid-us-social-vulnerability-index and the `LANDFIRE` data was already an Earth Engine asset."
      ],
      "id": "JFqrPjxSdmBJ"
    },
    {
      "cell_type": "markdown",
      "source": [
        "### Visualization"
      ],
      "metadata": {
        "id": "FYEomzaV81Fn"
      },
      "id": "FYEomzaV81Fn"
    },
    {
      "cell_type": "markdown",
      "source": [
        "**Example Use: Indexes in the WUI Area**\n",
        "\n",
        "<img src=\"https://drive.google.com/uc?id=1z5HWGBZTddx0Q0ZpghzlV0aD7qLA-x1Q\" alt=\"SoVI\" height=\"200\"> <img src=\"https://drive.google.com/uc?id=1zA9Xz3nRpjVSSs8woXzw0FYcqwNsCvCR\" alt=\"Risk\" height=\"200\">\n"
      ],
      "metadata": {
        "id": "BRuO8o2aC-00"
      },
      "id": "BRuO8o2aC-00"
    },
    {
      "cell_type": "code",
      "source": [
        "Map = geemap.Map(center=[40, -100], zoom=4)\n",
        "\n",
        "# Risk to Potential Structures for 2014\n",
        "hpb = ee.ImageCollection('projects/climate-engine-pro/assets/ce-wrc-static').select('RPS').mosaic()\n",
        "hpb_c = [\"#ffffb2\", \"#fed976\", \"#feb24c\", \"#fd8d3c\", \"#fc4e2a\", \"#e31a1c\", \"#b10026\"]\n",
        "Map.addLayer(hpb, {'min':0, 'max':1, 'palette': hpb_c},'Risk',False)\n",
        "# Social Vulnerability Index for 2014\n",
        "svi = ee.Image('projects/dri-apps/assets/iguide-team1/svi_2014')\n",
        "svi_c = [\"#edf8fb\", \"#bfd3e6\", \"#9ebcda\", \"#8c96c6\", \"#8c6bb1\", \"#88419d\", \"#6e016b\"]\n",
        "Map.addLayer(svi, {'min':0, 'max':1, 'palette': svi_c},'Vulnerability',False)\n",
        "# WUI image for 2013\n",
        "#intermix = ee.ImageCollection('projects/dri-apps/assets/iguide-team1/intermix').mosaic().selfMask()\n",
        "intermix= TotalWUI2013.selfMask()\n",
        "\n",
        "# Masking by WUI\n",
        "svi_mask = svi.updateMask(intermix)\n",
        "hpb_mask = hpb.updateMask(intermix)\n",
        "\n",
        "# Visualization parameters\n",
        "hpb_params = {'min': 0, 'max': 1, 'palette': ['#ffffb2', '#b10026']}\n",
        "svi_params = {'min': 0, 'max': 1, 'palette': ['#edf8fb', '#6e016b']}\n",
        "intermix_params = {'min': 0, 'max': 1, 'palette': ['#D8B365', '#5AB4AC']}\n",
        "\n",
        "# Add layers to the map\n",
        "Map.addLayer(intermix, intermix_params, 'WUI')\n",
        "Map.addLayer(svi_mask, svi_params, 'Vulnerability WUI')\n",
        "Map.addLayer(hpb_mask, hpb_params, 'Risk WUI')\n",
        "Map"
      ],
      "metadata": {
        "colab": {
          "base_uri": "https://localhost:8080/",
          "height": 621,
          "referenced_widgets": [
            "1cabbfdb20e04534ab294ddeb432f93f",
            "25099deaed004875809c412a46333712",
            "7e492284161846e1a43cb7c7925a76cd",
            "6f213108dedf457caf32eb94f3322bd9",
            "23ba2d0375d242c5b34bd28015ee846d",
            "3b5232a0218f448b89de8d42d978595a",
            "4a9c9dab153449f3a2d7ef6722639c17",
            "e4f536fe179f40e79b25c6d23bebd992",
            "44b2a4d6ce3f4f22a683edea8c31dfa9",
            "30d32517f4c34b6597c8ac22aa42724a",
            "137f2a8222b540849cbc4d23afd8710a",
            "a5868385075d40ba89eb9bb8ae7a4d3d",
            "5d48eb8a039b41e1b443ab43ddb2307e",
            "1f04570b45174c849c40605c876e4474",
            "626e3266a82447fb91ca4308b772f48e",
            "a36de3fe2ada44bbaddd4fc8366583f8",
            "46cfc597f82c4b19a91de422a0f97674",
            "38159f812b2746858b0ca5b12d499e5b",
            "6c3c61592f1047e0b67e3c39338f761c",
            "899504a7721545aeb0f611cd2bd12668",
            "4ad6a8a1b5f44c31a4cf4ca4c44a7183",
            "52cf6f3824b74655b6418f3c138c892d",
            "2354fb6d103f42d698bbf2b981c39b15",
            "85e9cadd49ff4d40a5307bbd97cda97f",
            "0bfd4223fbcb462e81a49871284baff0",
            "8493db0db7444dc4adba47c3ffb5de0b",
            "7b4053f7e8db41bc9b0ca216aa3bb514",
            "ead60bfd6e0a4527846c778f1e24acaa",
            "fe15910d1d20404b9cbf957c60de9c8f"
          ]
        },
        "id": "M2EqE-nHrQRV",
        "outputId": "563b1782-0001-4061-cb76-3293e4297413"
      },
      "id": "M2EqE-nHrQRV",
      "execution_count": null,
      "outputs": [
        {
          "output_type": "display_data",
          "data": {
            "text/plain": [
              "<IPython.core.display.HTML object>"
            ],
            "text/html": [
              "\n",
              "            <style>\n",
              "                .geemap-dark {\n",
              "                    --jp-widgets-color: white;\n",
              "                    --jp-widgets-label-color: white;\n",
              "                    --jp-ui-font-color1: white;\n",
              "                    --jp-layout-color2: #454545;\n",
              "                    background-color: #383838;\n",
              "                }\n",
              "                    \n",
              "                .geemap-dark .jupyter-button {\n",
              "                    --jp-layout-color3: #383838;\n",
              "                }\n",
              "                \n",
              "                .geemap-colab {\n",
              "                    background-color: var(--colab-primary-surface-color, white);\n",
              "                }\n",
              "                    \n",
              "                .geemap-colab .jupyter-button {\n",
              "                    --jp-layout-color3: var(--colab-primary-surface-color, white);\n",
              "                }\n",
              "            </style>\n",
              "            "
            ]
          },
          "metadata": {}
        },
        {
          "output_type": "display_data",
          "data": {
            "text/plain": [
              "Map(center=[40, -100], controls=(WidgetControl(options=['position', 'transparent_bg'], widget=SearchDataGUI(ch…"
            ],
            "application/vnd.jupyter.widget-view+json": {
              "version_major": 2,
              "version_minor": 0,
              "model_id": "1cabbfdb20e04534ab294ddeb432f93f"
            }
          },
          "metadata": {
            "application/vnd.jupyter.widget-view+json": {
              "colab": {
                "custom_widget_manager": {
                  "url": "https://ssl.gstatic.com/colaboratory-static/widgets/colab-cdn-widget-manager/b3e629b1971e1542/manager.min.js"
                }
              }
            }
          }
        }
      ]
    },
    {
      "cell_type": "markdown",
      "source": [
        "### Bivariate Moran's I"
      ],
      "metadata": {
        "id": "Lz16OWwK89d5"
      },
      "id": "Lz16OWwK89d5"
    },
    {
      "cell_type": "markdown",
      "source": [
        "This code is to convert the masked risk and vulnerability values to geodatabase for Moran's I computations"
      ],
      "metadata": {
        "id": "1rvxe3-uAI4W"
      },
      "id": "1rvxe3-uAI4W"
    },
    {
      "cell_type": "code",
      "source": [
        "counties = ee.FeatureCollection(\"TIGER/2016/Counties\")\n",
        "# CONUS states\n",
        "conus_fips_codes = [str(i).zfill(2) for i in range(1, 57) if i not in [2, 15]]\n",
        "#Prepping GdB\n",
        "conus_counties = counties.filter(ee.Filter.inList('STATEFP', conus_fips_codes))\n",
        "counties_features = conus_counties.getInfo()['features']\n",
        "geometries = [shape(feat['geometry']) for feat in counties_features]\n",
        "county_ids = [feat['properties']['GEOID'] for feat in counties_features]"
      ],
      "metadata": {
        "colab": {
          "base_uri": "https://localhost:8080/",
          "height": 17
        },
        "id": "ZMIhxVdPDEoE",
        "outputId": "75dec1e0-89df-4f7b-b896-944bf27cab65"
      },
      "id": "ZMIhxVdPDEoE",
      "execution_count": null,
      "outputs": [
        {
          "output_type": "display_data",
          "data": {
            "text/plain": [
              "<IPython.core.display.HTML object>"
            ],
            "text/html": [
              "\n",
              "            <style>\n",
              "                .geemap-dark {\n",
              "                    --jp-widgets-color: white;\n",
              "                    --jp-widgets-label-color: white;\n",
              "                    --jp-ui-font-color1: white;\n",
              "                    --jp-layout-color2: #454545;\n",
              "                    background-color: #383838;\n",
              "                }\n",
              "                    \n",
              "                .geemap-dark .jupyter-button {\n",
              "                    --jp-layout-color3: #383838;\n",
              "                }\n",
              "                \n",
              "                .geemap-colab {\n",
              "                    background-color: var(--colab-primary-surface-color, white);\n",
              "                }\n",
              "                    \n",
              "                .geemap-colab .jupyter-button {\n",
              "                    --jp-layout-color3: var(--colab-primary-surface-color, white);\n",
              "                }\n",
              "            </style>\n",
              "            "
            ]
          },
          "metadata": {}
        }
      ]
    },
    {
      "cell_type": "markdown",
      "source": [
        "Initiating a **dictionary and json file** to store reducer computations to bypass memory limits."
      ],
      "metadata": {
        "id": "6g-4UBpmkeKm"
      },
      "id": "6g-4UBpmkeKm"
    },
    {
      "cell_type": "code",
      "source": [
        "county_ids.sort()\n",
        "# Upload existing county_results if available\n",
        "try:\n",
        "    with open('county_results.json', 'r') as f:\n",
        "        county_results = json.load(f)\n",
        "except FileNotFoundError:\n",
        "    print(\"Creating new file\")\n",
        "    county_results = {}"
      ],
      "metadata": {
        "colab": {
          "base_uri": "https://localhost:8080/",
          "height": 17
        },
        "id": "evA0mmIydSzi",
        "outputId": "5fb7afc6-be50-434a-c071-e3169ecd6865"
      },
      "id": "evA0mmIydSzi",
      "execution_count": null,
      "outputs": [
        {
          "output_type": "display_data",
          "data": {
            "text/plain": [
              "<IPython.core.display.HTML object>"
            ],
            "text/html": [
              "\n",
              "            <style>\n",
              "                .geemap-dark {\n",
              "                    --jp-widgets-color: white;\n",
              "                    --jp-widgets-label-color: white;\n",
              "                    --jp-ui-font-color1: white;\n",
              "                    --jp-layout-color2: #454545;\n",
              "                    background-color: #383838;\n",
              "                }\n",
              "                    \n",
              "                .geemap-dark .jupyter-button {\n",
              "                    --jp-layout-color3: #383838;\n",
              "                }\n",
              "                \n",
              "                .geemap-colab {\n",
              "                    background-color: var(--colab-primary-surface-color, white);\n",
              "                }\n",
              "                    \n",
              "                .geemap-colab .jupyter-button {\n",
              "                    --jp-layout-color3: var(--colab-primary-surface-color, white);\n",
              "                }\n",
              "            </style>\n",
              "            "
            ]
          },
          "metadata": {}
        }
      ]
    },
    {
      "cell_type": "markdown",
      "source": [
        "In every county, this code obtains **the mean of the risk and social vulnerability for the pixels which are present in the WUI**.\n",
        "> Please make sure to download the json file periodically to avoid any lose of data"
      ],
      "metadata": {
        "id": "T2iGhSAHiF9W"
      },
      "id": "T2iGhSAHiF9W"
    },
    {
      "cell_type": "code",
      "source": [
        "for county_id in county_ids:\n",
        "    if county_id not in county_results:\n",
        "        county_geom = counties.filter(ee.Filter.eq('GEOID', county_id)).geometry()\n",
        "\n",
        "        clipped_hpb = hpb_mask.clip(county_geom)\n",
        "        clipped_svi = svi_mask.clip(county_geom)\n",
        "        try:\n",
        "          hpb_mean = clipped_hpb.reduceRegion(ee.Reducer.mean(), geometry=county_geom, scale=30, maxPixels=1e13).getInfo()\n",
        "          svi_mean = clipped_svi.reduceRegion(ee.Reducer.mean(), geometry=county_geom, scale=30, maxPixels=1e13).getInfo()\n",
        "\n",
        "          county_results[county_id] = {\n",
        "              'hpb_mean': hpb_mean.get('RPS', None),\n",
        "              'svi_mean': svi_mean.get('b1', None)\n",
        "          }\n",
        "          #print(county_id, county_results[county_id])\n",
        "          if len(county_results) % 10 == 0:\n",
        "              with open('county_results.json', 'w') as f:\n",
        "                  json.dump(county_results, f)\n",
        "\n",
        "        except Exception as e:\n",
        "            print(f\"An error occurred for county_id {county_id}: {e}\")"
      ],
      "metadata": {
        "id": "FHhilD9PDbVk"
      },
      "id": "FHhilD9PDbVk",
      "execution_count": null,
      "outputs": []
    },
    {
      "cell_type": "markdown",
      "source": [
        "Storing the final results in the json file."
      ],
      "metadata": {
        "id": "65N9OqB-6CfA"
      },
      "id": "65N9OqB-6CfA"
    },
    {
      "cell_type": "code",
      "source": [
        "with open('county_results.json', 'w') as f:\n",
        "    json.dump(county_results, f)"
      ],
      "metadata": {
        "colab": {
          "base_uri": "https://localhost:8080/",
          "height": 17
        },
        "id": "6mbNmrVTBEfo",
        "outputId": "a7d5af60-c514-4cc9-d8fe-ca278219b024"
      },
      "id": "6mbNmrVTBEfo",
      "execution_count": null,
      "outputs": [
        {
          "output_type": "display_data",
          "data": {
            "text/plain": [
              "<IPython.core.display.HTML object>"
            ],
            "text/html": [
              "\n",
              "            <style>\n",
              "                .geemap-dark {\n",
              "                    --jp-widgets-color: white;\n",
              "                    --jp-widgets-label-color: white;\n",
              "                    --jp-ui-font-color1: white;\n",
              "                    --jp-layout-color2: #454545;\n",
              "                    background-color: #383838;\n",
              "                }\n",
              "                    \n",
              "                .geemap-dark .jupyter-button {\n",
              "                    --jp-layout-color3: #383838;\n",
              "                }\n",
              "                \n",
              "                .geemap-colab {\n",
              "                    background-color: var(--colab-primary-surface-color, white);\n",
              "                }\n",
              "                    \n",
              "                .geemap-colab .jupyter-button {\n",
              "                    --jp-layout-color3: var(--colab-primary-surface-color, white);\n",
              "                }\n",
              "            </style>\n",
              "            "
            ]
          },
          "metadata": {}
        }
      ]
    },
    {
      "cell_type": "markdown",
      "source": [
        "Merging the data into the GeoDataframe"
      ],
      "metadata": {
        "id": "odnAxNZS6Zkz"
      },
      "id": "odnAxNZS6Zkz"
    },
    {
      "cell_type": "code",
      "source": [
        "gdf = gpd.GeoDataFrame({'geometry': geometries, 'GEOID': county_ids})\n",
        "gdf['hpb_mean'] = gdf['GEOID'].map(lambda x: county_results.get(x, {}).get('hpb_mean', None))\n",
        "gdf['svi_mean'] = gdf['GEOID'].map(lambda x: county_results.get(x, {}).get('svi_mean', None))"
      ],
      "metadata": {
        "colab": {
          "base_uri": "https://localhost:8080/",
          "height": 17
        },
        "id": "C7bSgdyiCy9D",
        "outputId": "cf7ca473-ec7e-4d53-c4f8-b7b73ecfa82a"
      },
      "id": "C7bSgdyiCy9D",
      "execution_count": null,
      "outputs": [
        {
          "output_type": "display_data",
          "data": {
            "text/plain": [
              "<IPython.core.display.HTML object>"
            ],
            "text/html": [
              "\n",
              "            <style>\n",
              "                .geemap-dark {\n",
              "                    --jp-widgets-color: white;\n",
              "                    --jp-widgets-label-color: white;\n",
              "                    --jp-ui-font-color1: white;\n",
              "                    --jp-layout-color2: #454545;\n",
              "                    background-color: #383838;\n",
              "                }\n",
              "                    \n",
              "                .geemap-dark .jupyter-button {\n",
              "                    --jp-layout-color3: #383838;\n",
              "                }\n",
              "                \n",
              "                .geemap-colab {\n",
              "                    background-color: var(--colab-primary-surface-color, white);\n",
              "                }\n",
              "                    \n",
              "                .geemap-colab .jupyter-button {\n",
              "                    --jp-layout-color3: var(--colab-primary-surface-color, white);\n",
              "                }\n",
              "            </style>\n",
              "            "
            ]
          },
          "metadata": {}
        }
      ]
    },
    {
      "cell_type": "markdown",
      "source": [
        "Removing the GeometryCollections to keep only Polygons"
      ],
      "metadata": {
        "id": "vjFoRUCQ6kqw"
      },
      "id": "vjFoRUCQ6kqw"
    },
    {
      "cell_type": "code",
      "source": [
        "def convert_geometry(geometry):\n",
        "    if geometry.geom_type == 'GeometryCollection':\n",
        "        polygon_parts = [part for part in geometry.geoms if part.geom_type == 'Polygon']\n",
        "        return MultiPolygon(polygon_parts)\n",
        "    else:\n",
        "        return geometry\n",
        "gdf['geometry'] = gdf['geometry'].apply(convert_geometry)\n",
        "gdf = gdf.dropna(subset=['svi_mean', 'hpb_mean'])"
      ],
      "metadata": {
        "colab": {
          "base_uri": "https://localhost:8080/",
          "height": 17
        },
        "id": "rGVewy1ouqox",
        "outputId": "b0ce1c37-4226-4a8a-a45d-5a6a529dc7f7"
      },
      "id": "rGVewy1ouqox",
      "execution_count": null,
      "outputs": [
        {
          "output_type": "display_data",
          "data": {
            "text/plain": [
              "<IPython.core.display.HTML object>"
            ],
            "text/html": [
              "\n",
              "            <style>\n",
              "                .geemap-dark {\n",
              "                    --jp-widgets-color: white;\n",
              "                    --jp-widgets-label-color: white;\n",
              "                    --jp-ui-font-color1: white;\n",
              "                    --jp-layout-color2: #454545;\n",
              "                    background-color: #383838;\n",
              "                }\n",
              "                    \n",
              "                .geemap-dark .jupyter-button {\n",
              "                    --jp-layout-color3: #383838;\n",
              "                }\n",
              "                \n",
              "                .geemap-colab {\n",
              "                    background-color: var(--colab-primary-surface-color, white);\n",
              "                }\n",
              "                    \n",
              "                .geemap-colab .jupyter-button {\n",
              "                    --jp-layout-color3: var(--colab-primary-surface-color, white);\n",
              "                }\n",
              "            </style>\n",
              "            "
            ]
          },
          "metadata": {}
        }
      ]
    },
    {
      "cell_type": "markdown",
      "source": [
        "Final Distribution and Inference:"
      ],
      "metadata": {
        "id": "70msYgcm7Lb3"
      },
      "id": "70msYgcm7Lb3"
    },
    {
      "cell_type": "code",
      "source": [
        "w = libpysal.weights.Queen.from_dataframe(gdf)\n",
        "w.transform = 'r'\n",
        "svi_mean = gdf['svi_mean'].values\n",
        "hpb_mean = gdf['hpb_mean'].values\n",
        "moran = ps.explore.esda.moran.Moran_BV(y=svi_mean, x=hpb_mean, w=w)\n",
        "print(f\"Bivariate Moran's I: {moran.I}\")\n",
        "print(f\"p-value: {moran.p_sim}\")\n",
        "if moran.p_sim < 0.05:\n",
        "    if moran.I > 0:\n",
        "        print(\"Positive spatial autocorrelation between SVI Mean and HPB Mean\")\n",
        "    else:\n",
        "        print(\"Negative spatial autocorrelation between SVI Mean and HPB Mean\")\n",
        "else:\n",
        "    print(\"No significant spatial autocorrelation between SVI Mean and HPB Mean\")\n",
        "plot_moran_bv(moran)\n",
        "plt.show()"
      ],
      "metadata": {
        "colab": {
          "base_uri": "https://localhost:8080/",
          "height": 478
        },
        "id": "jQBkMgm6rxys",
        "outputId": "a89cd791-9366-4dad-a398-51c5aed35ef4"
      },
      "id": "jQBkMgm6rxys",
      "execution_count": null,
      "outputs": [
        {
          "output_type": "display_data",
          "data": {
            "text/plain": [
              "<IPython.core.display.HTML object>"
            ],
            "text/html": [
              "\n",
              "            <style>\n",
              "                .geemap-dark {\n",
              "                    --jp-widgets-color: white;\n",
              "                    --jp-widgets-label-color: white;\n",
              "                    --jp-ui-font-color1: white;\n",
              "                    --jp-layout-color2: #454545;\n",
              "                    background-color: #383838;\n",
              "                }\n",
              "                    \n",
              "                .geemap-dark .jupyter-button {\n",
              "                    --jp-layout-color3: #383838;\n",
              "                }\n",
              "                \n",
              "                .geemap-colab {\n",
              "                    background-color: var(--colab-primary-surface-color, white);\n",
              "                }\n",
              "                    \n",
              "                .geemap-colab .jupyter-button {\n",
              "                    --jp-layout-color3: var(--colab-primary-surface-color, white);\n",
              "                }\n",
              "            </style>\n",
              "            "
            ]
          },
          "metadata": {}
        },
        {
          "output_type": "stream",
          "name": "stdout",
          "text": [
            "Bivariate Moran's I: 0.05624913934231314\n",
            "p-value: 0.001\n",
            "Positive spatial autocorrelation between SVI Mean and HPB Mean\n"
          ]
        },
        {
          "output_type": "display_data",
          "data": {
            "text/plain": [
              "<Figure size 1000x400 with 2 Axes>"
            ],
            "image/png": "[encoded data removed]"
          },
          "metadata": {}
        }
      ]
    },
    {
      "cell_type": "markdown",
      "source": [
        "**Result of Moran's I:**\n",
        "\n",
        "<img src=\"https://drive.google.com/uc?id=1zDG70PFXDcriX64LXKVriNiytn31iyI9\" alt=\"MoranI\" >\n"
      ],
      "metadata": {
        "id": "md5YQmasFNiB"
      },
      "id": "md5YQmasFNiB"
    },
    {
      "cell_type": "markdown",
      "metadata": {
        "id": "0e97cc31-2725-4f68-8b65-0f38b523737c"
      },
      "source": [
        "## Ethics"
      ],
      "id": "0e97cc31-2725-4f68-8b65-0f38b523737c"
    },
    {
      "cell_type": "markdown",
      "metadata": {
        "id": "05af177a-440d-424d-be22-e648877a7a4b"
      },
      "source": [
        "### Data Science Ethics Checklist\n",
        "\n",
        "[![Deon badge](https://img.shields.io/badge/ethics%20checklist-deon-brightgreen.svg?style=popout-square)](http://deon.drivendata.org/)\n",
        "\n",
        "#### Database Limitations\n",
        " - [ ] **Social Vulnerability Index (SVI)**\n",
        " >*SVI is a relative score for a locality based upon other localities, so if you're looking at changes over time, changes in vulnerability in a locality may not actually reflect changes within that locality. Additionally, the SVI is based upon Census data, which has its own limitations, such as uncertainty in American Community Survey estimates.*\n",
        " - [ ] **National Land Cover Database (NLCD)**\n",
        " >*The NLCD has a documented accuracy of 82.0%. In one research paper, scientists found the NLCD significantly underestimates tree cover with a national average underestimation of 9.7% and a max underestimation of 28.4%.*\n",
        " - [ ] **Microsoft Building Footprint**\n",
        " >*The database is said to be 99.3% precise and have 93.5% recall as matching building metrics.Researchers report the algorithm fails to detect small buildings, that attached buildings with similar heights are consolidated to form single polygons, and that overcounting is an issue in some places.*\n",
        "\n",
        "#### A. Data Collection\n",
        " - [ ] **A.1 Informed consent**: If there are human subjects, have they given informed consent, where subjects affirmatively opt-in and have a clear understanding of the data uses to which they consent?\n",
        " >*No, people taking the Census don’t necessarily give informed consent to have their data shared/published, or used for research purposes. On the MIcrosoft Building blueprints side, people do not opt-in to having their house or building included in the dataset.*\n",
        " - [ ] **A.2 Collection bias**: Have we considered sources of bias that could be introduced during data collection and survey design and taken steps to mitigate those?\n",
        " >*The Social Vulnerability Index (SVI) we are using takes into account 15 different variables at the census tract level, including race. The way the Census accounts for race is not holistic enough, and leaves a lot to be desired. Some of the descriptors for the variables in the index are self-explanatory, but others are not. For example, income and minority are listed as variables, but there’s no further information on exactly what these variables mean.*\n",
        " - [ ] **A.3 Limit PII exposure**: Have we considered ways to minimize exposure of personally identifiable information (PII) for example through anonymization or not collecting information that isn't relevant for analysis?\n",
        " >*Census data in the SVI is anonymous in and of itself, so this isn’t an issue we need to worry about. We aren’t attaching identifiers to any of the data we’re using, and we’re only putting in the data necessary to answer our research question.*\n",
        " - [ ] **A.4 Downstream bias mitigation**: Have we considered ways to enable testing downstream results for biased outcomes (e.g., collecting data on protected group status like race or gender)?\n",
        " >*Using Census/ACS data is difficult because only a small subset of the population is sampled. How random are those samples? Are areas of all races/socioeconomic classes being evaluated? There is also missing data for a bunch of tracts because the ACS only samples certain areas. Therefore, downstream results could lead to a biased outcome if certain racial or income groups are over- or underrepresented in the SVI.*\n",
        "\n",
        "#### B. Data Storage\n",
        " - [ ] **B.1 Data security**: Do we have a plan to protect and secure data (e.g., encryption at rest and in transit, access controls on internal users and third parties, access logs, and up-to-date software)?\n",
        " >*No, all our data is already publicly available, so we have no further plans to protect and secure our data.*\n",
        " - [ ] **B.2 Right to be forgotten**: Do we have a mechanism through which an individual can request their personal information be removed?\n",
        " >*Once you have filled out the Census, you have no way of removing your information. Therefore, there is no mechanism by which a person can be removed from the dataset; however, individuals cannot be tied to the dataset due to anonymity, so we don’t foresee this being an issue.*\n",
        " - [ ] **B.3 Data retention plan**: Is there a schedule or plan to delete the data after it is no longer needed?\n",
        " >*There are no plans for any data (which is publicly available and historical) to ever be deleted or removed, for any of the databases we’re using.*\n",
        "\n",
        "#### C. Analysis\n",
        " - [ ] **C.1 Missing perspectives**: Have we sought to address blindspots in the analysis through engagement with relevant stakeholders (e.g., checking assumptions and discussing implications with affected communities and subject matter experts)?\n",
        " >*We recognize that the data we are using could have some issues/blindspots. The Land Use/Vegetation dataset, for example, often significantly underestimates tree cover in areas across the US. Microsoft’s Building Footprint is AI-based mapping, and some building counts are often off due to mishaps in the algorithm.*\n",
        " - [ ] **C.2 Dataset bias**: Have we examined the data for possible sources of bias and taken steps to mitigate or address these biases (e.g., stereotype perpetuation, confirmation bias, imbalanced classes, or omitted confounding variables)?\n",
        " >*We recognize there is a margin of error associated with ACS data used in the SVI, but there isn’t really a way to mitigate those errors; however, the SVI has a methodology for dealing with margin of errors and missing values in ACS data. It is also recognized as a limitation of the dataset.*\n",
        " - [ ] **C.3 Honest representation**: Are our visualizations, summary statistics, and reports designed to honestly represent the underlying data?\n",
        " >*We plan to use our visualizations and reports to accurately represent our findings. Map color will be based on intuition (with darker colors and/or reds corresponding to more affected areas) and legends will be prominent enough that the message will be straightforward.*\n",
        " - [ ] **C.4 Privacy in analysis**: Have we ensured that data with PII are not used or displayed unless necessary for the analysis?\n",
        " >*We have no PII in our datasets.*\n",
        " - [ ] **C.5 Auditability**: Is the process of generating the analysis well documented and reproducible if we discover issues in the future?\n",
        " >*We will produce a Python notebook with detailed information on how our analysis was conducted. If issues arise in the future, we will be able to return to this notebook to confirm why certain decisions were made. Instructions will be explicitly stated within the code.*\n",
        "\n",
        "#### D. Modeling\n",
        " - [ ] **D.1 Proxy discrimination**: Have we ensured that the model does not rely on variables or proxies for variables that are unfairly discriminatory?\n",
        " >*Possibly. Because of how the social vulnerability index is calculated, it seems like areas of high minorities and low income communities could be overrepresented in vulnerable areas. This will be noted as a limitation of using the SVI when we’re drawing up conclusions.*\n",
        " - [ ] **D.5 Communicate bias**: Have we communicated the shortcomings, limitations, and biases of the model to relevant stakeholders in ways that can be generally understood?\n",
        " >*We understand the shortcomings and limitations of the databases we are using, and have communicated those through our notebook.*\n",
        "\n",
        "#### E. Deployment\n",
        " - [ ] **E.2 Redress**: Have we discussed with our organization a plan for response if users are harmed by the results (e.g., how does the data science team evaluate these cases and update analysis and models to prevent future harm)?\n",
        " >*We have not made a plan for potential harm yet, but that is a future conversation we plan on having.*\n",
        " - [ ] **E.4 Unintended use**: Have we taken steps to identify and prevent unintended uses and abuse of the model and do we have a plan to monitor these once the model is deployed?\n",
        " >*We have identified some potential unintentional uses, such as insurance companies using WUI classifications to raise prices for customers in those areas. WUI data (including exact/known WUI areas) will only be distributed if requested so we'll know where exactly it's going to.*\n",
        "\n",
        "#### F. Additional/Miscellaneous Categories\n",
        " - [ ] **F.1 Database Years**: Does all the data come from the same year?\n",
        " >*Due to availability, there are some mismatches between the years of our databases. For example, for the 2014 fire data, we have to use the WUI from 2013. However, we don't forsee many changes occurring from year to year within the WUI and don't believe this will be a huge issue.*\n",
        " - [ ] **F.2 Mapping Limitations**: What limitations did we run into while mapping the WUI?\n",
        " >*We only mapped the WUI intermix (buildings surrounded by vegetation) did not map the WUI interface (buildings adjacent to wildland areas). Therefore, some of the towns that have been most affected by wildfire damage aren't included in our WUI*\n",
        "\n",
        "*Data Science Ethics Checklist generated with [deon](http://deon.drivendata.org).*"
      ],
      "id": "05af177a-440d-424d-be22-e648877a7a4b"
    }
  ],
  "metadata": {
    "colab": {
      "provenance": []
    },
    "kernelspec": {
      "display_name": "Python 3",
      "name": "python3"
    },
    "language_info": {
      "name": "python"
    },
    "widgets": {
      "application/vnd.jupyter.widget-state+json": {
        "1cabbfdb20e04534ab294ddeb432f93f": {
          "model_module": "jupyter-leaflet",
          "model_name": "LeafletMapModel",
          "model_module_version": "^0.17",
          "state": {
            "_dom_classes": [],
            "_model_module": "jupyter-leaflet",
            "_model_module_version": "^0.17",
            "_model_name": "LeafletMapModel",
            "_view_count": null,
            "_view_module": "jupyter-leaflet",
            "_view_module_version": "^0.17",
            "_view_name": "LeafletMapView",
            "bottom": 1851,
            "bounce_at_zoom_limits": true,
            "box_zoom": true,
            "center": [
              40,
              -100
            ],
            "close_popup_on_click": true,
            "controls": [
              "IPY_MODEL_25099deaed004875809c412a46333712",
              "IPY_MODEL_7e492284161846e1a43cb7c7925a76cd",
              "IPY_MODEL_6f213108dedf457caf32eb94f3322bd9",
              "IPY_MODEL_23ba2d0375d242c5b34bd28015ee846d",
              "IPY_MODEL_3b5232a0218f448b89de8d42d978595a",
              "IPY_MODEL_4a9c9dab153449f3a2d7ef6722639c17",
              "IPY_MODEL_e4f536fe179f40e79b25c6d23bebd992",
              "IPY_MODEL_44b2a4d6ce3f4f22a683edea8c31dfa9"
            ],
            "crs": {
              "name": "EPSG3857",
              "custom": false
            },
            "default_style": "IPY_MODEL_30d32517f4c34b6597c8ac22aa42724a",
            "double_click_zoom": true,
            "dragging": true,
            "dragging_style": "IPY_MODEL_137f2a8222b540849cbc4d23afd8710a",
            "east": -57.30468750000001,
            "fullscreen": false,
            "inertia": true,
            "inertia_deceleration": 3000,
            "inertia_max_speed": 1500,
            "interpolation": "bilinear",
            "keyboard": true,
            "keyboard_pan_offset": 80,
            "keyboard_zoom_offset": 1,
            "layers": [
              "IPY_MODEL_a5868385075d40ba89eb9bb8ae7a4d3d",
              "IPY_MODEL_5d48eb8a039b41e1b443ab43ddb2307e",
              "IPY_MODEL_1f04570b45174c849c40605c876e4474",
              "IPY_MODEL_626e3266a82447fb91ca4308b772f48e",
              "IPY_MODEL_a36de3fe2ada44bbaddd4fc8366583f8",
              "IPY_MODEL_46cfc597f82c4b19a91de422a0f97674"
            ],
            "layout": "IPY_MODEL_38159f812b2746858b0ca5b12d499e5b",
            "left": 425,
            "max_zoom": 24,
            "min_zoom": null,
            "modisdate": "2023-11-01",
            "north": 57.18390185831188,
            "options": [
              "bounce_at_zoom_limits",
              "box_zoom",
              "center",
              "close_popup_on_click",
              "double_click_zoom",
              "dragging",
              "fullscreen",
              "inertia",
              "inertia_deceleration",
              "inertia_max_speed",
              "interpolation",
              "keyboard",
              "keyboard_pan_offset",
              "keyboard_zoom_offset",
              "max_zoom",
              "min_zoom",
              "prefer_canvas",
              "scroll_wheel_zoom",
              "tap",
              "tap_tolerance",
              "touch_zoom",
              "world_copy_jump",
              "zoom",
              "zoom_animation_threshold",
              "zoom_delta",
              "zoom_snap"
            ],
            "panes": {},
            "prefer_canvas": false,
            "right": 1396,
            "scroll_wheel_zoom": true,
            "south": 17.056784609942554,
            "style": "IPY_MODEL_6c3c61592f1047e0b67e3c39338f761c",
            "tap": true,
            "tap_tolerance": 15,
            "top": 1251,
            "touch_zoom": true,
            "west": -142.64648437500003,
            "window_url": "https://ib3315fx9zl-496ff2e9c6d22116-0-colab.googleusercontent.com/outputframe.html?vrz=colab_20231101-060153_RC00_578477442",
            "world_copy_jump": false,
            "zoom": 4,
            "zoom_animation_threshold": 4,
            "zoom_delta": 1,
            "zoom_snap": 1
          }
        },
        "25099deaed004875809c412a46333712": {
          "model_module": "jupyter-leaflet",
          "model_name": "LeafletWidgetControlModel",
          "model_module_version": "^0.17",
          "state": {
            "_model_module": "jupyter-leaflet",
            "_model_module_version": "^0.17",
            "_model_name": "LeafletWidgetControlModel",
            "_view_count": null,
            "_view_module": "jupyter-leaflet",
            "_view_module_version": "^0.17",
            "_view_name": "LeafletWidgetControlView",
            "max_height": null,
            "max_width": null,
            "min_height": null,
            "min_width": null,
            "options": [
              "position",
              "transparent_bg"
            ],
            "position": "topleft",
            "transparent_bg": false,
            "widget": "IPY_MODEL_899504a7721545aeb0f611cd2bd12668"
          }
        },
        "7e492284161846e1a43cb7c7925a76cd": {
          "model_module": "jupyter-leaflet",
          "model_name": "LeafletZoomControlModel",
          "model_module_version": "^0.17",
          "state": {
            "_model_module": "jupyter-leaflet",
            "_model_module_version": "^0.17",
            "_model_name": "LeafletZoomControlModel",
            "_view_count": null,
            "_view_module": "jupyter-leaflet",
            "_view_module_version": "^0.17",
            "_view_name": "LeafletZoomControlView",
            "options": [
              "position",
              "zoom_in_text",
              "zoom_in_title",
              "zoom_out_text",
              "zoom_out_title"
            ],
            "position": "topleft",
            "zoom_in_text": "+",
            "zoom_in_title": "Zoom in",
            "zoom_out_text": "-",
            "zoom_out_title": "Zoom out"
          }
        },
        "6f213108dedf457caf32eb94f3322bd9": {
          "model_module": "jupyter-leaflet",
          "model_name": "LeafletFullScreenControlModel",
          "model_module_version": "^0.17",
          "state": {
            "_model_module": "jupyter-leaflet",
            "_model_module_version": "^0.17",
            "_model_name": "LeafletFullScreenControlModel",
            "_view_count": null,
            "_view_module": "jupyter-leaflet",
            "_view_module_version": "^0.17",
            "_view_name": "LeafletFullScreenControlView",
            "options": [
              "position"
            ],
            "position": "topleft"
          }
        },
        "23ba2d0375d242c5b34bd28015ee846d": {
          "model_module": "jupyter-leaflet",
          "model_name": "LeafletDrawControlModel",
          "model_module_version": "^0.17",
          "state": {
            "_model_module": "jupyter-leaflet",
            "_model_module_version": "^0.17",
            "_model_name": "LeafletDrawControlModel",
            "_view_count": null,
            "_view_module": "jupyter-leaflet",
            "_view_module_version": "^0.17",
            "_view_name": "LeafletDrawControlView",
            "circle": {},
            "circlemarker": {},
            "data": [],
            "edit": true,
            "marker": {
              "shapeOptions": {
                "color": "#3388ff"
              }
            },
            "options": [
              "position"
            ],
            "polygon": {
              "shapeOptions": {}
            },
            "polyline": {
              "shapeOptions": {}
            },
            "position": "topleft",
            "rectangle": {
              "shapeOptions": {
                "color": "#3388ff"
              }
            },
            "remove": true
          }
        },
        "3b5232a0218f448b89de8d42d978595a": {
          "model_module": "jupyter-leaflet",
          "model_name": "LeafletScaleControlModel",
          "model_module_version": "^0.17",
          "state": {
            "_model_module": "jupyter-leaflet",
            "_model_module_version": "^0.17",
            "_model_name": "LeafletScaleControlModel",
            "_view_count": null,
            "_view_module": "jupyter-leaflet",
            "_view_module_version": "^0.17",
            "_view_name": "LeafletScaleControlView",
            "imperial": true,
            "max_width": 100,
            "metric": true,
            "options": [
              "imperial",
              "max_width",
              "metric",
              "position",
              "update_when_idle"
            ],
            "position": "bottomleft",
            "update_when_idle": false
          }
        },
        "4a9c9dab153449f3a2d7ef6722639c17": {
          "model_module": "jupyter-leaflet",
          "model_name": "LeafletMeasureControlModel",
          "model_module_version": "^0.17",
          "state": {
            "_custom_units": {},
            "_model_module": "jupyter-leaflet",
            "_model_module_version": "^0.17",
            "_model_name": "LeafletMeasureControlModel",
            "_view_count": null,
            "_view_module": "jupyter-leaflet",
            "_view_module_version": "^0.17",
            "_view_name": "LeafletMeasureControlView",
            "active_color": "orange",
            "capture_z_index": 10000,
            "completed_color": "#C8F2BE",
            "options": [
              "active_color",
              "capture_z_index",
              "completed_color",
              "popup_options",
              "position",
              "primary_area_unit",
              "primary_length_unit",
              "secondary_area_unit",
              "secondary_length_unit"
            ],
            "popup_options": {
              "className": "leaflet-measure-resultpopup",
              "autoPanPadding": [
                10,
                10
              ]
            },
            "position": "bottomleft",
            "primary_area_unit": "acres",
            "primary_length_unit": "kilometers",
            "secondary_area_unit": null,
            "secondary_length_unit": null
          }
        },
        "e4f536fe179f40e79b25c6d23bebd992": {
          "model_module": "jupyter-leaflet",
          "model_name": "LeafletWidgetControlModel",
          "model_module_version": "^0.17",
          "state": {
            "_model_module": "jupyter-leaflet",
            "_model_module_version": "^0.17",
            "_model_name": "LeafletWidgetControlModel",
            "_view_count": null,
            "_view_module": "jupyter-leaflet",
            "_view_module_version": "^0.17",
            "_view_name": "LeafletWidgetControlView",
            "max_height": null,
            "max_width": null,
            "min_height": null,
            "min_width": null,
            "options": [
              "position",
              "transparent_bg"
            ],
            "position": "topright",
            "transparent_bg": false,
            "widget": "IPY_MODEL_4ad6a8a1b5f44c31a4cf4ca4c44a7183"
          }
        },
        "44b2a4d6ce3f4f22a683edea8c31dfa9": {
          "model_module": "jupyter-leaflet",
          "model_name": "LeafletAttributionControlModel",
          "model_module_version": "^0.17",
          "state": {
            "_model_module": "jupyter-leaflet",
            "_model_module_version": "^0.17",
            "_model_name": "LeafletAttributionControlModel",
            "_view_count": null,
            "_view_module": "jupyter-leaflet",
            "_view_module_version": "^0.17",
            "_view_name": "LeafletAttributionControlView",
            "options": [
              "position",
              "prefix"
            ],
            "position": "bottomright",
            "prefix": "ipyleaflet"
          }
        },
        "30d32517f4c34b6597c8ac22aa42724a": {
          "model_module": "jupyter-leaflet",
          "model_name": "LeafletMapStyleModel",
          "model_module_version": "^0.17",
          "state": {
            "_model_module": "jupyter-leaflet",
            "_model_module_version": "^0.17",
            "_model_name": "LeafletMapStyleModel",
            "_view_count": null,
            "_view_module": "@jupyter-widgets/base",
            "_view_module_version": "1.2.0",
            "_view_name": "StyleView",
            "cursor": "grab"
          }
        },
        "137f2a8222b540849cbc4d23afd8710a": {
          "model_module": "jupyter-leaflet",
          "model_name": "LeafletMapStyleModel",
          "model_module_version": "^0.17",
          "state": {
            "_model_module": "jupyter-leaflet",
            "_model_module_version": "^0.17",
            "_model_name": "LeafletMapStyleModel",
            "_view_count": null,
            "_view_module": "@jupyter-widgets/base",
            "_view_module_version": "1.2.0",
            "_view_name": "StyleView",
            "cursor": "move"
          }
        },
        "a5868385075d40ba89eb9bb8ae7a4d3d": {
          "model_module": "jupyter-leaflet",
          "model_name": "LeafletTileLayerModel",
          "model_module_version": "^0.17",
          "state": {
            "_model_module": "jupyter-leaflet",
            "_model_module_version": "^0.17",
            "_model_name": "LeafletTileLayerModel",
            "_view_count": null,
            "_view_module": "jupyter-leaflet",
            "_view_module_version": "^0.17",
            "_view_name": "LeafletTileLayerView",
            "attribution": "&copy; <a href=\"https://www.openstreetmap.org/copyright\">OpenStreetMap</a> contributors",
            "base": true,
            "bottom": true,
            "bounds": null,
            "detect_retina": false,
            "loading": false,
            "max_native_zoom": null,
            "max_zoom": 19,
            "min_native_zoom": null,
            "min_zoom": 1,
            "name": "OpenStreetMap.Mapnik",
            "no_wrap": false,
            "opacity": 1,
            "options": [
              "attribution",
              "bounds",
              "detect_retina",
              "max_native_zoom",
              "max_zoom",
              "min_native_zoom",
              "min_zoom",
              "no_wrap",
              "tile_size",
              "tms",
              "zoom_offset"
            ],
            "pane": "",
            "popup": null,
            "popup_max_height": null,
            "popup_max_width": 300,
            "popup_min_width": 50,
            "show_loading": false,
            "subitems": [],
            "tile_size": 256,
            "tms": false,
            "url": "https://tile.openstreetmap.org/{z}/{x}/{y}.png",
            "visible": true,
            "zoom_offset": 0
          }
        },
        "5d48eb8a039b41e1b443ab43ddb2307e": {
          "model_module": "jupyter-leaflet",
          "model_name": "LeafletTileLayerModel",
          "model_module_version": "^0.17",
          "state": {
            "_model_module": "jupyter-leaflet",
            "_model_module_version": "^0.17",
            "_model_name": "LeafletTileLayerModel",
            "_view_count": null,
            "_view_module": "jupyter-leaflet",
            "_view_module_version": "^0.17",
            "_view_name": "LeafletTileLayerView",
            "attribution": "Google Earth Engine",
            "base": false,
            "bottom": true,
            "bounds": null,
            "detect_retina": false,
            "loading": false,
            "max_native_zoom": null,
            "max_zoom": 24,
            "min_native_zoom": null,
            "min_zoom": 0,
            "name": "Risk",
            "no_wrap": false,
            "opacity": 1,
            "options": [
              "attribution",
              "bounds",
              "detect_retina",
              "max_native_zoom",
              "max_zoom",
              "min_native_zoom",
              "min_zoom",
              "no_wrap",
              "tile_size",
              "tms",
              "zoom_offset"
            ],
            "pane": "",
            "popup": null,
            "popup_max_height": null,
            "popup_max_width": 300,
            "popup_min_width": 50,
            "show_loading": false,
            "subitems": [],
            "tile_size": 256,
            "tms": false,
            "url": "https://earthengine.googleapis.com/v1/projects/earthengine-legacy/maps/78ffee68b67d98100852cef3339104bc-3b2b22315e4239276ca0f0c7e139c6da/tiles/{z}/{x}/{y}",
            "visible": false,
            "zoom_offset": 0
          }
        },
        "1f04570b45174c849c40605c876e4474": {
          "model_module": "jupyter-leaflet",
          "model_name": "LeafletTileLayerModel",
          "model_module_version": "^0.17",
          "state": {
            "_model_module": "jupyter-leaflet",
            "_model_module_version": "^0.17",
            "_model_name": "LeafletTileLayerModel",
            "_view_count": null,
            "_view_module": "jupyter-leaflet",
            "_view_module_version": "^0.17",
            "_view_name": "LeafletTileLayerView",
            "attribution": "Google Earth Engine",
            "base": false,
            "bottom": true,
            "bounds": null,
            "detect_retina": false,
            "loading": false,
            "max_native_zoom": null,
            "max_zoom": 24,
            "min_native_zoom": null,
            "min_zoom": 0,
            "name": "Vulnerability",
            "no_wrap": false,
            "opacity": 1,
            "options": [
              "attribution",
              "bounds",
              "detect_retina",
              "max_native_zoom",
              "max_zoom",
              "min_native_zoom",
              "min_zoom",
              "no_wrap",
              "tile_size",
              "tms",
              "zoom_offset"
            ],
            "pane": "",
            "popup": null,
            "popup_max_height": null,
            "popup_max_width": 300,
            "popup_min_width": 50,
            "show_loading": false,
            "subitems": [],
            "tile_size": 256,
            "tms": false,
            "url": "https://earthengine.googleapis.com/v1/projects/earthengine-legacy/maps/c9cdd4aaf7c45d2d8ff98e4faf441050-a42fbfcb45587a69dbdbe724a465773d/tiles/{z}/{x}/{y}",
            "visible": false,
            "zoom_offset": 0
          }
        },
        "626e3266a82447fb91ca4308b772f48e": {
          "model_module": "jupyter-leaflet",
          "model_name": "LeafletTileLayerModel",
          "model_module_version": "^0.17",
          "state": {
            "_model_module": "jupyter-leaflet",
            "_model_module_version": "^0.17",
            "_model_name": "LeafletTileLayerModel",
            "_view_count": null,
            "_view_module": "jupyter-leaflet",
            "_view_module_version": "^0.17",
            "_view_name": "LeafletTileLayerView",
            "attribution": "Google Earth Engine",
            "base": false,
            "bottom": true,
            "bounds": null,
            "detect_retina": false,
            "loading": false,
            "max_native_zoom": null,
            "max_zoom": 24,
            "min_native_zoom": null,
            "min_zoom": 0,
            "name": "WUI",
            "no_wrap": false,
            "opacity": 1,
            "options": [
              "attribution",
              "bounds",
              "detect_retina",
              "max_native_zoom",
              "max_zoom",
              "min_native_zoom",
              "min_zoom",
              "no_wrap",
              "tile_size",
              "tms",
              "zoom_offset"
            ],
            "pane": "",
            "popup": null,
            "popup_max_height": null,
            "popup_max_width": 300,
            "popup_min_width": 50,
            "show_loading": false,
            "subitems": [],
            "tile_size": 256,
            "tms": false,
            "url": "https://earthengine.googleapis.com/v1/projects/earthengine-legacy/maps/4a21b6f221e6f76397d000be90d5e69a-6b2508d659fa56dca4f1e88b6bc682f5/tiles/{z}/{x}/{y}",
            "visible": true,
            "zoom_offset": 0
          }
        },
        "a36de3fe2ada44bbaddd4fc8366583f8": {
          "model_module": "jupyter-leaflet",
          "model_name": "LeafletTileLayerModel",
          "model_module_version": "^0.17",
          "state": {
            "_model_module": "jupyter-leaflet",
            "_model_module_version": "^0.17",
            "_model_name": "LeafletTileLayerModel",
            "_view_count": null,
            "_view_module": "jupyter-leaflet",
            "_view_module_version": "^0.17",
            "_view_name": "LeafletTileLayerView",
            "attribution": "Google Earth Engine",
            "base": false,
            "bottom": true,
            "bounds": null,
            "detect_retina": false,
            "loading": false,
            "max_native_zoom": null,
            "max_zoom": 24,
            "min_native_zoom": null,
            "min_zoom": 0,
            "name": "Vulnerability WUI",
            "no_wrap": false,
            "opacity": 1,
            "options": [
              "attribution",
              "bounds",
              "detect_retina",
              "max_native_zoom",
              "max_zoom",
              "min_native_zoom",
              "min_zoom",
              "no_wrap",
              "tile_size",
              "tms",
              "zoom_offset"
            ],
            "pane": "",
            "popup": null,
            "popup_max_height": null,
            "popup_max_width": 300,
            "popup_min_width": 50,
            "show_loading": false,
            "subitems": [],
            "tile_size": 256,
            "tms": false,
            "url": "https://earthengine.googleapis.com/v1/projects/earthengine-legacy/maps/47da39c9909134f2e586c14ef3706331-7b9e9b076c01357b9105ab2448f3045e/tiles/{z}/{x}/{y}",
            "visible": true,
            "zoom_offset": 0
          }
        },
        "46cfc597f82c4b19a91de422a0f97674": {
          "model_module": "jupyter-leaflet",
          "model_name": "LeafletTileLayerModel",
          "model_module_version": "^0.17",
          "state": {
            "_model_module": "jupyter-leaflet",
            "_model_module_version": "^0.17",
            "_model_name": "LeafletTileLayerModel",
            "_view_count": null,
            "_view_module": "jupyter-leaflet",
            "_view_module_version": "^0.17",
            "_view_name": "LeafletTileLayerView",
            "attribution": "Google Earth Engine",
            "base": false,
            "bottom": true,
            "bounds": null,
            "detect_retina": false,
            "loading": false,
            "max_native_zoom": null,
            "max_zoom": 24,
            "min_native_zoom": null,
            "min_zoom": 0,
            "name": "Risk WUI",
            "no_wrap": false,
            "opacity": 1,
            "options": [
              "attribution",
              "bounds",
              "detect_retina",
              "max_native_zoom",
              "max_zoom",
              "min_native_zoom",
              "min_zoom",
              "no_wrap",
              "tile_size",
              "tms",
              "zoom_offset"
            ],
            "pane": "",
            "popup": null,
            "popup_max_height": null,
            "popup_max_width": 300,
            "popup_min_width": 50,
            "show_loading": false,
            "subitems": [],
            "tile_size": 256,
            "tms": false,
            "url": "https://earthengine.googleapis.com/v1/projects/earthengine-legacy/maps/683ed073899af59fd00bc6a130324e5b-cec16c6aa62fa1570c3c4e50cba9d4d9/tiles/{z}/{x}/{y}",
            "visible": true,
            "zoom_offset": 0
          }
        },
        "38159f812b2746858b0ca5b12d499e5b": {
          "model_module": "@jupyter-widgets/base",
          "model_name": "LayoutModel",
          "model_module_version": "1.2.0",
          "state": {
            "_model_module": "@jupyter-widgets/base",
            "_model_module_version": "1.2.0",
            "_model_name": "LayoutModel",
            "_view_count": null,
            "_view_module": "@jupyter-widgets/base",
            "_view_module_version": "1.2.0",
            "_view_name": "LayoutView",
            "align_content": null,
            "align_items": null,
            "align_self": null,
            "border": null,
            "bottom": null,
            "display": null,
            "flex": null,
            "flex_flow": null,
            "grid_area": null,
            "grid_auto_columns": null,
            "grid_auto_flow": null,
            "grid_auto_rows": null,
            "grid_column": null,
            "grid_gap": null,
            "grid_row": null,
            "grid_template_areas": null,
            "grid_template_columns": null,
            "grid_template_rows": null,
            "height": "600px",
            "justify_content": null,
            "justify_items": null,
            "left": null,
            "margin": null,
            "max_height": null,
            "max_width": null,
            "min_height": null,
            "min_width": null,
            "object_fit": null,
            "object_position": null,
            "order": null,
            "overflow": null,
            "overflow_x": null,
            "overflow_y": null,
            "padding": null,
            "right": null,
            "top": null,
            "visibility": null,
            "width": null
          }
        },
        "6c3c61592f1047e0b67e3c39338f761c": {
          "model_module": "jupyter-leaflet",
          "model_name": "LeafletMapStyleModel",
          "model_module_version": "^0.17",
          "state": {
            "_model_module": "jupyter-leaflet",
            "_model_module_version": "^0.17",
            "_model_name": "LeafletMapStyleModel",
            "_view_count": null,
            "_view_module": "@jupyter-widgets/base",
            "_view_module_version": "1.2.0",
            "_view_name": "StyleView",
            "cursor": "grab"
          }
        },
        "899504a7721545aeb0f611cd2bd12668": {
          "model_module": "@jupyter-widgets/controls",
          "model_name": "HBoxModel",
          "model_module_version": "1.5.0",
          "state": {
            "_dom_classes": [
              "geemap-colab"
            ],
            "_model_module": "@jupyter-widgets/controls",
            "_model_module_version": "1.5.0",
            "_model_name": "HBoxModel",
            "_view_count": null,
            "_view_module": "@jupyter-widgets/controls",
            "_view_module_version": "1.5.0",
            "_view_name": "HBoxView",
            "box_style": "",
            "children": [
              "IPY_MODEL_52cf6f3824b74655b6418f3c138c892d"
            ],
            "layout": "IPY_MODEL_2354fb6d103f42d698bbf2b981c39b15"
          }
        },
        "4ad6a8a1b5f44c31a4cf4ca4c44a7183": {
          "model_module": "@jupyter-widgets/controls",
          "model_name": "VBoxModel",
          "model_module_version": "1.5.0",
          "state": {
            "_dom_classes": [
              "geemap-colab"
            ],
            "_model_module": "@jupyter-widgets/controls",
            "_model_module_version": "1.5.0",
            "_model_name": "VBoxModel",
            "_view_count": null,
            "_view_module": "@jupyter-widgets/controls",
            "_view_module_version": "1.5.0",
            "_view_name": "VBoxView",
            "box_style": "",
            "children": [
              "IPY_MODEL_85e9cadd49ff4d40a5307bbd97cda97f"
            ],
            "layout": "IPY_MODEL_0bfd4223fbcb462e81a49871284baff0"
          }
        },
        "52cf6f3824b74655b6418f3c138c892d": {
          "model_module": "@jupyter-widgets/controls",
          "model_name": "ToggleButtonModel",
          "model_module_version": "1.5.0",
          "state": {
            "_dom_classes": [],
            "_model_module": "@jupyter-widgets/controls",
            "_model_module_version": "1.5.0",
            "_model_name": "ToggleButtonModel",
            "_view_count": null,
            "_view_module": "@jupyter-widgets/controls",
            "_view_module_version": "1.5.0",
            "_view_name": "ToggleButtonView",
            "button_style": "",
            "description": "",
            "description_tooltip": null,
            "disabled": false,
            "icon": "globe",
            "layout": "IPY_MODEL_8493db0db7444dc4adba47c3ffb5de0b",
            "style": "IPY_MODEL_7b4053f7e8db41bc9b0ca216aa3bb514",
            "tooltip": "Search location/data",
            "value": false
          }
        },
        "2354fb6d103f42d698bbf2b981c39b15": {
          "model_module": "@jupyter-widgets/base",
          "model_name": "LayoutModel",
          "model_module_version": "1.2.0",
          "state": {
            "_model_module": "@jupyter-widgets/base",
            "_model_module_version": "1.2.0",
            "_model_name": "LayoutModel",
            "_view_count": null,
            "_view_module": "@jupyter-widgets/base",
            "_view_module_version": "1.2.0",
            "_view_name": "LayoutView",
            "align_content": null,
            "align_items": null,
            "align_self": null,
            "border": null,
            "bottom": null,
            "display": null,
            "flex": null,
            "flex_flow": null,
            "grid_area": null,
            "grid_auto_columns": null,
            "grid_auto_flow": null,
            "grid_auto_rows": null,
            "grid_column": null,
            "grid_gap": null,
            "grid_row": null,
            "grid_template_areas": null,
            "grid_template_columns": null,
            "grid_template_rows": null,
            "height": null,
            "justify_content": null,
            "justify_items": null,
            "left": null,
            "margin": null,
            "max_height": null,
            "max_width": null,
            "min_height": null,
            "min_width": null,
            "object_fit": null,
            "object_position": null,
            "order": null,
            "overflow": null,
            "overflow_x": null,
            "overflow_y": null,
            "padding": null,
            "right": null,
            "top": null,
            "visibility": null,
            "width": null
          }
        },
        "85e9cadd49ff4d40a5307bbd97cda97f": {
          "model_module": "@jupyter-widgets/controls",
          "model_name": "ToggleButtonModel",
          "model_module_version": "1.5.0",
          "state": {
            "_dom_classes": [],
            "_model_module": "@jupyter-widgets/controls",
            "_model_module_version": "1.5.0",
            "_model_name": "ToggleButtonModel",
            "_view_count": null,
            "_view_module": "@jupyter-widgets/controls",
            "_view_module_version": "1.5.0",
            "_view_name": "ToggleButtonView",
            "button_style": "",
            "description": "",
            "description_tooltip": null,
            "disabled": false,
            "icon": "wrench",
            "layout": "IPY_MODEL_ead60bfd6e0a4527846c778f1e24acaa",
            "style": "IPY_MODEL_fe15910d1d20404b9cbf957c60de9c8f",
            "tooltip": "Toolbar",
            "value": false
          }
        },
        "0bfd4223fbcb462e81a49871284baff0": {
          "model_module": "@jupyter-widgets/base",
          "model_name": "LayoutModel",
          "model_module_version": "1.2.0",
          "state": {
            "_model_module": "@jupyter-widgets/base",
            "_model_module_version": "1.2.0",
            "_model_name": "LayoutModel",
            "_view_count": null,
            "_view_module": "@jupyter-widgets/base",
            "_view_module_version": "1.2.0",
            "_view_name": "LayoutView",
            "align_content": null,
            "align_items": null,
            "align_self": null,
            "border": null,
            "bottom": null,
            "display": null,
            "flex": null,
            "flex_flow": null,
            "grid_area": null,
            "grid_auto_columns": null,
            "grid_auto_flow": null,
            "grid_auto_rows": null,
            "grid_column": null,
            "grid_gap": null,
            "grid_row": null,
            "grid_template_areas": null,
            "grid_template_columns": null,
            "grid_template_rows": null,
            "height": null,
            "justify_content": null,
            "justify_items": null,
            "left": null,
            "margin": null,
            "max_height": null,
            "max_width": null,
            "min_height": null,
            "min_width": null,
            "object_fit": null,
            "object_position": null,
            "order": null,
            "overflow": null,
            "overflow_x": null,
            "overflow_y": null,
            "padding": null,
            "right": null,
            "top": null,
            "visibility": null,
            "width": null
          }
        },
        "8493db0db7444dc4adba47c3ffb5de0b": {
          "model_module": "@jupyter-widgets/base",
          "model_name": "LayoutModel",
          "model_module_version": "1.2.0",
          "state": {
            "_model_module": "@jupyter-widgets/base",
            "_model_module_version": "1.2.0",
            "_model_name": "LayoutModel",
            "_view_count": null,
            "_view_module": "@jupyter-widgets/base",
            "_view_module_version": "1.2.0",
            "_view_name": "LayoutView",
            "align_content": null,
            "align_items": null,
            "align_self": null,
            "border": null,
            "bottom": null,
            "display": null,
            "flex": null,
            "flex_flow": null,
            "grid_area": null,
            "grid_auto_columns": null,
            "grid_auto_flow": null,
            "grid_auto_rows": null,
            "grid_column": null,
            "grid_gap": null,
            "grid_row": null,
            "grid_template_areas": null,
            "grid_template_columns": null,
            "grid_template_rows": null,
            "height": "28px",
            "justify_content": null,
            "justify_items": null,
            "left": null,
            "margin": null,
            "max_height": null,
            "max_width": null,
            "min_height": null,
            "min_width": null,
            "object_fit": null,
            "object_position": null,
            "order": null,
            "overflow": null,
            "overflow_x": null,
            "overflow_y": null,
            "padding": "0px 0px 0px 4px",
            "right": null,
            "top": null,
            "visibility": null,
            "width": "28px"
          }
        },
        "7b4053f7e8db41bc9b0ca216aa3bb514": {
          "model_module": "@jupyter-widgets/controls",
          "model_name": "DescriptionStyleModel",
          "model_module_version": "1.5.0",
          "state": {
            "_model_module": "@jupyter-widgets/controls",
            "_model_module_version": "1.5.0",
            "_model_name": "DescriptionStyleModel",
            "_view_count": null,
            "_view_module": "@jupyter-widgets/base",
            "_view_module_version": "1.2.0",
            "_view_name": "StyleView",
            "description_width": ""
          }
        },
        "ead60bfd6e0a4527846c778f1e24acaa": {
          "model_module": "@jupyter-widgets/base",
          "model_name": "LayoutModel",
          "model_module_version": "1.2.0",
          "state": {
            "_model_module": "@jupyter-widgets/base",
            "_model_module_version": "1.2.0",
            "_model_name": "LayoutModel",
            "_view_count": null,
            "_view_module": "@jupyter-widgets/base",
            "_view_module_version": "1.2.0",
            "_view_name": "LayoutView",
            "align_content": null,
            "align_items": null,
            "align_self": null,
            "border": null,
            "bottom": null,
            "display": null,
            "flex": null,
            "flex_flow": null,
            "grid_area": null,
            "grid_auto_columns": null,
            "grid_auto_flow": null,
            "grid_auto_rows": null,
            "grid_column": null,
            "grid_gap": null,
            "grid_row": null,
            "grid_template_areas": null,
            "grid_template_columns": null,
            "grid_template_rows": null,
            "height": "28px",
            "justify_content": null,
            "justify_items": null,
            "left": null,
            "margin": null,
            "max_height": null,
            "max_width": null,
            "min_height": null,
            "min_width": null,
            "object_fit": null,
            "object_position": null,
            "order": null,
            "overflow": null,
            "overflow_x": null,
            "overflow_y": null,
            "padding": "0px 0px 0px 4px",
            "right": null,
            "top": null,
            "visibility": null,
            "width": "28px"
          }
        },
        "fe15910d1d20404b9cbf957c60de9c8f": {
          "model_module": "@jupyter-widgets/controls",
          "model_name": "DescriptionStyleModel",
          "model_module_version": "1.5.0",
          "state": {
            "_model_module": "@jupyter-widgets/controls",
            "_model_module_version": "1.5.0",
            "_model_name": "DescriptionStyleModel",
            "_view_count": null,
            "_view_module": "@jupyter-widgets/base",
            "_view_module_version": "1.2.0",
            "_view_name": "StyleView",
            "description_width": ""
          }
        },
        "e2c370c644554484b7d37f91475e4838": {
          "model_module": "@jupyter-widgets/controls",
          "model_name": "TextModel",
          "model_module_version": "1.5.0",
          "state": {
            "_dom_classes": [],
            "_model_module": "@jupyter-widgets/controls",
            "_model_module_version": "1.5.0",
            "_model_name": "TextModel",
            "_view_count": null,
            "_view_module": "@jupyter-widgets/controls",
            "_view_module_version": "1.5.0",
            "_view_name": "TextView",
            "continuous_update": true,
            "description": "Year:",
            "description_tooltip": null,
            "disabled": false,
            "layout": "IPY_MODEL_75d8366ba7e448c88fe0bd51dfbe3360",
            "placeholder": "Type the year here",
            "style": "IPY_MODEL_8303ffdcf7d04db2a32cab5abc8a878d",
            "value": "2019"
          }
        },
        "75d8366ba7e448c88fe0bd51dfbe3360": {
          "model_module": "@jupyter-widgets/base",
          "model_name": "LayoutModel",
          "model_module_version": "1.2.0",
          "state": {
            "_model_module": "@jupyter-widgets/base",
            "_model_module_version": "1.2.0",
            "_model_name": "LayoutModel",
            "_view_count": null,
            "_view_module": "@jupyter-widgets/base",
            "_view_module_version": "1.2.0",
            "_view_name": "LayoutView",
            "align_content": null,
            "align_items": null,
            "align_self": null,
            "border": null,
            "bottom": null,
            "display": null,
            "flex": null,
            "flex_flow": null,
            "grid_area": null,
            "grid_auto_columns": null,
            "grid_auto_flow": null,
            "grid_auto_rows": null,
            "grid_column": null,
            "grid_gap": null,
            "grid_row": null,
            "grid_template_areas": null,
            "grid_template_columns": null,
            "grid_template_rows": null,
            "height": null,
            "justify_content": null,
            "justify_items": null,
            "left": null,
            "margin": null,
            "max_height": null,
            "max_width": null,
            "min_height": null,
            "min_width": null,
            "object_fit": null,
            "object_position": null,
            "order": null,
            "overflow": null,
            "overflow_x": null,
            "overflow_y": null,
            "padding": null,
            "right": null,
            "top": null,
            "visibility": null,
            "width": null
          }
        },
        "8303ffdcf7d04db2a32cab5abc8a878d": {
          "model_module": "@jupyter-widgets/controls",
          "model_name": "DescriptionStyleModel",
          "model_module_version": "1.5.0",
          "state": {
            "_model_module": "@jupyter-widgets/controls",
            "_model_module_version": "1.5.0",
            "_model_name": "DescriptionStyleModel",
            "_view_count": null,
            "_view_module": "@jupyter-widgets/base",
            "_view_module_version": "1.2.0",
            "_view_name": "StyleView",
            "description_width": ""
          }
        },
        "c865bb71dde94008824e5d01d4c4458b": {
          "model_module": "@jupyter-widgets/controls",
          "model_name": "TextModel",
          "model_module_version": "1.5.0",
          "state": {
            "_dom_classes": [],
            "_model_module": "@jupyter-widgets/controls",
            "_model_module_version": "1.5.0",
            "_model_name": "TextModel",
            "_view_count": null,
            "_view_module": "@jupyter-widgets/controls",
            "_view_module_version": "1.5.0",
            "_view_name": "TextView",
            "continuous_update": true,
            "description": "WUI_Intermix2019:",
            "description_tooltip": null,
            "disabled": false,
            "layout": "IPY_MODEL_3bd554ccd26d4c4abfa2f1930e797175",
            "placeholder": "projects/dri-apps/assets/iguide-team1/intermix2019",
            "style": "IPY_MODEL_69cfe452c352418286d65a02ba0cb4e1",
            "value": ""
          }
        },
        "3bd554ccd26d4c4abfa2f1930e797175": {
          "model_module": "@jupyter-widgets/base",
          "model_name": "LayoutModel",
          "model_module_version": "1.2.0",
          "state": {
            "_model_module": "@jupyter-widgets/base",
            "_model_module_version": "1.2.0",
            "_model_name": "LayoutModel",
            "_view_count": null,
            "_view_module": "@jupyter-widgets/base",
            "_view_module_version": "1.2.0",
            "_view_name": "LayoutView",
            "align_content": null,
            "align_items": null,
            "align_self": null,
            "border": null,
            "bottom": null,
            "display": null,
            "flex": null,
            "flex_flow": null,
            "grid_area": null,
            "grid_auto_columns": null,
            "grid_auto_flow": null,
            "grid_auto_rows": null,
            "grid_column": null,
            "grid_gap": null,
            "grid_row": null,
            "grid_template_areas": null,
            "grid_template_columns": null,
            "grid_template_rows": null,
            "height": null,
            "justify_content": null,
            "justify_items": null,
            "left": null,
            "margin": null,
            "max_height": null,
            "max_width": null,
            "min_height": null,
            "min_width": null,
            "object_fit": null,
            "object_position": null,
            "order": null,
            "overflow": null,
            "overflow_x": null,
            "overflow_y": null,
            "padding": null,
            "right": null,
            "top": null,
            "visibility": null,
            "width": "450px"
          }
        },
        "69cfe452c352418286d65a02ba0cb4e1": {
          "model_module": "@jupyter-widgets/controls",
          "model_name": "DescriptionStyleModel",
          "model_module_version": "1.5.0",
          "state": {
            "_model_module": "@jupyter-widgets/controls",
            "_model_module_version": "1.5.0",
            "_model_name": "DescriptionStyleModel",
            "_view_count": null,
            "_view_module": "@jupyter-widgets/base",
            "_view_module_version": "1.2.0",
            "_view_name": "StyleView",
            "description_width": "initial"
          }
        },
        "2fcf590ee74c49feaf038048c004138d": {
          "model_module": "@jupyter-widgets/controls",
          "model_name": "TextModel",
          "model_module_version": "1.5.0",
          "state": {
            "_dom_classes": [],
            "_model_module": "@jupyter-widgets/controls",
            "_model_module_version": "1.5.0",
            "_model_name": "TextModel",
            "_view_count": null,
            "_view_module": "@jupyter-widgets/controls",
            "_view_module_version": "1.5.0",
            "_view_name": "TextView",
            "continuous_update": true,
            "description": "WUI_Intermix2016:",
            "description_tooltip": null,
            "disabled": false,
            "layout": "IPY_MODEL_3bd554ccd26d4c4abfa2f1930e797175",
            "placeholder": "projects/dri-apps/assets/iguide-team1/intermix2016",
            "style": "IPY_MODEL_1871ec8f3d444d47a0388062601652cd",
            "value": ""
          }
        },
        "1871ec8f3d444d47a0388062601652cd": {
          "model_module": "@jupyter-widgets/controls",
          "model_name": "DescriptionStyleModel",
          "model_module_version": "1.5.0",
          "state": {
            "_model_module": "@jupyter-widgets/controls",
            "_model_module_version": "1.5.0",
            "_model_name": "DescriptionStyleModel",
            "_view_count": null,
            "_view_module": "@jupyter-widgets/base",
            "_view_module_version": "1.2.0",
            "_view_name": "StyleView",
            "description_width": "initial"
          }
        },
        "91528071fa1c420f84c0b1705f4f1fe3": {
          "model_module": "@jupyter-widgets/controls",
          "model_name": "DescriptionStyleModel",
          "model_module_version": "1.5.0",
          "state": {
            "_model_module": "@jupyter-widgets/controls",
            "_model_module_version": "1.5.0",
            "_model_name": "DescriptionStyleModel",
            "_view_count": null,
            "_view_module": "@jupyter-widgets/base",
            "_view_module_version": "1.2.0",
            "_view_name": "StyleView",
            "description_width": "initial"
          }
        },
        "bc0e05b085544b579625a87ba359d07e": {
          "model_module": "@jupyter-widgets/controls",
          "model_name": "DescriptionStyleModel",
          "model_module_version": "1.5.0",
          "state": {
            "_model_module": "@jupyter-widgets/controls",
            "_model_module_version": "1.5.0",
            "_model_name": "DescriptionStyleModel",
            "_view_count": null,
            "_view_module": "@jupyter-widgets/base",
            "_view_module_version": "1.2.0",
            "_view_name": "StyleView",
            "description_width": "initial"
          }
        },
        "1046d47e532c43618d18bae8823f4d36": {
          "model_module": "@jupyter-widgets/controls",
          "model_name": "DescriptionStyleModel",
          "model_module_version": "1.5.0",
          "state": {
            "_model_module": "@jupyter-widgets/controls",
            "_model_module_version": "1.5.0",
            "_model_name": "DescriptionStyleModel",
            "_view_count": null,
            "_view_module": "@jupyter-widgets/base",
            "_view_module_version": "1.2.0",
            "_view_name": "StyleView",
            "description_width": "initial"
          }
        },
        "fa923c4031e44e5c84476ca0c5c2adc5": {
          "model_module": "@jupyter-widgets/controls",
          "model_name": "DescriptionStyleModel",
          "model_module_version": "1.5.0",
          "state": {
            "_model_module": "@jupyter-widgets/controls",
            "_model_module_version": "1.5.0",
            "_model_name": "DescriptionStyleModel",
            "_view_count": null,
            "_view_module": "@jupyter-widgets/base",
            "_view_module_version": "1.2.0",
            "_view_name": "StyleView",
            "description_width": "initial"
          }
        },
        "7e618f984bbe4fadac1d681e694fedab": {
          "model_module": "@jupyter-widgets/controls",
          "model_name": "DescriptionStyleModel",
          "model_module_version": "1.5.0",
          "state": {
            "_model_module": "@jupyter-widgets/controls",
            "_model_module_version": "1.5.0",
            "_model_name": "DescriptionStyleModel",
            "_view_count": null,
            "_view_module": "@jupyter-widgets/base",
            "_view_module_version": "1.2.0",
            "_view_name": "StyleView",
            "description_width": "initial"
          }
        },
        "ff40cca6011d44ac89787f8021a4762a": {
          "model_module": "@jupyter-widgets/controls",
          "model_name": "DescriptionStyleModel",
          "model_module_version": "1.5.0",
          "state": {
            "_model_module": "@jupyter-widgets/controls",
            "_model_module_version": "1.5.0",
            "_model_name": "DescriptionStyleModel",
            "_view_count": null,
            "_view_module": "@jupyter-widgets/base",
            "_view_module_version": "1.2.0",
            "_view_name": "StyleView",
            "description_width": "initial"
          }
        },
        "8b604aa67d8946eab7c7042d7dc4365a": {
          "model_module": "@jupyter-widgets/controls",
          "model_name": "TextModel",
          "model_module_version": "1.5.0",
          "state": {
            "_dom_classes": [],
            "_model_module": "@jupyter-widgets/controls",
            "_model_module_version": "1.5.0",
            "_model_name": "TextModel",
            "_view_count": null,
            "_view_module": "@jupyter-widgets/controls",
            "_view_module_version": "1.5.0",
            "_view_name": "TextView",
            "continuous_update": true,
            "description": "WUI_Intermix2013:",
            "description_tooltip": null,
            "disabled": false,
            "layout": "IPY_MODEL_3bd554ccd26d4c4abfa2f1930e797175",
            "placeholder": "projects/dri-apps/assets/iguide-team1/intermix",
            "style": "IPY_MODEL_91528071fa1c420f84c0b1705f4f1fe3",
            "value": ""
          }
        },
        "65e88dcff877402886b8ef739f8008dd": {
          "model_module": "@jupyter-widgets/controls",
          "model_name": "TextModel",
          "model_module_version": "1.5.0",
          "state": {
            "_dom_classes": [],
            "_model_module": "@jupyter-widgets/controls",
            "_model_module_version": "1.5.0",
            "_model_name": "TextModel",
            "_view_count": null,
            "_view_module": "@jupyter-widgets/controls",
            "_view_module_version": "1.5.0",
            "_view_name": "TextView",
            "continuous_update": true,
            "description": "WUI_Intermix2011:",
            "description_tooltip": null,
            "disabled": false,
            "layout": "IPY_MODEL_3bd554ccd26d4c4abfa2f1930e797175",
            "placeholder": "projects/dri-apps/assets/iguide-team1/intermix2011",
            "style": "IPY_MODEL_bc0e05b085544b579625a87ba359d07e",
            "value": ""
          }
        },
        "dd0453046f9444cca6b1a0e8646a91b9": {
          "model_module": "@jupyter-widgets/controls",
          "model_name": "TextModel",
          "model_module_version": "1.5.0",
          "state": {
            "_dom_classes": [],
            "_model_module": "@jupyter-widgets/controls",
            "_model_module_version": "1.5.0",
            "_model_name": "TextModel",
            "_view_count": null,
            "_view_module": "@jupyter-widgets/controls",
            "_view_module_version": "1.5.0",
            "_view_name": "TextView",
            "continuous_update": true,
            "description": "WUI_Interface2019:",
            "description_tooltip": null,
            "disabled": false,
            "layout": "IPY_MODEL_3bd554ccd26d4c4abfa2f1930e797175",
            "placeholder": "projects/rohan-wui-iguide/assets/WUI_interface_2019",
            "style": "IPY_MODEL_1046d47e532c43618d18bae8823f4d36",
            "value": ""
          }
        },
        "3864e35a704e445d90f5a8398720391e": {
          "model_module": "@jupyter-widgets/controls",
          "model_name": "TextModel",
          "model_module_version": "1.5.0",
          "state": {
            "_dom_classes": [],
            "_model_module": "@jupyter-widgets/controls",
            "_model_module_version": "1.5.0",
            "_model_name": "TextModel",
            "_view_count": null,
            "_view_module": "@jupyter-widgets/controls",
            "_view_module_version": "1.5.0",
            "_view_name": "TextView",
            "continuous_update": true,
            "description": "WUI_Interface2016:",
            "description_tooltip": null,
            "disabled": false,
            "layout": "IPY_MODEL_3bd554ccd26d4c4abfa2f1930e797175",
            "placeholder": "projects/rohan-wui-iguide/assets/WUI_2016_interface_final",
            "style": "IPY_MODEL_fa923c4031e44e5c84476ca0c5c2adc5",
            "value": ""
          }
        },
        "16c2da597c0f4b958c91aae712a5c2e4": {
          "model_module": "@jupyter-widgets/controls",
          "model_name": "TextModel",
          "model_module_version": "1.5.0",
          "state": {
            "_dom_classes": [],
            "_model_module": "@jupyter-widgets/controls",
            "_model_module_version": "1.5.0",
            "_model_name": "TextModel",
            "_view_count": null,
            "_view_module": "@jupyter-widgets/controls",
            "_view_module_version": "1.5.0",
            "_view_name": "TextView",
            "continuous_update": true,
            "description": "WUI_Interface2013:",
            "description_tooltip": null,
            "disabled": false,
            "layout": "IPY_MODEL_3bd554ccd26d4c4abfa2f1930e797175",
            "placeholder": "projects/rohan-wui-iguide/assets/WUI_interface_2013",
            "style": "IPY_MODEL_7e618f984bbe4fadac1d681e694fedab",
            "value": ""
          }
        },
        "147f61329e89442dbc5107dfbf508b43": {
          "model_module": "@jupyter-widgets/controls",
          "model_name": "TextModel",
          "model_module_version": "1.5.0",
          "state": {
            "_dom_classes": [],
            "_model_module": "@jupyter-widgets/controls",
            "_model_module_version": "1.5.0",
            "_model_name": "TextModel",
            "_view_count": null,
            "_view_module": "@jupyter-widgets/controls",
            "_view_module_version": "1.5.0",
            "_view_name": "TextView",
            "continuous_update": true,
            "description": "WUI_Interface2011:",
            "description_tooltip": null,
            "disabled": false,
            "layout": "IPY_MODEL_3bd554ccd26d4c4abfa2f1930e797175",
            "placeholder": "projects/rohan-wui-iguide/assets/WUI_interface_2011",
            "style": "IPY_MODEL_ff40cca6011d44ac89787f8021a4762a",
            "value": ""
          }
        },
        "ab64018317d44c36b80765cfe51793ac": {
          "model_module": "@jupyter-widgets/controls",
          "model_name": "VBoxModel",
          "model_module_version": "1.5.0",
          "state": {
            "_dom_classes": [
              "widget-interact"
            ],
            "_model_module": "@jupyter-widgets/controls",
            "_model_module_version": "1.5.0",
            "_model_name": "VBoxModel",
            "_view_count": null,
            "_view_module": "@jupyter-widgets/controls",
            "_view_module_version": "1.5.0",
            "_view_name": "VBoxView",
            "box_style": "",
            "children": [
              "IPY_MODEL_d5e5df450a7d45cda8d1c9e9a4e1597b",
              "IPY_MODEL_18fd70e362634b6c9e0a6c6733018925"
            ],
            "layout": "IPY_MODEL_7b14278eaf35424ea4438d322269cbd3"
          }
        },
        "d5e5df450a7d45cda8d1c9e9a4e1597b": {
          "model_module": "@jupyter-widgets/controls",
          "model_name": "SelectionSliderModel",
          "model_module_version": "1.5.0",
          "state": {
            "_dom_classes": [],
            "_model_module": "@jupyter-widgets/controls",
            "_model_module_version": "1.5.0",
            "_model_name": "SelectionSliderModel",
            "_options_labels": [
              "2011",
              "2013",
              "2016",
              "2019"
            ],
            "_view_count": null,
            "_view_module": "@jupyter-widgets/controls",
            "_view_module_version": "1.5.0",
            "_view_name": "SelectionSliderView",
            "continuous_update": false,
            "description": "Year:",
            "description_tooltip": null,
            "disabled": false,
            "index": 3,
            "layout": "IPY_MODEL_f56578fd21094eb8ad38ca9fedc0f464",
            "orientation": "horizontal",
            "readout": true,
            "style": "IPY_MODEL_e8ff96a594534ce1a76482ce06500e4c"
          }
        },
        "18fd70e362634b6c9e0a6c6733018925": {
          "model_module": "@jupyter-widgets/output",
          "model_name": "OutputModel",
          "model_module_version": "1.0.0",
          "state": {
            "_dom_classes": [],
            "_model_module": "@jupyter-widgets/output",
            "_model_module_version": "1.0.0",
            "_model_name": "OutputModel",
            "_view_count": null,
            "_view_module": "@jupyter-widgets/output",
            "_view_module_version": "1.0.0",
            "_view_name": "OutputView",
            "layout": "IPY_MODEL_33e47c60f606472d879cc58b7ad7012b",
            "msg_id": "",
            "outputs": []
          }
        },
        "7b14278eaf35424ea4438d322269cbd3": {
          "model_module": "@jupyter-widgets/base",
          "model_name": "LayoutModel",
          "model_module_version": "1.2.0",
          "state": {
            "_model_module": "@jupyter-widgets/base",
            "_model_module_version": "1.2.0",
            "_model_name": "LayoutModel",
            "_view_count": null,
            "_view_module": "@jupyter-widgets/base",
            "_view_module_version": "1.2.0",
            "_view_name": "LayoutView",
            "align_content": null,
            "align_items": null,
            "align_self": null,
            "border": null,
            "bottom": null,
            "display": null,
            "flex": null,
            "flex_flow": null,
            "grid_area": null,
            "grid_auto_columns": null,
            "grid_auto_flow": null,
            "grid_auto_rows": null,
            "grid_column": null,
            "grid_gap": null,
            "grid_row": null,
            "grid_template_areas": null,
            "grid_template_columns": null,
            "grid_template_rows": null,
            "height": null,
            "justify_content": null,
            "justify_items": null,
            "left": null,
            "margin": null,
            "max_height": null,
            "max_width": null,
            "min_height": null,
            "min_width": null,
            "object_fit": null,
            "object_position": null,
            "order": null,
            "overflow": null,
            "overflow_x": null,
            "overflow_y": null,
            "padding": null,
            "right": null,
            "top": null,
            "visibility": null,
            "width": null
          }
        },
        "f56578fd21094eb8ad38ca9fedc0f464": {
          "model_module": "@jupyter-widgets/base",
          "model_name": "LayoutModel",
          "model_module_version": "1.2.0",
          "state": {
            "_model_module": "@jupyter-widgets/base",
            "_model_module_version": "1.2.0",
            "_model_name": "LayoutModel",
            "_view_count": null,
            "_view_module": "@jupyter-widgets/base",
            "_view_module_version": "1.2.0",
            "_view_name": "LayoutView",
            "align_content": null,
            "align_items": null,
            "align_self": null,
            "border": null,
            "bottom": null,
            "display": null,
            "flex": null,
            "flex_flow": null,
            "grid_area": null,
            "grid_auto_columns": null,
            "grid_auto_flow": null,
            "grid_auto_rows": null,
            "grid_column": null,
            "grid_gap": null,
            "grid_row": null,
            "grid_template_areas": null,
            "grid_template_columns": null,
            "grid_template_rows": null,
            "height": null,
            "justify_content": null,
            "justify_items": null,
            "left": null,
            "margin": null,
            "max_height": null,
            "max_width": null,
            "min_height": null,
            "min_width": null,
            "object_fit": null,
            "object_position": null,
            "order": null,
            "overflow": null,
            "overflow_x": null,
            "overflow_y": null,
            "padding": null,
            "right": null,
            "top": null,
            "visibility": null,
            "width": null
          }
        },
        "e8ff96a594534ce1a76482ce06500e4c": {
          "model_module": "@jupyter-widgets/controls",
          "model_name": "DescriptionStyleModel",
          "model_module_version": "1.5.0",
          "state": {
            "_model_module": "@jupyter-widgets/controls",
            "_model_module_version": "1.5.0",
            "_model_name": "DescriptionStyleModel",
            "_view_count": null,
            "_view_module": "@jupyter-widgets/base",
            "_view_module_version": "1.2.0",
            "_view_name": "StyleView",
            "description_width": ""
          }
        },
        "33e47c60f606472d879cc58b7ad7012b": {
          "model_module": "@jupyter-widgets/base",
          "model_name": "LayoutModel",
          "model_module_version": "1.2.0",
          "state": {
            "_model_module": "@jupyter-widgets/base",
            "_model_module_version": "1.2.0",
            "_model_name": "LayoutModel",
            "_view_count": null,
            "_view_module": "@jupyter-widgets/base",
            "_view_module_version": "1.2.0",
            "_view_name": "LayoutView",
            "align_content": null,
            "align_items": null,
            "align_self": null,
            "border": null,
            "bottom": null,
            "display": null,
            "flex": null,
            "flex_flow": null,
            "grid_area": null,
            "grid_auto_columns": null,
            "grid_auto_flow": null,
            "grid_auto_rows": null,
            "grid_column": null,
            "grid_gap": null,
            "grid_row": null,
            "grid_template_areas": null,
            "grid_template_columns": null,
            "grid_template_rows": null,
            "height": null,
            "justify_content": null,
            "justify_items": null,
            "left": null,
            "margin": null,
            "max_height": null,
            "max_width": null,
            "min_height": null,
            "min_width": null,
            "object_fit": null,
            "object_position": null,
            "order": null,
            "overflow": null,
            "overflow_x": null,
            "overflow_y": null,
            "padding": null,
            "right": null,
            "top": null,
            "visibility": null,
            "width": null
          }
        },
        "7b35979e883245e5bd20e12d7eaf05a0": {
          "model_module": "jupyter-leaflet",
          "model_name": "LeafletMapModel",
          "model_module_version": "^0.18",
          "state": {
            "_dom_classes": [],
            "_model_module": "jupyter-leaflet",
            "_model_module_version": "^0.18",
            "_model_name": "LeafletMapModel",
            "_view_count": null,
            "_view_module": "jupyter-leaflet",
            "_view_module_version": "^0.18",
            "_view_name": "LeafletMapView",
            "bottom": 3463,
            "bounce_at_zoom_limits": true,
            "box_zoom": true,
            "center": [
              37.89219554724437,
              -96.08642578125
            ],
            "close_popup_on_click": true,
            "controls": [
              "IPY_MODEL_021fa93a19cd46ca85788f22d257f3c2",
              "IPY_MODEL_b4a77a74cae643c289d7db79e1a05b32",
              "IPY_MODEL_7d441a55ff2744ba93fb080c06acc23b",
              "IPY_MODEL_901e17f54d094dca9dab5ea69645f582",
              "IPY_MODEL_6b68787ced0343f4b2d1720d6874b511",
              "IPY_MODEL_ccbda036c76245a3bf1ec2ab6b22f271",
              "IPY_MODEL_62eace5cfc1f4bd4868c6a679a8bb360",
              "IPY_MODEL_a6c306f387254b82a1509812d88d1306"
            ],
            "crs": {
              "name": "EPSG3857",
              "custom": false
            },
            "default_style": "IPY_MODEL_b32fa1ec0972418397a3629a533ab1e3",
            "double_click_zoom": true,
            "dragging": true,
            "dragging_style": "IPY_MODEL_74d61d4e962a424cafcb112a1c6d16b8",
            "east": -63.06152343750001,
            "fullscreen": false,
            "inertia": true,
            "inertia_deceleration": 3000,
            "inertia_max_speed": 1500,
            "interpolation": "bilinear",
            "keyboard": true,
            "keyboard_pan_offset": 80,
            "keyboard_zoom_offset": 1,
            "layers": [
              "IPY_MODEL_2419c17b3fcc45aabf6a7de66f440640",
              "IPY_MODEL_bfeac746264f4265ac11bc520c3eb823",
              "IPY_MODEL_e07b630c726242179304c2eefdc337e2"
            ],
            "layout": "IPY_MODEL_7c3357bd37164b84a635b0db83a868a7",
            "left": 1158,
            "max_zoom": 24,
            "min_zoom": null,
            "modisdate": "2024-01-27",
            "north": 47.54687159892238,
            "options": [
              "bounce_at_zoom_limits",
              "box_zoom",
              "center",
              "close_popup_on_click",
              "double_click_zoom",
              "dragging",
              "fullscreen",
              "inertia",
              "inertia_deceleration",
              "inertia_max_speed",
              "interpolation",
              "keyboard",
              "keyboard_pan_offset",
              "keyboard_zoom_offset",
              "max_zoom",
              "min_zoom",
              "prefer_canvas",
              "scroll_wheel_zoom",
              "tap",
              "tap_tolerance",
              "touch_zoom",
              "world_copy_jump",
              "zoom",
              "zoom_animation_threshold",
              "zoom_delta",
              "zoom_snap"
            ],
            "panes": {},
            "prefer_canvas": false,
            "right": 2661,
            "scroll_wheel_zoom": true,
            "south": 26.78484736105119,
            "style": "IPY_MODEL_b32fa1ec0972418397a3629a533ab1e3",
            "tap": true,
            "tap_tolerance": 15,
            "top": 2863,
            "touch_zoom": true,
            "west": -129.11132812500003,
            "window_url": "https://eciu3cb0ydu-496ff2e9c6d22116-0-colab.googleusercontent.com/outputframe.html?vrz=colab_20240125-060137_RC00_601416831",
            "world_copy_jump": false,
            "zoom": 5,
            "zoom_animation_threshold": 4,
            "zoom_delta": 1,
            "zoom_snap": 1
          }
        },
        "021fa93a19cd46ca85788f22d257f3c2": {
          "model_module": "jupyter-leaflet",
          "model_name": "LeafletWidgetControlModel",
          "model_module_version": "^0.18",
          "state": {
            "_model_module": "jupyter-leaflet",
            "_model_module_version": "^0.18",
            "_model_name": "LeafletWidgetControlModel",
            "_view_count": null,
            "_view_module": "jupyter-leaflet",
            "_view_module_version": "^0.18",
            "_view_name": "LeafletWidgetControlView",
            "max_height": null,
            "max_width": null,
            "min_height": null,
            "min_width": null,
            "options": [
              "position",
              "transparent_bg"
            ],
            "position": "topleft",
            "transparent_bg": false,
            "widget": "IPY_MODEL_cdce3dacabc743bca75b9bde570f632b"
          }
        },
        "b4a77a74cae643c289d7db79e1a05b32": {
          "model_module": "jupyter-leaflet",
          "model_name": "LeafletZoomControlModel",
          "model_module_version": "^0.18",
          "state": {
            "_model_module": "jupyter-leaflet",
            "_model_module_version": "^0.18",
            "_model_name": "LeafletZoomControlModel",
            "_view_count": null,
            "_view_module": "jupyter-leaflet",
            "_view_module_version": "^0.18",
            "_view_name": "LeafletZoomControlView",
            "options": [
              "position",
              "zoom_in_text",
              "zoom_in_title",
              "zoom_out_text",
              "zoom_out_title"
            ],
            "position": "topleft",
            "zoom_in_text": "+",
            "zoom_in_title": "Zoom in",
            "zoom_out_text": "-",
            "zoom_out_title": "Zoom out"
          }
        },
        "7d441a55ff2744ba93fb080c06acc23b": {
          "model_module": "jupyter-leaflet",
          "model_name": "LeafletFullScreenControlModel",
          "model_module_version": "^0.18",
          "state": {
            "_model_module": "jupyter-leaflet",
            "_model_module_version": "^0.18",
            "_model_name": "LeafletFullScreenControlModel",
            "_view_count": null,
            "_view_module": "jupyter-leaflet",
            "_view_module_version": "^0.18",
            "_view_name": "LeafletFullScreenControlView",
            "options": [
              "position"
            ],
            "position": "topleft"
          }
        },
        "901e17f54d094dca9dab5ea69645f582": {
          "model_module": "jupyter-leaflet",
          "model_name": "LeafletDrawControlModel",
          "model_module_version": "^0.18",
          "state": {
            "_model_module": "jupyter-leaflet",
            "_model_module_version": "^0.18",
            "_model_name": "LeafletDrawControlModel",
            "_view_count": null,
            "_view_module": "jupyter-leaflet",
            "_view_module_version": "^0.18",
            "_view_name": "LeafletDrawControlView",
            "circle": {},
            "circlemarker": {},
            "data": [],
            "edit": true,
            "marker": {
              "shapeOptions": {
                "color": "#3388ff"
              }
            },
            "options": [
              "position"
            ],
            "polygon": {
              "shapeOptions": {}
            },
            "polyline": {
              "shapeOptions": {}
            },
            "position": "topleft",
            "rectangle": {
              "shapeOptions": {
                "color": "#3388ff"
              }
            },
            "remove": true
          }
        },
        "6b68787ced0343f4b2d1720d6874b511": {
          "model_module": "jupyter-leaflet",
          "model_name": "LeafletScaleControlModel",
          "model_module_version": "^0.18",
          "state": {
            "_model_module": "jupyter-leaflet",
            "_model_module_version": "^0.18",
            "_model_name": "LeafletScaleControlModel",
            "_view_count": null,
            "_view_module": "jupyter-leaflet",
            "_view_module_version": "^0.18",
            "_view_name": "LeafletScaleControlView",
            "imperial": true,
            "max_width": 100,
            "metric": true,
            "options": [
              "imperial",
              "max_width",
              "metric",
              "position",
              "update_when_idle"
            ],
            "position": "bottomleft",
            "update_when_idle": false
          }
        },
        "ccbda036c76245a3bf1ec2ab6b22f271": {
          "model_module": "jupyter-leaflet",
          "model_name": "LeafletMeasureControlModel",
          "model_module_version": "^0.18",
          "state": {
            "_custom_units": {},
            "_model_module": "jupyter-leaflet",
            "_model_module_version": "^0.18",
            "_model_name": "LeafletMeasureControlModel",
            "_view_count": null,
            "_view_module": "jupyter-leaflet",
            "_view_module_version": "^0.18",
            "_view_name": "LeafletMeasureControlView",
            "active_color": "orange",
            "capture_z_index": 10000,
            "completed_color": "#C8F2BE",
            "options": [
              "active_color",
              "capture_z_index",
              "completed_color",
              "popup_options",
              "position",
              "primary_area_unit",
              "primary_length_unit",
              "secondary_area_unit",
              "secondary_length_unit"
            ],
            "popup_options": {
              "className": "leaflet-measure-resultpopup",
              "autoPanPadding": [
                10,
                10
              ]
            },
            "position": "bottomleft",
            "primary_area_unit": "acres",
            "primary_length_unit": "kilometers",
            "secondary_area_unit": null,
            "secondary_length_unit": null
          }
        },
        "62eace5cfc1f4bd4868c6a679a8bb360": {
          "model_module": "jupyter-leaflet",
          "model_name": "LeafletWidgetControlModel",
          "model_module_version": "^0.18",
          "state": {
            "_model_module": "jupyter-leaflet",
            "_model_module_version": "^0.18",
            "_model_name": "LeafletWidgetControlModel",
            "_view_count": null,
            "_view_module": "jupyter-leaflet",
            "_view_module_version": "^0.18",
            "_view_name": "LeafletWidgetControlView",
            "max_height": null,
            "max_width": null,
            "min_height": null,
            "min_width": null,
            "options": [
              "position",
              "transparent_bg"
            ],
            "position": "topright",
            "transparent_bg": false,
            "widget": "IPY_MODEL_81a87bc2d3f94496add46aea929cf343"
          }
        },
        "a6c306f387254b82a1509812d88d1306": {
          "model_module": "jupyter-leaflet",
          "model_name": "LeafletAttributionControlModel",
          "model_module_version": "^0.18",
          "state": {
            "_model_module": "jupyter-leaflet",
            "_model_module_version": "^0.18",
            "_model_name": "LeafletAttributionControlModel",
            "_view_count": null,
            "_view_module": "jupyter-leaflet",
            "_view_module_version": "^0.18",
            "_view_name": "LeafletAttributionControlView",
            "options": [
              "position",
              "prefix"
            ],
            "position": "bottomright",
            "prefix": "ipyleaflet"
          }
        },
        "b32fa1ec0972418397a3629a533ab1e3": {
          "model_module": "jupyter-leaflet",
          "model_name": "LeafletMapStyleModel",
          "model_module_version": "^0.18",
          "state": {
            "_model_module": "jupyter-leaflet",
            "_model_module_version": "^0.18",
            "_model_name": "LeafletMapStyleModel",
            "_view_count": null,
            "_view_module": "@jupyter-widgets/base",
            "_view_module_version": "1.2.0",
            "_view_name": "StyleView",
            "cursor": "grab"
          }
        },
        "74d61d4e962a424cafcb112a1c6d16b8": {
          "model_module": "jupyter-leaflet",
          "model_name": "LeafletMapStyleModel",
          "model_module_version": "^0.18",
          "state": {
            "_model_module": "jupyter-leaflet",
            "_model_module_version": "^0.18",
            "_model_name": "LeafletMapStyleModel",
            "_view_count": null,
            "_view_module": "@jupyter-widgets/base",
            "_view_module_version": "1.2.0",
            "_view_name": "StyleView",
            "cursor": "move"
          }
        },
        "2419c17b3fcc45aabf6a7de66f440640": {
          "model_module": "jupyter-leaflet",
          "model_name": "LeafletTileLayerModel",
          "model_module_version": "^0.18",
          "state": {
            "_model_module": "jupyter-leaflet",
            "_model_module_version": "^0.18",
            "_model_name": "LeafletTileLayerModel",
            "_view_count": null,
            "_view_module": "jupyter-leaflet",
            "_view_module_version": "^0.18",
            "_view_name": "LeafletTileLayerView",
            "attribution": "&copy; <a href=\"https://www.openstreetmap.org/copyright\">OpenStreetMap</a> contributors",
            "base": true,
            "bottom": true,
            "bounds": null,
            "detect_retina": false,
            "loading": false,
            "max_native_zoom": null,
            "max_zoom": 19,
            "min_native_zoom": null,
            "min_zoom": 1,
            "name": "OpenStreetMap.Mapnik",
            "no_wrap": false,
            "opacity": 1,
            "options": [
              "attribution",
              "bounds",
              "detect_retina",
              "max_native_zoom",
              "max_zoom",
              "min_native_zoom",
              "min_zoom",
              "no_wrap",
              "tile_size",
              "tms",
              "zoom_offset"
            ],
            "pane": "",
            "popup": null,
            "popup_max_height": null,
            "popup_max_width": 300,
            "popup_min_width": 50,
            "show_loading": false,
            "subitems": [],
            "tile_size": 256,
            "tms": false,
            "url": "https://tile.openstreetmap.org/{z}/{x}/{y}.png",
            "visible": true,
            "zoom_offset": 0
          }
        },
        "5eb4060e5c924a7abea9a758105afd86": {
          "model_module": "jupyter-leaflet",
          "model_name": "LeafletTileLayerModel",
          "model_module_version": "^0.18",
          "state": {
            "_model_module": "jupyter-leaflet",
            "_model_module_version": "^0.18",
            "_model_name": "LeafletTileLayerModel",
            "_view_count": null,
            "_view_module": "jupyter-leaflet",
            "_view_module_version": "^0.18",
            "_view_name": "LeafletTileLayerView",
            "attribution": "Google Earth Engine",
            "base": false,
            "bottom": true,
            "bounds": null,
            "detect_retina": false,
            "loading": false,
            "max_native_zoom": null,
            "max_zoom": 24,
            "min_native_zoom": null,
            "min_zoom": 0,
            "name": "WUI_Intermix2019",
            "no_wrap": false,
            "opacity": 1,
            "options": [
              "attribution",
              "bounds",
              "detect_retina",
              "max_native_zoom",
              "max_zoom",
              "min_native_zoom",
              "min_zoom",
              "no_wrap",
              "tile_size",
              "tms",
              "zoom_offset"
            ],
            "pane": "",
            "popup": null,
            "popup_max_height": null,
            "popup_max_width": 300,
            "popup_min_width": 50,
            "show_loading": false,
            "subitems": [],
            "tile_size": 256,
            "tms": false,
            "url": "https://earthengine.googleapis.com/v1/projects/rohan-wui-iguide/maps/51e608f2ae2dcbaa8f35fedc08fdacce-95108561c25add8979877509907df5fe/tiles/{z}/{x}/{y}",
            "visible": true,
            "zoom_offset": 0
          }
        },
        "825884e05415475ebf4fd5cfc392e56d": {
          "model_module": "jupyter-leaflet",
          "model_name": "LeafletTileLayerModel",
          "model_module_version": "^0.18",
          "state": {
            "_model_module": "jupyter-leaflet",
            "_model_module_version": "^0.18",
            "_model_name": "LeafletTileLayerModel",
            "_view_count": null,
            "_view_module": "jupyter-leaflet",
            "_view_module_version": "^0.18",
            "_view_name": "LeafletTileLayerView",
            "attribution": "Google Earth Engine",
            "base": false,
            "bottom": true,
            "bounds": null,
            "detect_retina": false,
            "loading": true,
            "max_native_zoom": null,
            "max_zoom": 24,
            "min_native_zoom": null,
            "min_zoom": 0,
            "name": "WUI_Interface2019",
            "no_wrap": false,
            "opacity": 1,
            "options": [
              "attribution",
              "bounds",
              "detect_retina",
              "max_native_zoom",
              "max_zoom",
              "min_native_zoom",
              "min_zoom",
              "no_wrap",
              "tile_size",
              "tms",
              "zoom_offset"
            ],
            "pane": "",
            "popup": null,
            "popup_max_height": null,
            "popup_max_width": 300,
            "popup_min_width": 50,
            "show_loading": false,
            "subitems": [],
            "tile_size": 256,
            "tms": false,
            "url": "https://earthengine.googleapis.com/v1/projects/rohan-wui-iguide/maps/5077d9ff524fab530a56431c1f144371-2b757c3f38a8f3d317b387deb05250e3/tiles/{z}/{x}/{y}",
            "visible": true,
            "zoom_offset": 0
          }
        },
        "7c3357bd37164b84a635b0db83a868a7": {
          "model_module": "@jupyter-widgets/base",
          "model_name": "LayoutModel",
          "model_module_version": "1.2.0",
          "state": {
            "_model_module": "@jupyter-widgets/base",
            "_model_module_version": "1.2.0",
            "_model_name": "LayoutModel",
            "_view_count": null,
            "_view_module": "@jupyter-widgets/base",
            "_view_module_version": "1.2.0",
            "_view_name": "LayoutView",
            "align_content": null,
            "align_items": null,
            "align_self": null,
            "border": null,
            "bottom": null,
            "display": null,
            "flex": null,
            "flex_flow": null,
            "grid_area": null,
            "grid_auto_columns": null,
            "grid_auto_flow": null,
            "grid_auto_rows": null,
            "grid_column": null,
            "grid_gap": null,
            "grid_row": null,
            "grid_template_areas": null,
            "grid_template_columns": null,
            "grid_template_rows": null,
            "height": "600px",
            "justify_content": null,
            "justify_items": null,
            "left": null,
            "margin": null,
            "max_height": null,
            "max_width": null,
            "min_height": null,
            "min_width": null,
            "object_fit": null,
            "object_position": null,
            "order": null,
            "overflow": null,
            "overflow_x": null,
            "overflow_y": null,
            "padding": null,
            "right": null,
            "top": null,
            "visibility": null,
            "width": null
          }
        },
        "4521250d681742278f60eb00a89335be": {
          "model_module": "jupyter-leaflet",
          "model_name": "LeafletMapStyleModel",
          "model_module_version": "^0.18",
          "state": {
            "_model_module": "jupyter-leaflet",
            "_model_module_version": "^0.18",
            "_model_name": "LeafletMapStyleModel",
            "_view_count": null,
            "_view_module": "@jupyter-widgets/base",
            "_view_module_version": "1.2.0",
            "_view_name": "StyleView",
            "cursor": "grab"
          }
        },
        "cdce3dacabc743bca75b9bde570f632b": {
          "model_module": "@jupyter-widgets/controls",
          "model_name": "HBoxModel",
          "model_module_version": "1.5.0",
          "state": {
            "_dom_classes": [
              "geemap-colab"
            ],
            "_model_module": "@jupyter-widgets/controls",
            "_model_module_version": "1.5.0",
            "_model_name": "HBoxModel",
            "_view_count": null,
            "_view_module": "@jupyter-widgets/controls",
            "_view_module_version": "1.5.0",
            "_view_name": "HBoxView",
            "box_style": "",
            "children": [
              "IPY_MODEL_5d027920f28b44869260ce1b777e56c0"
            ],
            "layout": "IPY_MODEL_d1f5667980cb44f199bad2e38971fd55"
          }
        },
        "81a87bc2d3f94496add46aea929cf343": {
          "model_module": "@jupyter-widgets/controls",
          "model_name": "VBoxModel",
          "model_module_version": "1.5.0",
          "state": {
            "_dom_classes": [
              "geemap-colab"
            ],
            "_model_module": "@jupyter-widgets/controls",
            "_model_module_version": "1.5.0",
            "_model_name": "VBoxModel",
            "_view_count": null,
            "_view_module": "@jupyter-widgets/controls",
            "_view_module_version": "1.5.0",
            "_view_name": "VBoxView",
            "box_style": "",
            "children": [
              "IPY_MODEL_5b6a2b4702264ac5b2bd843546718c0e"
            ],
            "layout": "IPY_MODEL_fa40e8999ee54e1d8e6152882581030f"
          }
        },
        "5d027920f28b44869260ce1b777e56c0": {
          "model_module": "@jupyter-widgets/controls",
          "model_name": "ToggleButtonModel",
          "model_module_version": "1.5.0",
          "state": {
            "_dom_classes": [],
            "_model_module": "@jupyter-widgets/controls",
            "_model_module_version": "1.5.0",
            "_model_name": "ToggleButtonModel",
            "_view_count": null,
            "_view_module": "@jupyter-widgets/controls",
            "_view_module_version": "1.5.0",
            "_view_name": "ToggleButtonView",
            "button_style": "",
            "description": "",
            "description_tooltip": null,
            "disabled": false,
            "icon": "globe",
            "layout": "IPY_MODEL_afb80b59e4f64798836b71d34202ba3c",
            "style": "IPY_MODEL_b1314f6dd11045119192850f85b075af",
            "tooltip": "Search location/data",
            "value": false
          }
        },
        "d1f5667980cb44f199bad2e38971fd55": {
          "model_module": "@jupyter-widgets/base",
          "model_name": "LayoutModel",
          "model_module_version": "1.2.0",
          "state": {
            "_model_module": "@jupyter-widgets/base",
            "_model_module_version": "1.2.0",
            "_model_name": "LayoutModel",
            "_view_count": null,
            "_view_module": "@jupyter-widgets/base",
            "_view_module_version": "1.2.0",
            "_view_name": "LayoutView",
            "align_content": null,
            "align_items": null,
            "align_self": null,
            "border": null,
            "bottom": null,
            "display": null,
            "flex": null,
            "flex_flow": null,
            "grid_area": null,
            "grid_auto_columns": null,
            "grid_auto_flow": null,
            "grid_auto_rows": null,
            "grid_column": null,
            "grid_gap": null,
            "grid_row": null,
            "grid_template_areas": null,
            "grid_template_columns": null,
            "grid_template_rows": null,
            "height": null,
            "justify_content": null,
            "justify_items": null,
            "left": null,
            "margin": null,
            "max_height": null,
            "max_width": null,
            "min_height": null,
            "min_width": null,
            "object_fit": null,
            "object_position": null,
            "order": null,
            "overflow": null,
            "overflow_x": null,
            "overflow_y": null,
            "padding": null,
            "right": null,
            "top": null,
            "visibility": null,
            "width": null
          }
        },
        "5b6a2b4702264ac5b2bd843546718c0e": {
          "model_module": "@jupyter-widgets/controls",
          "model_name": "ToggleButtonModel",
          "model_module_version": "1.5.0",
          "state": {
            "_dom_classes": [],
            "_model_module": "@jupyter-widgets/controls",
            "_model_module_version": "1.5.0",
            "_model_name": "ToggleButtonModel",
            "_view_count": null,
            "_view_module": "@jupyter-widgets/controls",
            "_view_module_version": "1.5.0",
            "_view_name": "ToggleButtonView",
            "button_style": "",
            "description": "",
            "description_tooltip": null,
            "disabled": false,
            "icon": "wrench",
            "layout": "IPY_MODEL_ffabbf3547d94edc87dcb2141da8593c",
            "style": "IPY_MODEL_183a9b970ee040e5b02b80941b88499d",
            "tooltip": "Toolbar",
            "value": false
          }
        },
        "fa40e8999ee54e1d8e6152882581030f": {
          "model_module": "@jupyter-widgets/base",
          "model_name": "LayoutModel",
          "model_module_version": "1.2.0",
          "state": {
            "_model_module": "@jupyter-widgets/base",
            "_model_module_version": "1.2.0",
            "_model_name": "LayoutModel",
            "_view_count": null,
            "_view_module": "@jupyter-widgets/base",
            "_view_module_version": "1.2.0",
            "_view_name": "LayoutView",
            "align_content": null,
            "align_items": null,
            "align_self": null,
            "border": null,
            "bottom": null,
            "display": null,
            "flex": null,
            "flex_flow": null,
            "grid_area": null,
            "grid_auto_columns": null,
            "grid_auto_flow": null,
            "grid_auto_rows": null,
            "grid_column": null,
            "grid_gap": null,
            "grid_row": null,
            "grid_template_areas": null,
            "grid_template_columns": null,
            "grid_template_rows": null,
            "height": null,
            "justify_content": null,
            "justify_items": null,
            "left": null,
            "margin": null,
            "max_height": null,
            "max_width": null,
            "min_height": null,
            "min_width": null,
            "object_fit": null,
            "object_position": null,
            "order": null,
            "overflow": null,
            "overflow_x": null,
            "overflow_y": null,
            "padding": null,
            "right": null,
            "top": null,
            "visibility": null,
            "width": null
          }
        },
        "afb80b59e4f64798836b71d34202ba3c": {
          "model_module": "@jupyter-widgets/base",
          "model_name": "LayoutModel",
          "model_module_version": "1.2.0",
          "state": {
            "_model_module": "@jupyter-widgets/base",
            "_model_module_version": "1.2.0",
            "_model_name": "LayoutModel",
            "_view_count": null,
            "_view_module": "@jupyter-widgets/base",
            "_view_module_version": "1.2.0",
            "_view_name": "LayoutView",
            "align_content": null,
            "align_items": null,
            "align_self": null,
            "border": null,
            "bottom": null,
            "display": null,
            "flex": null,
            "flex_flow": null,
            "grid_area": null,
            "grid_auto_columns": null,
            "grid_auto_flow": null,
            "grid_auto_rows": null,
            "grid_column": null,
            "grid_gap": null,
            "grid_row": null,
            "grid_template_areas": null,
            "grid_template_columns": null,
            "grid_template_rows": null,
            "height": "28px",
            "justify_content": null,
            "justify_items": null,
            "left": null,
            "margin": null,
            "max_height": null,
            "max_width": null,
            "min_height": null,
            "min_width": null,
            "object_fit": null,
            "object_position": null,
            "order": null,
            "overflow": null,
            "overflow_x": null,
            "overflow_y": null,
            "padding": "0px 0px 0px 4px",
            "right": null,
            "top": null,
            "visibility": null,
            "width": "28px"
          }
        },
        "b1314f6dd11045119192850f85b075af": {
          "model_module": "@jupyter-widgets/controls",
          "model_name": "DescriptionStyleModel",
          "model_module_version": "1.5.0",
          "state": {
            "_model_module": "@jupyter-widgets/controls",
            "_model_module_version": "1.5.0",
            "_model_name": "DescriptionStyleModel",
            "_view_count": null,
            "_view_module": "@jupyter-widgets/base",
            "_view_module_version": "1.2.0",
            "_view_name": "StyleView",
            "description_width": ""
          }
        },
        "ffabbf3547d94edc87dcb2141da8593c": {
          "model_module": "@jupyter-widgets/base",
          "model_name": "LayoutModel",
          "model_module_version": "1.2.0",
          "state": {
            "_model_module": "@jupyter-widgets/base",
            "_model_module_version": "1.2.0",
            "_model_name": "LayoutModel",
            "_view_count": null,
            "_view_module": "@jupyter-widgets/base",
            "_view_module_version": "1.2.0",
            "_view_name": "LayoutView",
            "align_content": null,
            "align_items": null,
            "align_self": null,
            "border": null,
            "bottom": null,
            "display": null,
            "flex": null,
            "flex_flow": null,
            "grid_area": null,
            "grid_auto_columns": null,
            "grid_auto_flow": null,
            "grid_auto_rows": null,
            "grid_column": null,
            "grid_gap": null,
            "grid_row": null,
            "grid_template_areas": null,
            "grid_template_columns": null,
            "grid_template_rows": null,
            "height": "28px",
            "justify_content": null,
            "justify_items": null,
            "left": null,
            "margin": null,
            "max_height": null,
            "max_width": null,
            "min_height": null,
            "min_width": null,
            "object_fit": null,
            "object_position": null,
            "order": null,
            "overflow": null,
            "overflow_x": null,
            "overflow_y": null,
            "padding": "0px 0px 0px 4px",
            "right": null,
            "top": null,
            "visibility": null,
            "width": "28px"
          }
        },
        "183a9b970ee040e5b02b80941b88499d": {
          "model_module": "@jupyter-widgets/controls",
          "model_name": "DescriptionStyleModel",
          "model_module_version": "1.5.0",
          "state": {
            "_model_module": "@jupyter-widgets/controls",
            "_model_module_version": "1.5.0",
            "_model_name": "DescriptionStyleModel",
            "_view_count": null,
            "_view_module": "@jupyter-widgets/base",
            "_view_module_version": "1.2.0",
            "_view_name": "StyleView",
            "description_width": ""
          }
        },
        "901023feefc3430ebf936b0991ba3dc7": {
          "model_module": "jupyter-leaflet",
          "model_name": "LeafletTileLayerModel",
          "model_module_version": "^0.18",
          "state": {
            "_model_module": "jupyter-leaflet",
            "_model_module_version": "^0.18",
            "_model_name": "LeafletTileLayerModel",
            "_view_count": null,
            "_view_module": "jupyter-leaflet",
            "_view_module_version": "^0.18",
            "_view_name": "LeafletTileLayerView",
            "attribution": "Google Earth Engine",
            "base": false,
            "bottom": true,
            "bounds": null,
            "detect_retina": false,
            "loading": false,
            "max_native_zoom": null,
            "max_zoom": 24,
            "min_native_zoom": null,
            "min_zoom": 0,
            "name": "WUI_Intermix2016",
            "no_wrap": false,
            "opacity": 1,
            "options": [
              "attribution",
              "bounds",
              "detect_retina",
              "max_native_zoom",
              "max_zoom",
              "min_native_zoom",
              "min_zoom",
              "no_wrap",
              "tile_size",
              "tms",
              "zoom_offset"
            ],
            "pane": "",
            "popup": null,
            "popup_max_height": null,
            "popup_max_width": 300,
            "popup_min_width": 50,
            "show_loading": false,
            "subitems": [],
            "tile_size": 256,
            "tms": false,
            "url": "https://earthengine.googleapis.com/v1/projects/rohan-wui-iguide/maps/162e3219fc9d53d429b12cd3e947ce58-2f1a40a3a04f804ede4a2dda1c26d477/tiles/{z}/{x}/{y}",
            "visible": true,
            "zoom_offset": 0
          }
        },
        "3ff7e335d40d4ce7a50ea450acd8bbc8": {
          "model_module": "jupyter-leaflet",
          "model_name": "LeafletTileLayerModel",
          "model_module_version": "^0.18",
          "state": {
            "_model_module": "jupyter-leaflet",
            "_model_module_version": "^0.18",
            "_model_name": "LeafletTileLayerModel",
            "_view_count": null,
            "_view_module": "jupyter-leaflet",
            "_view_module_version": "^0.18",
            "_view_name": "LeafletTileLayerView",
            "attribution": "Google Earth Engine",
            "base": false,
            "bottom": true,
            "bounds": null,
            "detect_retina": false,
            "loading": true,
            "max_native_zoom": null,
            "max_zoom": 24,
            "min_native_zoom": null,
            "min_zoom": 0,
            "name": "WUI_Interface2016",
            "no_wrap": false,
            "opacity": 1,
            "options": [
              "attribution",
              "bounds",
              "detect_retina",
              "max_native_zoom",
              "max_zoom",
              "min_native_zoom",
              "min_zoom",
              "no_wrap",
              "tile_size",
              "tms",
              "zoom_offset"
            ],
            "pane": "",
            "popup": null,
            "popup_max_height": null,
            "popup_max_width": 300,
            "popup_min_width": 50,
            "show_loading": false,
            "subitems": [],
            "tile_size": 256,
            "tms": false,
            "url": "https://earthengine.googleapis.com/v1/projects/rohan-wui-iguide/maps/fa0baa391bf07d4dfa565577ef3e08c2-9ddac798a41e135bc29985088b6e917c/tiles/{z}/{x}/{y}",
            "visible": true,
            "zoom_offset": 0
          }
        },
        "2223d5b340504f868b84b99c2934d4d6": {
          "model_module": "jupyter-leaflet",
          "model_name": "LeafletTileLayerModel",
          "model_module_version": "^0.18",
          "state": {
            "_model_module": "jupyter-leaflet",
            "_model_module_version": "^0.18",
            "_model_name": "LeafletTileLayerModel",
            "_view_count": null,
            "_view_module": "jupyter-leaflet",
            "_view_module_version": "^0.18",
            "_view_name": "LeafletTileLayerView",
            "attribution": "Google Earth Engine",
            "base": false,
            "bottom": true,
            "bounds": null,
            "detect_retina": false,
            "loading": false,
            "max_native_zoom": null,
            "max_zoom": 24,
            "min_native_zoom": null,
            "min_zoom": 0,
            "name": "WUI_Intermix2013",
            "no_wrap": false,
            "opacity": 1,
            "options": [
              "attribution",
              "bounds",
              "detect_retina",
              "max_native_zoom",
              "max_zoom",
              "min_native_zoom",
              "min_zoom",
              "no_wrap",
              "tile_size",
              "tms",
              "zoom_offset"
            ],
            "pane": "",
            "popup": null,
            "popup_max_height": null,
            "popup_max_width": 300,
            "popup_min_width": 50,
            "show_loading": false,
            "subitems": [],
            "tile_size": 256,
            "tms": false,
            "url": "https://earthengine.googleapis.com/v1/projects/rohan-wui-iguide/maps/72387d7ee249577e164381c52ce24d3d-44b6b65238174a94a3ee92d6406ca2cf/tiles/{z}/{x}/{y}",
            "visible": true,
            "zoom_offset": 0
          }
        },
        "bc5462806ffe468a987d1298fdd78722": {
          "model_module": "jupyter-leaflet",
          "model_name": "LeafletTileLayerModel",
          "model_module_version": "^0.18",
          "state": {
            "_model_module": "jupyter-leaflet",
            "_model_module_version": "^0.18",
            "_model_name": "LeafletTileLayerModel",
            "_view_count": null,
            "_view_module": "jupyter-leaflet",
            "_view_module_version": "^0.18",
            "_view_name": "LeafletTileLayerView",
            "attribution": "Google Earth Engine",
            "base": false,
            "bottom": true,
            "bounds": null,
            "detect_retina": false,
            "loading": true,
            "max_native_zoom": null,
            "max_zoom": 24,
            "min_native_zoom": null,
            "min_zoom": 0,
            "name": "WUI_Interface2013",
            "no_wrap": false,
            "opacity": 1,
            "options": [
              "attribution",
              "bounds",
              "detect_retina",
              "max_native_zoom",
              "max_zoom",
              "min_native_zoom",
              "min_zoom",
              "no_wrap",
              "tile_size",
              "tms",
              "zoom_offset"
            ],
            "pane": "",
            "popup": null,
            "popup_max_height": null,
            "popup_max_width": 300,
            "popup_min_width": 50,
            "show_loading": false,
            "subitems": [],
            "tile_size": 256,
            "tms": false,
            "url": "https://earthengine.googleapis.com/v1/projects/rohan-wui-iguide/maps/95233ccb62f24d12999ad48198c2a15e-4d60cc017690c665bc68f237380be0a3/tiles/{z}/{x}/{y}",
            "visible": true,
            "zoom_offset": 0
          }
        },
        "0f5c6dea50fc4f19b61f78e25ac118d7": {
          "model_module": "jupyter-leaflet",
          "model_name": "LeafletTileLayerModel",
          "model_module_version": "^0.18",
          "state": {
            "_model_module": "jupyter-leaflet",
            "_model_module_version": "^0.18",
            "_model_name": "LeafletTileLayerModel",
            "_view_count": null,
            "_view_module": "jupyter-leaflet",
            "_view_module_version": "^0.18",
            "_view_name": "LeafletTileLayerView",
            "attribution": "Google Earth Engine",
            "base": false,
            "bottom": true,
            "bounds": null,
            "detect_retina": false,
            "loading": false,
            "max_native_zoom": null,
            "max_zoom": 24,
            "min_native_zoom": null,
            "min_zoom": 0,
            "name": "WUI_Intermix2011",
            "no_wrap": false,
            "opacity": 1,
            "options": [
              "attribution",
              "bounds",
              "detect_retina",
              "max_native_zoom",
              "max_zoom",
              "min_native_zoom",
              "min_zoom",
              "no_wrap",
              "tile_size",
              "tms",
              "zoom_offset"
            ],
            "pane": "",
            "popup": null,
            "popup_max_height": null,
            "popup_max_width": 300,
            "popup_min_width": 50,
            "show_loading": false,
            "subitems": [],
            "tile_size": 256,
            "tms": false,
            "url": "https://earthengine.googleapis.com/v1/projects/rohan-wui-iguide/maps/2942c2286ee1668706221e00bd1309b7-468ccad26376f86dae4484d2c03f8059/tiles/{z}/{x}/{y}",
            "visible": true,
            "zoom_offset": 0
          }
        },
        "2954a0015e5f424f88d517da621f139c": {
          "model_module": "jupyter-leaflet",
          "model_name": "LeafletTileLayerModel",
          "model_module_version": "^0.18",
          "state": {
            "_model_module": "jupyter-leaflet",
            "_model_module_version": "^0.18",
            "_model_name": "LeafletTileLayerModel",
            "_view_count": null,
            "_view_module": "jupyter-leaflet",
            "_view_module_version": "^0.18",
            "_view_name": "LeafletTileLayerView",
            "attribution": "Google Earth Engine",
            "base": false,
            "bottom": true,
            "bounds": null,
            "detect_retina": false,
            "loading": true,
            "max_native_zoom": null,
            "max_zoom": 24,
            "min_native_zoom": null,
            "min_zoom": 0,
            "name": "WUI_Interface2011",
            "no_wrap": false,
            "opacity": 1,
            "options": [
              "attribution",
              "bounds",
              "detect_retina",
              "max_native_zoom",
              "max_zoom",
              "min_native_zoom",
              "min_zoom",
              "no_wrap",
              "tile_size",
              "tms",
              "zoom_offset"
            ],
            "pane": "",
            "popup": null,
            "popup_max_height": null,
            "popup_max_width": 300,
            "popup_min_width": 50,
            "show_loading": false,
            "subitems": [],
            "tile_size": 256,
            "tms": false,
            "url": "https://earthengine.googleapis.com/v1/projects/rohan-wui-iguide/maps/4aa17d61fa940fc25b16efb00304aced-a24aacf9f01a8a4d37fad0316b0e65ab/tiles/{z}/{x}/{y}",
            "visible": true,
            "zoom_offset": 0
          }
        },
        "bfeac746264f4265ac11bc520c3eb823": {
          "model_module": "jupyter-leaflet",
          "model_name": "LeafletTileLayerModel",
          "model_module_version": "^0.18",
          "state": {
            "_model_module": "jupyter-leaflet",
            "_model_module_version": "^0.18",
            "_model_name": "LeafletTileLayerModel",
            "_view_count": null,
            "_view_module": "jupyter-leaflet",
            "_view_module_version": "^0.18",
            "_view_name": "LeafletTileLayerView",
            "attribution": "Google Earth Engine",
            "base": false,
            "bottom": true,
            "bounds": null,
            "detect_retina": false,
            "loading": false,
            "max_native_zoom": null,
            "max_zoom": 24,
            "min_native_zoom": null,
            "min_zoom": 0,
            "name": "WUI_Intermix2019",
            "no_wrap": false,
            "opacity": 1,
            "options": [
              "attribution",
              "bounds",
              "detect_retina",
              "max_native_zoom",
              "max_zoom",
              "min_native_zoom",
              "min_zoom",
              "no_wrap",
              "tile_size",
              "tms",
              "zoom_offset"
            ],
            "pane": "",
            "popup": null,
            "popup_max_height": null,
            "popup_max_width": 300,
            "popup_min_width": 50,
            "show_loading": false,
            "subitems": [],
            "tile_size": 256,
            "tms": false,
            "url": "https://earthengine.googleapis.com/v1/projects/rohan-wui-iguide/maps/51e608f2ae2dcbaa8f35fedc08fdacce-172a40a3b9ac0b639ccd038614430b92/tiles/{z}/{x}/{y}",
            "visible": true,
            "zoom_offset": 0
          }
        },
        "e07b630c726242179304c2eefdc337e2": {
          "model_module": "jupyter-leaflet",
          "model_name": "LeafletTileLayerModel",
          "model_module_version": "^0.18",
          "state": {
            "_model_module": "jupyter-leaflet",
            "_model_module_version": "^0.18",
            "_model_name": "LeafletTileLayerModel",
            "_view_count": null,
            "_view_module": "jupyter-leaflet",
            "_view_module_version": "^0.18",
            "_view_name": "LeafletTileLayerView",
            "attribution": "Google Earth Engine",
            "base": false,
            "bottom": true,
            "bounds": null,
            "detect_retina": false,
            "loading": false,
            "max_native_zoom": null,
            "max_zoom": 24,
            "min_native_zoom": null,
            "min_zoom": 0,
            "name": "WUI_Interface2019",
            "no_wrap": false,
            "opacity": 1,
            "options": [
              "attribution",
              "bounds",
              "detect_retina",
              "max_native_zoom",
              "max_zoom",
              "min_native_zoom",
              "min_zoom",
              "no_wrap",
              "tile_size",
              "tms",
              "zoom_offset"
            ],
            "pane": "",
            "popup": null,
            "popup_max_height": null,
            "popup_max_width": 300,
            "popup_min_width": 50,
            "show_loading": false,
            "subitems": [],
            "tile_size": 256,
            "tms": false,
            "url": "https://earthengine.googleapis.com/v1/projects/rohan-wui-iguide/maps/5077d9ff524fab530a56431c1f144371-eb7e20b749975e06783b58f52dd06f3e/tiles/{z}/{x}/{y}",
            "visible": true,
            "zoom_offset": 0
          }
        },
        "0d95ac53742a4461b5f52d17418491a1": {
          "model_module": "jupyter-leaflet",
          "model_name": "LeafletMapModel",
          "model_module_version": "^0.18",
          "state": {
            "_dom_classes": [],
            "_model_module": "jupyter-leaflet",
            "_model_module_version": "^0.18",
            "_model_name": "LeafletMapModel",
            "_view_count": null,
            "_view_module": "jupyter-leaflet",
            "_view_module_version": "^0.18",
            "_view_name": "LeafletMapView",
            "bottom": 848548,
            "bounce_at_zoom_limits": true,
            "box_zoom": true,
            "center": [
              32.49238861531074,
              -95.01500129699708
            ],
            "close_popup_on_click": true,
            "controls": [
              "IPY_MODEL_76eccc5a46ac42b6bed26a5de2e9d519",
              "IPY_MODEL_bc8cd5a81f80451e8413b14f3ac73d6b",
              "IPY_MODEL_caf23f3dc1bd4c6fbe9c1a261128a266",
              "IPY_MODEL_bb8732e26f4d49a6a105c87aefaf130f",
              "IPY_MODEL_5b90bcd2267e44cca02960c090abbab2",
              "IPY_MODEL_1e9327f5e2164bb2a0f55352ecfde964",
              "IPY_MODEL_db8fcb15d9aa4d328ddf1e3b49323383",
              "IPY_MODEL_cba66f32714848bc9d96ea4ed9dfddee"
            ],
            "crs": {
              "name": "EPSG3857",
              "custom": false
            },
            "default_style": "IPY_MODEL_0e38524e1e774584b422d5b641fd0eee",
            "double_click_zoom": true,
            "dragging": true,
            "dragging_style": "IPY_MODEL_a15904455a9349bd88b0f38e7cc6af79",
            "east": -94.88599777221681,
            "fullscreen": false,
            "inertia": true,
            "inertia_deceleration": 3000,
            "inertia_max_speed": 1500,
            "interpolation": "bilinear",
            "keyboard": true,
            "keyboard_pan_offset": 80,
            "keyboard_zoom_offset": 1,
            "layers": [
              "IPY_MODEL_282bb7525561463a9288533aa7d4a946",
              "IPY_MODEL_2fcbb4432bab4f33bce504efe7cf42ea",
              "IPY_MODEL_3e84ff92f05a4250a692ccc7c0f2b5db",
              "IPY_MODEL_f8f4d62d7202496694dc16ff827a6413"
            ],
            "layout": "IPY_MODEL_9d5cd84d008b49c49caf473d516314be",
            "left": 494322,
            "max_zoom": 24,
            "min_zoom": null,
            "modisdate": "2024-01-27",
            "north": 32.53581512290941,
            "options": [
              "bounce_at_zoom_limits",
              "box_zoom",
              "center",
              "close_popup_on_click",
              "double_click_zoom",
              "dragging",
              "fullscreen",
              "inertia",
              "inertia_deceleration",
              "inertia_max_speed",
              "interpolation",
              "keyboard",
              "keyboard_pan_offset",
              "keyboard_zoom_offset",
              "max_zoom",
              "min_zoom",
              "prefer_canvas",
              "scroll_wheel_zoom",
              "tap",
              "tap_tolerance",
              "touch_zoom",
              "world_copy_jump",
              "zoom",
              "zoom_animation_threshold",
              "zoom_delta",
              "zoom_snap"
            ],
            "panes": {},
            "prefer_canvas": false,
            "right": 495825,
            "scroll_wheel_zoom": true,
            "south": 32.44894113489079,
            "style": "IPY_MODEL_0e38524e1e774584b422d5b641fd0eee",
            "tap": true,
            "tap_tolerance": 15,
            "top": 847948,
            "touch_zoom": true,
            "west": -95.14400482177736,
            "window_url": "https://eciu3cb0ydu-496ff2e9c6d22116-0-colab.googleusercontent.com/outputframe.html?vrz=colab_20240125-060137_RC00_601416831",
            "world_copy_jump": false,
            "zoom": 13,
            "zoom_animation_threshold": 4,
            "zoom_delta": 1,
            "zoom_snap": 1
          }
        },
        "76eccc5a46ac42b6bed26a5de2e9d519": {
          "model_module": "jupyter-leaflet",
          "model_name": "LeafletWidgetControlModel",
          "model_module_version": "^0.18",
          "state": {
            "_model_module": "jupyter-leaflet",
            "_model_module_version": "^0.18",
            "_model_name": "LeafletWidgetControlModel",
            "_view_count": null,
            "_view_module": "jupyter-leaflet",
            "_view_module_version": "^0.18",
            "_view_name": "LeafletWidgetControlView",
            "max_height": null,
            "max_width": null,
            "min_height": null,
            "min_width": null,
            "options": [
              "position",
              "transparent_bg"
            ],
            "position": "topleft",
            "transparent_bg": false,
            "widget": "IPY_MODEL_46c218c48314400dbbafac08f38c6dda"
          }
        },
        "bc8cd5a81f80451e8413b14f3ac73d6b": {
          "model_module": "jupyter-leaflet",
          "model_name": "LeafletZoomControlModel",
          "model_module_version": "^0.18",
          "state": {
            "_model_module": "jupyter-leaflet",
            "_model_module_version": "^0.18",
            "_model_name": "LeafletZoomControlModel",
            "_view_count": null,
            "_view_module": "jupyter-leaflet",
            "_view_module_version": "^0.18",
            "_view_name": "LeafletZoomControlView",
            "options": [
              "position",
              "zoom_in_text",
              "zoom_in_title",
              "zoom_out_text",
              "zoom_out_title"
            ],
            "position": "topleft",
            "zoom_in_text": "+",
            "zoom_in_title": "Zoom in",
            "zoom_out_text": "-",
            "zoom_out_title": "Zoom out"
          }
        },
        "caf23f3dc1bd4c6fbe9c1a261128a266": {
          "model_module": "jupyter-leaflet",
          "model_name": "LeafletFullScreenControlModel",
          "model_module_version": "^0.18",
          "state": {
            "_model_module": "jupyter-leaflet",
            "_model_module_version": "^0.18",
            "_model_name": "LeafletFullScreenControlModel",
            "_view_count": null,
            "_view_module": "jupyter-leaflet",
            "_view_module_version": "^0.18",
            "_view_name": "LeafletFullScreenControlView",
            "options": [
              "position"
            ],
            "position": "topleft"
          }
        },
        "bb8732e26f4d49a6a105c87aefaf130f": {
          "model_module": "jupyter-leaflet",
          "model_name": "LeafletDrawControlModel",
          "model_module_version": "^0.18",
          "state": {
            "_model_module": "jupyter-leaflet",
            "_model_module_version": "^0.18",
            "_model_name": "LeafletDrawControlModel",
            "_view_count": null,
            "_view_module": "jupyter-leaflet",
            "_view_module_version": "^0.18",
            "_view_name": "LeafletDrawControlView",
            "circle": {},
            "circlemarker": {},
            "data": [],
            "edit": true,
            "marker": {
              "shapeOptions": {
                "color": "#3388ff"
              }
            },
            "options": [
              "position"
            ],
            "polygon": {
              "shapeOptions": {}
            },
            "polyline": {
              "shapeOptions": {}
            },
            "position": "topleft",
            "rectangle": {
              "shapeOptions": {
                "color": "#3388ff"
              }
            },
            "remove": true
          }
        },
        "5b90bcd2267e44cca02960c090abbab2": {
          "model_module": "jupyter-leaflet",
          "model_name": "LeafletScaleControlModel",
          "model_module_version": "^0.18",
          "state": {
            "_model_module": "jupyter-leaflet",
            "_model_module_version": "^0.18",
            "_model_name": "LeafletScaleControlModel",
            "_view_count": null,
            "_view_module": "jupyter-leaflet",
            "_view_module_version": "^0.18",
            "_view_name": "LeafletScaleControlView",
            "imperial": true,
            "max_width": 100,
            "metric": true,
            "options": [
              "imperial",
              "max_width",
              "metric",
              "position",
              "update_when_idle"
            ],
            "position": "bottomleft",
            "update_when_idle": false
          }
        },
        "1e9327f5e2164bb2a0f55352ecfde964": {
          "model_module": "jupyter-leaflet",
          "model_name": "LeafletMeasureControlModel",
          "model_module_version": "^0.18",
          "state": {
            "_custom_units": {},
            "_model_module": "jupyter-leaflet",
            "_model_module_version": "^0.18",
            "_model_name": "LeafletMeasureControlModel",
            "_view_count": null,
            "_view_module": "jupyter-leaflet",
            "_view_module_version": "^0.18",
            "_view_name": "LeafletMeasureControlView",
            "active_color": "orange",
            "capture_z_index": 10000,
            "completed_color": "#C8F2BE",
            "options": [
              "active_color",
              "capture_z_index",
              "completed_color",
              "popup_options",
              "position",
              "primary_area_unit",
              "primary_length_unit",
              "secondary_area_unit",
              "secondary_length_unit"
            ],
            "popup_options": {
              "className": "leaflet-measure-resultpopup",
              "autoPanPadding": [
                10,
                10
              ]
            },
            "position": "bottomleft",
            "primary_area_unit": "acres",
            "primary_length_unit": "kilometers",
            "secondary_area_unit": null,
            "secondary_length_unit": null
          }
        },
        "db8fcb15d9aa4d328ddf1e3b49323383": {
          "model_module": "jupyter-leaflet",
          "model_name": "LeafletWidgetControlModel",
          "model_module_version": "^0.18",
          "state": {
            "_model_module": "jupyter-leaflet",
            "_model_module_version": "^0.18",
            "_model_name": "LeafletWidgetControlModel",
            "_view_count": null,
            "_view_module": "jupyter-leaflet",
            "_view_module_version": "^0.18",
            "_view_name": "LeafletWidgetControlView",
            "max_height": null,
            "max_width": null,
            "min_height": null,
            "min_width": null,
            "options": [
              "position",
              "transparent_bg"
            ],
            "position": "topright",
            "transparent_bg": false,
            "widget": "IPY_MODEL_19e0118ab2cf402683c06eb7620620ac"
          }
        },
        "cba66f32714848bc9d96ea4ed9dfddee": {
          "model_module": "jupyter-leaflet",
          "model_name": "LeafletAttributionControlModel",
          "model_module_version": "^0.18",
          "state": {
            "_model_module": "jupyter-leaflet",
            "_model_module_version": "^0.18",
            "_model_name": "LeafletAttributionControlModel",
            "_view_count": null,
            "_view_module": "jupyter-leaflet",
            "_view_module_version": "^0.18",
            "_view_name": "LeafletAttributionControlView",
            "options": [
              "position",
              "prefix"
            ],
            "position": "bottomright",
            "prefix": "ipyleaflet"
          }
        },
        "0e38524e1e774584b422d5b641fd0eee": {
          "model_module": "jupyter-leaflet",
          "model_name": "LeafletMapStyleModel",
          "model_module_version": "^0.18",
          "state": {
            "_model_module": "jupyter-leaflet",
            "_model_module_version": "^0.18",
            "_model_name": "LeafletMapStyleModel",
            "_view_count": null,
            "_view_module": "@jupyter-widgets/base",
            "_view_module_version": "1.2.0",
            "_view_name": "StyleView",
            "cursor": "grab"
          }
        },
        "a15904455a9349bd88b0f38e7cc6af79": {
          "model_module": "jupyter-leaflet",
          "model_name": "LeafletMapStyleModel",
          "model_module_version": "^0.18",
          "state": {
            "_model_module": "jupyter-leaflet",
            "_model_module_version": "^0.18",
            "_model_name": "LeafletMapStyleModel",
            "_view_count": null,
            "_view_module": "@jupyter-widgets/base",
            "_view_module_version": "1.2.0",
            "_view_name": "StyleView",
            "cursor": "move"
          }
        },
        "282bb7525561463a9288533aa7d4a946": {
          "model_module": "jupyter-leaflet",
          "model_name": "LeafletTileLayerModel",
          "model_module_version": "^0.18",
          "state": {
            "_model_module": "jupyter-leaflet",
            "_model_module_version": "^0.18",
            "_model_name": "LeafletTileLayerModel",
            "_view_count": null,
            "_view_module": "jupyter-leaflet",
            "_view_module_version": "^0.18",
            "_view_name": "LeafletTileLayerView",
            "attribution": "&copy; <a href=\"https://www.openstreetmap.org/copyright\">OpenStreetMap</a> contributors",
            "base": true,
            "bottom": true,
            "bounds": null,
            "detect_retina": false,
            "loading": false,
            "max_native_zoom": null,
            "max_zoom": 19,
            "min_native_zoom": null,
            "min_zoom": 1,
            "name": "OpenStreetMap.Mapnik",
            "no_wrap": false,
            "opacity": 1,
            "options": [
              "attribution",
              "bounds",
              "detect_retina",
              "max_native_zoom",
              "max_zoom",
              "min_native_zoom",
              "min_zoom",
              "no_wrap",
              "tile_size",
              "tms",
              "zoom_offset"
            ],
            "pane": "",
            "popup": null,
            "popup_max_height": null,
            "popup_max_width": 300,
            "popup_min_width": 50,
            "show_loading": false,
            "subitems": [],
            "tile_size": 256,
            "tms": false,
            "url": "https://tile.openstreetmap.org/{z}/{x}/{y}.png",
            "visible": true,
            "zoom_offset": 0
          }
        },
        "2fcbb4432bab4f33bce504efe7cf42ea": {
          "model_module": "jupyter-leaflet",
          "model_name": "LeafletTileLayerModel",
          "model_module_version": "^0.18",
          "state": {
            "_model_module": "jupyter-leaflet",
            "_model_module_version": "^0.18",
            "_model_name": "LeafletTileLayerModel",
            "_view_count": null,
            "_view_module": "jupyter-leaflet",
            "_view_module_version": "^0.18",
            "_view_name": "LeafletTileLayerView",
            "attribution": "Esri",
            "base": false,
            "bottom": true,
            "bounds": null,
            "detect_retina": false,
            "loading": false,
            "max_native_zoom": null,
            "max_zoom": 24,
            "min_native_zoom": null,
            "min_zoom": 0,
            "name": "Esri.WorldImagery",
            "no_wrap": false,
            "opacity": 1,
            "options": [
              "attribution",
              "bounds",
              "detect_retina",
              "max_native_zoom",
              "max_zoom",
              "min_native_zoom",
              "min_zoom",
              "no_wrap",
              "tile_size",
              "tms",
              "zoom_offset"
            ],
            "pane": "",
            "popup": null,
            "popup_max_height": null,
            "popup_max_width": 300,
            "popup_min_width": 50,
            "show_loading": false,
            "subitems": [],
            "tile_size": 256,
            "tms": false,
            "url": "https://server.arcgisonline.com/ArcGIS/rest/services/World_Imagery/MapServer/tile/{z}/{y}/{x}",
            "visible": true,
            "zoom_offset": 0
          }
        },
        "3e84ff92f05a4250a692ccc7c0f2b5db": {
          "model_module": "jupyter-leaflet",
          "model_name": "LeafletTileLayerModel",
          "model_module_version": "^0.18",
          "state": {
            "_model_module": "jupyter-leaflet",
            "_model_module_version": "^0.18",
            "_model_name": "LeafletTileLayerModel",
            "_view_count": null,
            "_view_module": "jupyter-leaflet",
            "_view_module_version": "^0.18",
            "_view_name": "LeafletTileLayerView",
            "attribution": "Google Earth Engine",
            "base": false,
            "bottom": true,
            "bounds": null,
            "detect_retina": false,
            "loading": false,
            "max_native_zoom": null,
            "max_zoom": 24,
            "min_native_zoom": null,
            "min_zoom": 0,
            "name": "Increase (Red)",
            "no_wrap": false,
            "opacity": 1,
            "options": [
              "attribution",
              "bounds",
              "detect_retina",
              "max_native_zoom",
              "max_zoom",
              "min_native_zoom",
              "min_zoom",
              "no_wrap",
              "tile_size",
              "tms",
              "zoom_offset"
            ],
            "pane": "",
            "popup": null,
            "popup_max_height": null,
            "popup_max_width": 300,
            "popup_min_width": 50,
            "show_loading": false,
            "subitems": [],
            "tile_size": 256,
            "tms": false,
            "url": "https://earthengine.googleapis.com/v1/projects/rohan-wui-iguide/maps/e3c5e14a62220d952c7ba02d53ac3265-bb3aef1a27927b511644a42ce4cacf01/tiles/{z}/{x}/{y}",
            "visible": true,
            "zoom_offset": 0
          }
        },
        "f8f4d62d7202496694dc16ff827a6413": {
          "model_module": "jupyter-leaflet",
          "model_name": "LeafletTileLayerModel",
          "model_module_version": "^0.18",
          "state": {
            "_model_module": "jupyter-leaflet",
            "_model_module_version": "^0.18",
            "_model_name": "LeafletTileLayerModel",
            "_view_count": null,
            "_view_module": "jupyter-leaflet",
            "_view_module_version": "^0.18",
            "_view_name": "LeafletTileLayerView",
            "attribution": "Google Earth Engine",
            "base": false,
            "bottom": true,
            "bounds": null,
            "detect_retina": false,
            "loading": false,
            "max_native_zoom": null,
            "max_zoom": 24,
            "min_native_zoom": null,
            "min_zoom": 0,
            "name": "Decrease (Green)",
            "no_wrap": false,
            "opacity": 1,
            "options": [
              "attribution",
              "bounds",
              "detect_retina",
              "max_native_zoom",
              "max_zoom",
              "min_native_zoom",
              "min_zoom",
              "no_wrap",
              "tile_size",
              "tms",
              "zoom_offset"
            ],
            "pane": "",
            "popup": null,
            "popup_max_height": null,
            "popup_max_width": 300,
            "popup_min_width": 50,
            "show_loading": false,
            "subitems": [],
            "tile_size": 256,
            "tms": false,
            "url": "https://earthengine.googleapis.com/v1/projects/rohan-wui-iguide/maps/a0cc9877b25517a4139622b8101e4eb3-8db586cd217908de2273dbf4df764658/tiles/{z}/{x}/{y}",
            "visible": true,
            "zoom_offset": 0
          }
        },
        "9d5cd84d008b49c49caf473d516314be": {
          "model_module": "@jupyter-widgets/base",
          "model_name": "LayoutModel",
          "model_module_version": "1.2.0",
          "state": {
            "_model_module": "@jupyter-widgets/base",
            "_model_module_version": "1.2.0",
            "_model_name": "LayoutModel",
            "_view_count": null,
            "_view_module": "@jupyter-widgets/base",
            "_view_module_version": "1.2.0",
            "_view_name": "LayoutView",
            "align_content": null,
            "align_items": null,
            "align_self": null,
            "border": null,
            "bottom": null,
            "display": null,
            "flex": null,
            "flex_flow": null,
            "grid_area": null,
            "grid_auto_columns": null,
            "grid_auto_flow": null,
            "grid_auto_rows": null,
            "grid_column": null,
            "grid_gap": null,
            "grid_row": null,
            "grid_template_areas": null,
            "grid_template_columns": null,
            "grid_template_rows": null,
            "height": "600px",
            "justify_content": null,
            "justify_items": null,
            "left": null,
            "margin": null,
            "max_height": null,
            "max_width": null,
            "min_height": null,
            "min_width": null,
            "object_fit": null,
            "object_position": null,
            "order": null,
            "overflow": null,
            "overflow_x": null,
            "overflow_y": null,
            "padding": null,
            "right": null,
            "top": null,
            "visibility": null,
            "width": null
          }
        },
        "01a2fdbc15054c8f99eb463bd1f71d39": {
          "model_module": "jupyter-leaflet",
          "model_name": "LeafletMapStyleModel",
          "model_module_version": "^0.18",
          "state": {
            "_model_module": "jupyter-leaflet",
            "_model_module_version": "^0.18",
            "_model_name": "LeafletMapStyleModel",
            "_view_count": null,
            "_view_module": "@jupyter-widgets/base",
            "_view_module_version": "1.2.0",
            "_view_name": "StyleView",
            "cursor": "grab"
          }
        },
        "46c218c48314400dbbafac08f38c6dda": {
          "model_module": "@jupyter-widgets/controls",
          "model_name": "HBoxModel",
          "model_module_version": "1.5.0",
          "state": {
            "_dom_classes": [
              "geemap-colab"
            ],
            "_model_module": "@jupyter-widgets/controls",
            "_model_module_version": "1.5.0",
            "_model_name": "HBoxModel",
            "_view_count": null,
            "_view_module": "@jupyter-widgets/controls",
            "_view_module_version": "1.5.0",
            "_view_name": "HBoxView",
            "box_style": "",
            "children": [
              "IPY_MODEL_af2eba3e8e52497fa99d5d725afb6727"
            ],
            "layout": "IPY_MODEL_d65450e8f4c240ca94b0eb8863e93790"
          }
        },
        "19e0118ab2cf402683c06eb7620620ac": {
          "model_module": "@jupyter-widgets/controls",
          "model_name": "VBoxModel",
          "model_module_version": "1.5.0",
          "state": {
            "_dom_classes": [
              "geemap-colab"
            ],
            "_model_module": "@jupyter-widgets/controls",
            "_model_module_version": "1.5.0",
            "_model_name": "VBoxModel",
            "_view_count": null,
            "_view_module": "@jupyter-widgets/controls",
            "_view_module_version": "1.5.0",
            "_view_name": "VBoxView",
            "box_style": "",
            "children": [
              "IPY_MODEL_f71528f6beb145429714ee07e1dab1e7"
            ],
            "layout": "IPY_MODEL_aa4aa3ebe38c435a96aa74375936999e"
          }
        },
        "af2eba3e8e52497fa99d5d725afb6727": {
          "model_module": "@jupyter-widgets/controls",
          "model_name": "ToggleButtonModel",
          "model_module_version": "1.5.0",
          "state": {
            "_dom_classes": [],
            "_model_module": "@jupyter-widgets/controls",
            "_model_module_version": "1.5.0",
            "_model_name": "ToggleButtonModel",
            "_view_count": null,
            "_view_module": "@jupyter-widgets/controls",
            "_view_module_version": "1.5.0",
            "_view_name": "ToggleButtonView",
            "button_style": "",
            "description": "",
            "description_tooltip": null,
            "disabled": false,
            "icon": "globe",
            "layout": "IPY_MODEL_f95a5bb3aad0458faa54bce87e916d9a",
            "style": "IPY_MODEL_3a7d9254a83342909e4432ff484be166",
            "tooltip": "Search location/data",
            "value": false
          }
        },
        "d65450e8f4c240ca94b0eb8863e93790": {
          "model_module": "@jupyter-widgets/base",
          "model_name": "LayoutModel",
          "model_module_version": "1.2.0",
          "state": {
            "_model_module": "@jupyter-widgets/base",
            "_model_module_version": "1.2.0",
            "_model_name": "LayoutModel",
            "_view_count": null,
            "_view_module": "@jupyter-widgets/base",
            "_view_module_version": "1.2.0",
            "_view_name": "LayoutView",
            "align_content": null,
            "align_items": null,
            "align_self": null,
            "border": null,
            "bottom": null,
            "display": null,
            "flex": null,
            "flex_flow": null,
            "grid_area": null,
            "grid_auto_columns": null,
            "grid_auto_flow": null,
            "grid_auto_rows": null,
            "grid_column": null,
            "grid_gap": null,
            "grid_row": null,
            "grid_template_areas": null,
            "grid_template_columns": null,
            "grid_template_rows": null,
            "height": null,
            "justify_content": null,
            "justify_items": null,
            "left": null,
            "margin": null,
            "max_height": null,
            "max_width": null,
            "min_height": null,
            "min_width": null,
            "object_fit": null,
            "object_position": null,
            "order": null,
            "overflow": null,
            "overflow_x": null,
            "overflow_y": null,
            "padding": null,
            "right": null,
            "top": null,
            "visibility": null,
            "width": null
          }
        },
        "f71528f6beb145429714ee07e1dab1e7": {
          "model_module": "@jupyter-widgets/controls",
          "model_name": "ToggleButtonModel",
          "model_module_version": "1.5.0",
          "state": {
            "_dom_classes": [],
            "_model_module": "@jupyter-widgets/controls",
            "_model_module_version": "1.5.0",
            "_model_name": "ToggleButtonModel",
            "_view_count": null,
            "_view_module": "@jupyter-widgets/controls",
            "_view_module_version": "1.5.0",
            "_view_name": "ToggleButtonView",
            "button_style": "",
            "description": "",
            "description_tooltip": null,
            "disabled": false,
            "icon": "wrench",
            "layout": "IPY_MODEL_b548c41a5ba34be98c8db7f3448344b4",
            "style": "IPY_MODEL_158b364b7eab498380af0864401933d6",
            "tooltip": "Toolbar",
            "value": false
          }
        },
        "aa4aa3ebe38c435a96aa74375936999e": {
          "model_module": "@jupyter-widgets/base",
          "model_name": "LayoutModel",
          "model_module_version": "1.2.0",
          "state": {
            "_model_module": "@jupyter-widgets/base",
            "_model_module_version": "1.2.0",
            "_model_name": "LayoutModel",
            "_view_count": null,
            "_view_module": "@jupyter-widgets/base",
            "_view_module_version": "1.2.0",
            "_view_name": "LayoutView",
            "align_content": null,
            "align_items": null,
            "align_self": null,
            "border": null,
            "bottom": null,
            "display": null,
            "flex": null,
            "flex_flow": null,
            "grid_area": null,
            "grid_auto_columns": null,
            "grid_auto_flow": null,
            "grid_auto_rows": null,
            "grid_column": null,
            "grid_gap": null,
            "grid_row": null,
            "grid_template_areas": null,
            "grid_template_columns": null,
            "grid_template_rows": null,
            "height": null,
            "justify_content": null,
            "justify_items": null,
            "left": null,
            "margin": null,
            "max_height": null,
            "max_width": null,
            "min_height": null,
            "min_width": null,
            "object_fit": null,
            "object_position": null,
            "order": null,
            "overflow": null,
            "overflow_x": null,
            "overflow_y": null,
            "padding": null,
            "right": null,
            "top": null,
            "visibility": null,
            "width": null
          }
        },
        "f95a5bb3aad0458faa54bce87e916d9a": {
          "model_module": "@jupyter-widgets/base",
          "model_name": "LayoutModel",
          "model_module_version": "1.2.0",
          "state": {
            "_model_module": "@jupyter-widgets/base",
            "_model_module_version": "1.2.0",
            "_model_name": "LayoutModel",
            "_view_count": null,
            "_view_module": "@jupyter-widgets/base",
            "_view_module_version": "1.2.0",
            "_view_name": "LayoutView",
            "align_content": null,
            "align_items": null,
            "align_self": null,
            "border": null,
            "bottom": null,
            "display": null,
            "flex": null,
            "flex_flow": null,
            "grid_area": null,
            "grid_auto_columns": null,
            "grid_auto_flow": null,
            "grid_auto_rows": null,
            "grid_column": null,
            "grid_gap": null,
            "grid_row": null,
            "grid_template_areas": null,
            "grid_template_columns": null,
            "grid_template_rows": null,
            "height": "28px",
            "justify_content": null,
            "justify_items": null,
            "left": null,
            "margin": null,
            "max_height": null,
            "max_width": null,
            "min_height": null,
            "min_width": null,
            "object_fit": null,
            "object_position": null,
            "order": null,
            "overflow": null,
            "overflow_x": null,
            "overflow_y": null,
            "padding": "0px 0px 0px 4px",
            "right": null,
            "top": null,
            "visibility": null,
            "width": "28px"
          }
        },
        "3a7d9254a83342909e4432ff484be166": {
          "model_module": "@jupyter-widgets/controls",
          "model_name": "DescriptionStyleModel",
          "model_module_version": "1.5.0",
          "state": {
            "_model_module": "@jupyter-widgets/controls",
            "_model_module_version": "1.5.0",
            "_model_name": "DescriptionStyleModel",
            "_view_count": null,
            "_view_module": "@jupyter-widgets/base",
            "_view_module_version": "1.2.0",
            "_view_name": "StyleView",
            "description_width": ""
          }
        },
        "b548c41a5ba34be98c8db7f3448344b4": {
          "model_module": "@jupyter-widgets/base",
          "model_name": "LayoutModel",
          "model_module_version": "1.2.0",
          "state": {
            "_model_module": "@jupyter-widgets/base",
            "_model_module_version": "1.2.0",
            "_model_name": "LayoutModel",
            "_view_count": null,
            "_view_module": "@jupyter-widgets/base",
            "_view_module_version": "1.2.0",
            "_view_name": "LayoutView",
            "align_content": null,
            "align_items": null,
            "align_self": null,
            "border": null,
            "bottom": null,
            "display": null,
            "flex": null,
            "flex_flow": null,
            "grid_area": null,
            "grid_auto_columns": null,
            "grid_auto_flow": null,
            "grid_auto_rows": null,
            "grid_column": null,
            "grid_gap": null,
            "grid_row": null,
            "grid_template_areas": null,
            "grid_template_columns": null,
            "grid_template_rows": null,
            "height": "28px",
            "justify_content": null,
            "justify_items": null,
            "left": null,
            "margin": null,
            "max_height": null,
            "max_width": null,
            "min_height": null,
            "min_width": null,
            "object_fit": null,
            "object_position": null,
            "order": null,
            "overflow": null,
            "overflow_x": null,
            "overflow_y": null,
            "padding": "0px 0px 0px 4px",
            "right": null,
            "top": null,
            "visibility": null,
            "width": "28px"
          }
        },
        "158b364b7eab498380af0864401933d6": {
          "model_module": "@jupyter-widgets/controls",
          "model_name": "DescriptionStyleModel",
          "model_module_version": "1.5.0",
          "state": {
            "_model_module": "@jupyter-widgets/controls",
            "_model_module_version": "1.5.0",
            "_model_name": "DescriptionStyleModel",
            "_view_count": null,
            "_view_module": "@jupyter-widgets/base",
            "_view_module_version": "1.2.0",
            "_view_name": "StyleView",
            "description_width": ""
          }
        }
      }
    }
  },
  "nbformat": 4,
  "nbformat_minor": 5
}